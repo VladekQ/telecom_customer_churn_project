{
 "cells": [
  {
   "cell_type": "markdown",
   "metadata": {},
   "source": [
    "# <center>Описание проекта</center>"
   ]
  },
  {
   "cell_type": "markdown",
   "metadata": {},
   "source": [
    "<b><center>Telecom</center></b>\n",
    "    \n",
    "<center>Оператор связи \"Ниединогоразрыва.ком\" хочет научиться прогнозировать отток клиентов. Если выяснится, что пользователь планирует уйти, ему будут предложены промокоды и специальные условия. Команда оператора собрала персональные данные о некоторых клиентах, информацию об их тарифах и договорах.</center>\n",
    "\n",
    "<b><center>Описание услуг</center></b>\n",
    "\n",
    "Оператор предоставляет два основных типа услуг:\n",
    "\n",
    "1. Стационарную телефонную связь. Возможно подключение телефонного аппарата к нескольким линиям одновременно.\n",
    "\n",
    "2. Интернет. Подключение может быть двух типов: через телефонную линию (DSL, от англ. digital subscriber line, \"цифорвая абонентская линия\") или оптоволоконный кабель (Fiber optic).\n",
    "\n",
    "Также доступны такие услуги:\n",
    "\n",
    "* Интернет-безопасность: антивирус (DeviceProtection) и блокировка небезопасных сайтов (OnlineSecurity);\n",
    "\n",
    "* Выделенная линия технической поддержки (TechSupport);\n",
    "\n",
    "* Облачное хранилище файлов для резревного копирования данных (OnlineBackup);\n",
    "\n",
    "* Стриминговое телевидение (StreamingTV) и каталог фильмов (StreamingMovies).\n",
    "\n",
    "За услуги клиенты могут платить каждый месяц или заключить договор на 1-2 года. Доступны различные способы расчёта и возможность получения электронного чека.\n",
    "\n",
    "<b><center>Описание данных</center></b>\n",
    "\n",
    "Данные состоят из файлов, полученных из разных источников:\n",
    "\n",
    "* ***contract.csv*** - информация о договоре;\n",
    "\n",
    "* ***personal.csv*** - персональные данные клиента;\n",
    "\n",
    "* ***internet.csv*** - информация об интернет-услугах;\n",
    "\n",
    "* ***phone.csv*** - информация об услугах телефонии."
   ]
  },
  {
   "cell_type": "markdown",
   "metadata": {},
   "source": [
    "# Содержание:\n",
    "* [Загрузка данных](#Загрузка-данных)\n",
    "* [Анализ и предобработка данных](#Анализ-и-предобработка-данных)\n",
    "    * [Анализ данных о контрактах](#Анализ-данных-о-контрактах)\n",
    "    * [Анализ персональных данных](#Анализ-персональных-данных)\n",
    "    * [Анализ данных об интернет-услугах](#Анализ-данных-об-интернет-услугах)\n",
    "    * [Анализ данных об услугах телефонии](#Анализ-данных-об-услугах-телефонии)\n",
    "* [План выполнения задачи](#План-выполнения-задачи)\n",
    "* [Подготовка данных](#Подготовка-данных)\n",
    "    * [Соединение данных](#Соединение-данных)\n",
    "    * [Добавление новых признаков](#Добавление-новых-признаков)\n",
    "    * [Обработка категориальных признаков](#Обработка-категориальных-признаков)\n",
    "    * [Разделение датасетов и масштабирование](#Разделение-датасетов-и-масштабирование)\n",
    "* [Построение и обучение модели](#Построение-и-обучение-модели)\n",
    "    * [Модель Random Forest Classifier](#Модель-Random-Forest-Classifier)\n",
    "    * [Модель Gradient Boosting Classifier](#Модель-Gradient-Boosting-Classifier)\n",
    "    * [Модель XGBoostClassifier](#Модель-XGBoost-Classifier)\n",
    "* [Выбор модели](#Выбор-модели)\n",
    "* [Отчёт](#Отчёт)"
   ]
  },
  {
   "cell_type": "markdown",
   "metadata": {},
   "source": [
    "## Загрузка данных"
   ]
  },
  {
   "cell_type": "code",
   "execution_count": 1,
   "metadata": {},
   "outputs": [],
   "source": [
    "import pandas as pd\n",
    "import matplotlib.pyplot as plt\n",
    "import xgboost as xgb\n",
    "import seaborn as sns\n",
    "import numpy as np\n",
    "from sklearn.ensemble import GradientBoostingClassifier\n",
    "from sklearn import metrics\n",
    "from sklearn.model_selection import GridSearchCV\n",
    "from sklearn.model_selection import RandomizedSearchCV\n",
    "from sklearn.model_selection import cross_val_score\n",
    "from sklearn.model_selection import train_test_split\n",
    "from sklearn.preprocessing import StandardScaler\n",
    "from sklearn.ensemble import RandomForestClassifier\n",
    "import warnings\n",
    "\n",
    "warnings.filterwarnings('ignore')\n",
    "\n",
    "contract = pd.read_csv('/datasets/final_provider/contract.csv')\n",
    "personal = pd.read_csv('/datasets/final_provider/personal.csv')\n",
    "internet = pd.read_csv('/datasets/final_provider/internet.csv')\n",
    "phone = pd.read_csv('/datasets/final_provider/phone.csv')"
   ]
  },
  {
   "cell_type": "markdown",
   "metadata": {},
   "source": [
    "## Анализ и предобработка данных"
   ]
  },
  {
   "cell_type": "markdown",
   "metadata": {},
   "source": [
    "### Анализ данных о контрактах"
   ]
  },
  {
   "cell_type": "markdown",
   "metadata": {},
   "source": [
    "Проанализируем данные о контрактах. <b>Данные о контрактах актуальны на 01.02.2020 г.</b>"
   ]
  },
  {
   "cell_type": "code",
   "execution_count": 2,
   "metadata": {},
   "outputs": [
    {
     "data": {
      "text/html": [
       "<div>\n",
       "<style scoped>\n",
       "    .dataframe tbody tr th:only-of-type {\n",
       "        vertical-align: middle;\n",
       "    }\n",
       "\n",
       "    .dataframe tbody tr th {\n",
       "        vertical-align: top;\n",
       "    }\n",
       "\n",
       "    .dataframe thead th {\n",
       "        text-align: right;\n",
       "    }\n",
       "</style>\n",
       "<table border=\"1\" class=\"dataframe\">\n",
       "  <thead>\n",
       "    <tr style=\"text-align: right;\">\n",
       "      <th></th>\n",
       "      <th>customerID</th>\n",
       "      <th>BeginDate</th>\n",
       "      <th>EndDate</th>\n",
       "      <th>Type</th>\n",
       "      <th>PaperlessBilling</th>\n",
       "      <th>PaymentMethod</th>\n",
       "      <th>MonthlyCharges</th>\n",
       "      <th>TotalCharges</th>\n",
       "    </tr>\n",
       "  </thead>\n",
       "  <tbody>\n",
       "    <tr>\n",
       "      <td>0</td>\n",
       "      <td>7590-VHVEG</td>\n",
       "      <td>2020-01-01</td>\n",
       "      <td>No</td>\n",
       "      <td>Month-to-month</td>\n",
       "      <td>Yes</td>\n",
       "      <td>Electronic check</td>\n",
       "      <td>29.85</td>\n",
       "      <td>29.85</td>\n",
       "    </tr>\n",
       "    <tr>\n",
       "      <td>1</td>\n",
       "      <td>5575-GNVDE</td>\n",
       "      <td>2017-04-01</td>\n",
       "      <td>No</td>\n",
       "      <td>One year</td>\n",
       "      <td>No</td>\n",
       "      <td>Mailed check</td>\n",
       "      <td>56.95</td>\n",
       "      <td>1889.5</td>\n",
       "    </tr>\n",
       "    <tr>\n",
       "      <td>2</td>\n",
       "      <td>3668-QPYBK</td>\n",
       "      <td>2019-10-01</td>\n",
       "      <td>2019-12-01 00:00:00</td>\n",
       "      <td>Month-to-month</td>\n",
       "      <td>Yes</td>\n",
       "      <td>Mailed check</td>\n",
       "      <td>53.85</td>\n",
       "      <td>108.15</td>\n",
       "    </tr>\n",
       "  </tbody>\n",
       "</table>\n",
       "</div>"
      ],
      "text/plain": [
       "   customerID   BeginDate              EndDate            Type  \\\n",
       "0  7590-VHVEG  2020-01-01                   No  Month-to-month   \n",
       "1  5575-GNVDE  2017-04-01                   No        One year   \n",
       "2  3668-QPYBK  2019-10-01  2019-12-01 00:00:00  Month-to-month   \n",
       "\n",
       "  PaperlessBilling     PaymentMethod  MonthlyCharges TotalCharges  \n",
       "0              Yes  Electronic check           29.85        29.85  \n",
       "1               No      Mailed check           56.95       1889.5  \n",
       "2              Yes      Mailed check           53.85       108.15  "
      ]
     },
     "execution_count": 2,
     "metadata": {},
     "output_type": "execute_result"
    }
   ],
   "source": [
    "contract.head(3)"
   ]
  },
  {
   "cell_type": "markdown",
   "metadata": {},
   "source": [
    "- ***customerID*** - идентификатор клиента;\n",
    "- ***BeginDate*** - дата начала действия контракта;\n",
    "- ***EndDate*** - дата окончания действия контракта;\n",
    "- ***Type*** - тип контракта;\n",
    "- ***PaperlessBilling*** - безналичный расчёт;\n",
    "- ***PaymentMethod*** - метод платежа;\n",
    "- ***MonthlyCharges*** - ежемесячная плата;\n",
    "- ***TotalCharges*** - всего выплачено.\n",
    "\n",
    "<b>Переименуем столбцы для более удобной работы с ними</b>"
   ]
  },
  {
   "cell_type": "code",
   "execution_count": 3,
   "metadata": {},
   "outputs": [],
   "source": [
    "contract.columns = ['customer_id', 'begin_date', 'end_date', 'type', 'paperless_billing',\n",
    "                   'payment_method', 'monthly_charges', 'total_charges']"
   ]
  },
  {
   "cell_type": "code",
   "execution_count": 4,
   "metadata": {},
   "outputs": [
    {
     "name": "stdout",
     "output_type": "stream",
     "text": [
      "<class 'pandas.core.frame.DataFrame'>\n",
      "RangeIndex: 7043 entries, 0 to 7042\n",
      "Data columns (total 8 columns):\n",
      "customer_id          7043 non-null object\n",
      "begin_date           7043 non-null object\n",
      "end_date             7043 non-null object\n",
      "type                 7043 non-null object\n",
      "paperless_billing    7043 non-null object\n",
      "payment_method       7043 non-null object\n",
      "monthly_charges      7043 non-null float64\n",
      "total_charges        7043 non-null object\n",
      "dtypes: float64(1), object(7)\n",
      "memory usage: 440.3+ KB\n"
     ]
    }
   ],
   "source": [
    "contract.info()"
   ]
  },
  {
   "cell_type": "markdown",
   "metadata": {},
   "source": [
    "Столбец \"total_charges\" по какой-то причине имеет тип \"object\". Выясним причину и изменим тип данных в этом столбце на \"float\"."
   ]
  },
  {
   "cell_type": "code",
   "execution_count": 5,
   "metadata": {},
   "outputs": [
    {
     "name": "stdout",
     "output_type": "stream",
     "text": [
      "Значение, которое выдало ошибку: \" \" \n",
      "Значение, которое выдало ошибку: \" \" \n",
      "Значение, которое выдало ошибку: \" \" \n",
      "Значение, которое выдало ошибку: \" \" \n",
      "Значение, которое выдало ошибку: \" \" \n",
      "Значение, которое выдало ошибку: \" \" \n",
      "Значение, которое выдало ошибку: \" \" \n",
      "Значение, которое выдало ошибку: \" \" \n",
      "Значение, которое выдало ошибку: \" \" \n",
      "Значение, которое выдало ошибку: \" \" \n",
      "Значение, которое выдало ошибку: \" \" \n"
     ]
    }
   ],
   "source": [
    "for row in range(len(contract)):\n",
    "    try:\n",
    "        float(contract.loc[row, 'total_charges'])\n",
    "    except:\n",
    "        print('Значение, которое выдало ошибку: \"{}\" '.format(contract.loc[row, 'total_charges']))"
   ]
  },
  {
   "cell_type": "markdown",
   "metadata": {},
   "source": [
    "Мы видим, что в данных о сумме общих выплат присутствуют пустые записи, которые не считаются NaN-значениями. Предполагаю, что это означает, что с клиента не списано еще ни рубля. Проверим и убедимся в этом, если все так, то заменим эти пустые строки на нули."
   ]
  },
  {
   "cell_type": "code",
   "execution_count": 6,
   "metadata": {},
   "outputs": [
    {
     "data": {
      "text/html": [
       "<div>\n",
       "<style scoped>\n",
       "    .dataframe tbody tr th:only-of-type {\n",
       "        vertical-align: middle;\n",
       "    }\n",
       "\n",
       "    .dataframe tbody tr th {\n",
       "        vertical-align: top;\n",
       "    }\n",
       "\n",
       "    .dataframe thead th {\n",
       "        text-align: right;\n",
       "    }\n",
       "</style>\n",
       "<table border=\"1\" class=\"dataframe\">\n",
       "  <thead>\n",
       "    <tr style=\"text-align: right;\">\n",
       "      <th></th>\n",
       "      <th>customer_id</th>\n",
       "      <th>begin_date</th>\n",
       "      <th>end_date</th>\n",
       "      <th>type</th>\n",
       "      <th>paperless_billing</th>\n",
       "      <th>payment_method</th>\n",
       "      <th>monthly_charges</th>\n",
       "      <th>total_charges</th>\n",
       "    </tr>\n",
       "  </thead>\n",
       "  <tbody>\n",
       "    <tr>\n",
       "      <td>488</td>\n",
       "      <td>4472-LVYGI</td>\n",
       "      <td>2020-02-01</td>\n",
       "      <td>No</td>\n",
       "      <td>Two year</td>\n",
       "      <td>Yes</td>\n",
       "      <td>Bank transfer (automatic)</td>\n",
       "      <td>52.55</td>\n",
       "      <td></td>\n",
       "    </tr>\n",
       "    <tr>\n",
       "      <td>753</td>\n",
       "      <td>3115-CZMZD</td>\n",
       "      <td>2020-02-01</td>\n",
       "      <td>No</td>\n",
       "      <td>Two year</td>\n",
       "      <td>No</td>\n",
       "      <td>Mailed check</td>\n",
       "      <td>20.25</td>\n",
       "      <td></td>\n",
       "    </tr>\n",
       "    <tr>\n",
       "      <td>936</td>\n",
       "      <td>5709-LVOEQ</td>\n",
       "      <td>2020-02-01</td>\n",
       "      <td>No</td>\n",
       "      <td>Two year</td>\n",
       "      <td>No</td>\n",
       "      <td>Mailed check</td>\n",
       "      <td>80.85</td>\n",
       "      <td></td>\n",
       "    </tr>\n",
       "    <tr>\n",
       "      <td>1082</td>\n",
       "      <td>4367-NUYAO</td>\n",
       "      <td>2020-02-01</td>\n",
       "      <td>No</td>\n",
       "      <td>Two year</td>\n",
       "      <td>No</td>\n",
       "      <td>Mailed check</td>\n",
       "      <td>25.75</td>\n",
       "      <td></td>\n",
       "    </tr>\n",
       "    <tr>\n",
       "      <td>1340</td>\n",
       "      <td>1371-DWPAZ</td>\n",
       "      <td>2020-02-01</td>\n",
       "      <td>No</td>\n",
       "      <td>Two year</td>\n",
       "      <td>No</td>\n",
       "      <td>Credit card (automatic)</td>\n",
       "      <td>56.05</td>\n",
       "      <td></td>\n",
       "    </tr>\n",
       "    <tr>\n",
       "      <td>3331</td>\n",
       "      <td>7644-OMVMY</td>\n",
       "      <td>2020-02-01</td>\n",
       "      <td>No</td>\n",
       "      <td>Two year</td>\n",
       "      <td>No</td>\n",
       "      <td>Mailed check</td>\n",
       "      <td>19.85</td>\n",
       "      <td></td>\n",
       "    </tr>\n",
       "    <tr>\n",
       "      <td>3826</td>\n",
       "      <td>3213-VVOLG</td>\n",
       "      <td>2020-02-01</td>\n",
       "      <td>No</td>\n",
       "      <td>Two year</td>\n",
       "      <td>No</td>\n",
       "      <td>Mailed check</td>\n",
       "      <td>25.35</td>\n",
       "      <td></td>\n",
       "    </tr>\n",
       "    <tr>\n",
       "      <td>4380</td>\n",
       "      <td>2520-SGTTA</td>\n",
       "      <td>2020-02-01</td>\n",
       "      <td>No</td>\n",
       "      <td>Two year</td>\n",
       "      <td>No</td>\n",
       "      <td>Mailed check</td>\n",
       "      <td>20.00</td>\n",
       "      <td></td>\n",
       "    </tr>\n",
       "    <tr>\n",
       "      <td>5218</td>\n",
       "      <td>2923-ARZLG</td>\n",
       "      <td>2020-02-01</td>\n",
       "      <td>No</td>\n",
       "      <td>One year</td>\n",
       "      <td>Yes</td>\n",
       "      <td>Mailed check</td>\n",
       "      <td>19.70</td>\n",
       "      <td></td>\n",
       "    </tr>\n",
       "    <tr>\n",
       "      <td>6670</td>\n",
       "      <td>4075-WKNIU</td>\n",
       "      <td>2020-02-01</td>\n",
       "      <td>No</td>\n",
       "      <td>Two year</td>\n",
       "      <td>No</td>\n",
       "      <td>Mailed check</td>\n",
       "      <td>73.35</td>\n",
       "      <td></td>\n",
       "    </tr>\n",
       "    <tr>\n",
       "      <td>6754</td>\n",
       "      <td>2775-SEFEE</td>\n",
       "      <td>2020-02-01</td>\n",
       "      <td>No</td>\n",
       "      <td>Two year</td>\n",
       "      <td>Yes</td>\n",
       "      <td>Bank transfer (automatic)</td>\n",
       "      <td>61.90</td>\n",
       "      <td></td>\n",
       "    </tr>\n",
       "  </tbody>\n",
       "</table>\n",
       "</div>"
      ],
      "text/plain": [
       "     customer_id  begin_date end_date      type paperless_billing  \\\n",
       "488   4472-LVYGI  2020-02-01       No  Two year               Yes   \n",
       "753   3115-CZMZD  2020-02-01       No  Two year                No   \n",
       "936   5709-LVOEQ  2020-02-01       No  Two year                No   \n",
       "1082  4367-NUYAO  2020-02-01       No  Two year                No   \n",
       "1340  1371-DWPAZ  2020-02-01       No  Two year                No   \n",
       "3331  7644-OMVMY  2020-02-01       No  Two year                No   \n",
       "3826  3213-VVOLG  2020-02-01       No  Two year                No   \n",
       "4380  2520-SGTTA  2020-02-01       No  Two year                No   \n",
       "5218  2923-ARZLG  2020-02-01       No  One year               Yes   \n",
       "6670  4075-WKNIU  2020-02-01       No  Two year                No   \n",
       "6754  2775-SEFEE  2020-02-01       No  Two year               Yes   \n",
       "\n",
       "                 payment_method  monthly_charges total_charges  \n",
       "488   Bank transfer (automatic)            52.55                \n",
       "753                Mailed check            20.25                \n",
       "936                Mailed check            80.85                \n",
       "1082               Mailed check            25.75                \n",
       "1340    Credit card (automatic)            56.05                \n",
       "3331               Mailed check            19.85                \n",
       "3826               Mailed check            25.35                \n",
       "4380               Mailed check            20.00                \n",
       "5218               Mailed check            19.70                \n",
       "6670               Mailed check            73.35                \n",
       "6754  Bank transfer (automatic)            61.90                "
      ]
     },
     "execution_count": 6,
     "metadata": {},
     "output_type": "execute_result"
    }
   ],
   "source": [
    "contract[contract['total_charges'] == ' ']"
   ]
  },
  {
   "cell_type": "markdown",
   "metadata": {},
   "source": [
    "Так и есть, пустое значение в данном столбце стоит у тех клиентов, которые заключили контракт на 01.02.2020 г. Наши данные именно от этой даты, соответственно, с клиентов еще не было ничего списано. Заменим эти значения на нули."
   ]
  },
  {
   "cell_type": "code",
   "execution_count": 7,
   "metadata": {},
   "outputs": [],
   "source": [
    "contract['total_charges'] = contract['total_charges'].replace(' ', 0)"
   ]
  },
  {
   "cell_type": "code",
   "execution_count": 8,
   "metadata": {},
   "outputs": [],
   "source": [
    "contract['total_charges'] = contract['total_charges'].astype('float')"
   ]
  },
  {
   "cell_type": "code",
   "execution_count": 9,
   "metadata": {},
   "outputs": [
    {
     "data": {
      "text/html": [
       "<div>\n",
       "<style scoped>\n",
       "    .dataframe tbody tr th:only-of-type {\n",
       "        vertical-align: middle;\n",
       "    }\n",
       "\n",
       "    .dataframe tbody tr th {\n",
       "        vertical-align: top;\n",
       "    }\n",
       "\n",
       "    .dataframe thead th {\n",
       "        text-align: right;\n",
       "    }\n",
       "</style>\n",
       "<table border=\"1\" class=\"dataframe\">\n",
       "  <thead>\n",
       "    <tr style=\"text-align: right;\">\n",
       "      <th></th>\n",
       "      <th>monthly_charges</th>\n",
       "      <th>total_charges</th>\n",
       "    </tr>\n",
       "  </thead>\n",
       "  <tbody>\n",
       "    <tr>\n",
       "      <td>count</td>\n",
       "      <td>7043.000000</td>\n",
       "      <td>7043.000000</td>\n",
       "    </tr>\n",
       "    <tr>\n",
       "      <td>mean</td>\n",
       "      <td>64.761692</td>\n",
       "      <td>2279.734304</td>\n",
       "    </tr>\n",
       "    <tr>\n",
       "      <td>std</td>\n",
       "      <td>30.090047</td>\n",
       "      <td>2266.794470</td>\n",
       "    </tr>\n",
       "    <tr>\n",
       "      <td>min</td>\n",
       "      <td>18.250000</td>\n",
       "      <td>0.000000</td>\n",
       "    </tr>\n",
       "    <tr>\n",
       "      <td>25%</td>\n",
       "      <td>35.500000</td>\n",
       "      <td>398.550000</td>\n",
       "    </tr>\n",
       "    <tr>\n",
       "      <td>50%</td>\n",
       "      <td>70.350000</td>\n",
       "      <td>1394.550000</td>\n",
       "    </tr>\n",
       "    <tr>\n",
       "      <td>75%</td>\n",
       "      <td>89.850000</td>\n",
       "      <td>3786.600000</td>\n",
       "    </tr>\n",
       "    <tr>\n",
       "      <td>max</td>\n",
       "      <td>118.750000</td>\n",
       "      <td>8684.800000</td>\n",
       "    </tr>\n",
       "  </tbody>\n",
       "</table>\n",
       "</div>"
      ],
      "text/plain": [
       "       monthly_charges  total_charges\n",
       "count      7043.000000    7043.000000\n",
       "mean         64.761692    2279.734304\n",
       "std          30.090047    2266.794470\n",
       "min          18.250000       0.000000\n",
       "25%          35.500000     398.550000\n",
       "50%          70.350000    1394.550000\n",
       "75%          89.850000    3786.600000\n",
       "max         118.750000    8684.800000"
      ]
     },
     "execution_count": 9,
     "metadata": {},
     "output_type": "execute_result"
    }
   ],
   "source": [
    "contract.describe()"
   ]
  },
  {
   "cell_type": "markdown",
   "metadata": {},
   "source": [
    "Также необходимо привести столбцы с датой к типу datetime. Строки, где не указана дата окончания договора обработаем как \"пустую дату\"."
   ]
  },
  {
   "cell_type": "code",
   "execution_count": 10,
   "metadata": {},
   "outputs": [],
   "source": [
    "contract['begin_date'] = pd.to_datetime(contract['begin_date'], errors='coerce')\n",
    "contract['end_date'] = pd.to_datetime(contract['end_date'], errors='coerce')"
   ]
  },
  {
   "cell_type": "code",
   "execution_count": 11,
   "metadata": {},
   "outputs": [
    {
     "name": "stdout",
     "output_type": "stream",
     "text": [
      "<class 'pandas.core.frame.DataFrame'>\n",
      "RangeIndex: 7043 entries, 0 to 7042\n",
      "Data columns (total 8 columns):\n",
      "customer_id          7043 non-null object\n",
      "begin_date           7043 non-null datetime64[ns]\n",
      "end_date             1869 non-null datetime64[ns]\n",
      "type                 7043 non-null object\n",
      "paperless_billing    7043 non-null object\n",
      "payment_method       7043 non-null object\n",
      "monthly_charges      7043 non-null float64\n",
      "total_charges        7043 non-null float64\n",
      "dtypes: datetime64[ns](2), float64(2), object(4)\n",
      "memory usage: 440.3+ KB\n"
     ]
    }
   ],
   "source": [
    "contract.info()"
   ]
  },
  {
   "cell_type": "markdown",
   "metadata": {},
   "source": [
    "<b>Построим некоторые графики, отображающие данные</b>"
   ]
  },
  {
   "cell_type": "code",
   "execution_count": 12,
   "metadata": {
    "scrolled": false
   },
   "outputs": [
    {
     "data": {
      "image/png": "[encoded data removed]",
      "text/plain": [
       "<Figure size 864x2088 with 6 Axes>"
      ]
     },
     "metadata": {
      "needs_background": "light"
     },
     "output_type": "display_data"
    }
   ],
   "source": [
    "fig, axs = plt.subplots(6, 1, figsize=(12, 29), constrained_layout=True)\n",
    "\n",
    "axs[0].set_title('Распределение клиентов по \"Ежемесячному платежу\"')\n",
    "axs[0].tick_params(axis='y', labelsize=12)\n",
    "axs[0].tick_params(axis='x', labelsize=12)\n",
    "contract['monthly_charges'].plot(kind='hist', ax=axs[0], color='#06D6A0', bins=[10, 20, 30, 40, 50, 60,\n",
    "                                                                            70, 80, 90, 100, 110, 120]);\n",
    "axs[0].set_xlabel('Ежемесячный платеж', fontsize=12);\n",
    "axs[0].set_ylabel('Количество клиентов', fontsize=12);\n",
    "\n",
    "axs[1].set_title('Оформление договоров клиентов в течение времени (по дате начала договора)')\n",
    "axs[1].tick_params(axis='y', labelsize=12)\n",
    "axs[1].tick_params(axis='x', labelsize=12)\n",
    "contract.pivot_table(index='begin_date', values='customer_id', aggfunc=len).plot(ax=axs[1], color='#06D6A0');\n",
    "axs[1].set_xlabel('Дата', fontsize=12);\n",
    "axs[1].set_ylabel('Количество клиентов', fontsize=12);\n",
    "\n",
    "axs[2].set_title('Отток клиентов в течение времени (по дате окончания договора)')\n",
    "axs[2].tick_params(axis='y', labelsize=12)\n",
    "axs[2].tick_params(axis='x', labelsize=12)\n",
    "contract.pivot_table(index='end_date', values='customer_id', aggfunc=len).plot(ax=axs[2], color='#06D6A0');\n",
    "axs[2].set_xlabel('Дата', fontsize=12);\n",
    "axs[2].set_ylabel('Количество клиентов', fontsize=12);\n",
    "\n",
    "axs[3].set_title('Распределение клиентов по типам договора')\n",
    "axs[3].tick_params(axis='y', labelsize=12)\n",
    "contract.pivot_table(index='type', values='customer_id', aggfunc=len).sort_values(by='customer_id', ascending=False) \\\n",
    "                                                                     .plot(kind='bar', ax=axs[3], color='#06D6A0');\n",
    "axs[3].tick_params(axis='x', labelsize=12, rotation=50)\n",
    "axs[3].set_xlabel('Тип договора', fontsize=12);\n",
    "axs[3].set_ylabel('Количество клиентов', fontsize=12);\n",
    "\n",
    "axs[4].set_title('Распределение клиентов по безналичному расчёту (Да/Нет)')\n",
    "axs[4].tick_params(axis='y', labelsize=12)\n",
    "contract.pivot_table(index='paperless_billing', values='customer_id', aggfunc=len).sort_values(by='customer_id', ascending=False) \\\n",
    "                                                                     .plot(kind='bar', ax=axs[4], color='#06D6A0');\n",
    "axs[4].tick_params(axis='x', labelsize=12, rotation=50)\n",
    "axs[4].set_xlabel('Безналичный расчёт', fontsize=12);\n",
    "axs[4].set_ylabel('Количество клиентов', fontsize=12);\n",
    "\n",
    "axs[5].set_title('Распределение клиентов по типу платежа')\n",
    "axs[5].tick_params(axis='y', labelsize=12)\n",
    "contract.pivot_table(index='payment_method', values='customer_id', aggfunc=len).sort_values(by='customer_id', ascending=False) \\\n",
    "                                                                     .plot(kind='bar', ax=axs[5], color='#06D6A0');\n",
    "axs[5].tick_params(axis='x', labelsize=12, rotation=50)\n",
    "axs[5].set_xlabel('Тип платежа', fontsize=12);\n",
    "axs[5].set_ylabel('Количество клиентов', fontsize=12);"
   ]
  },
  {
   "cell_type": "markdown",
   "metadata": {},
   "source": [
    "Основываясь на графиках, можно сделать следующие выводы:\n",
    "\n",
    "* Большинство клиентов платят ежемесячно либо от 10 до 30, либо от 70 до 110;\n",
    "\n",
    "\n",
    "* Наибольший приток клиентов пришелся на 1-й квартал 2014 года. Затем приток клиентов оставался стабильным до 2019 года. С начала 2019 года приток клиентов серьезно увеличился;\n",
    "\n",
    "\n",
    "* Отток клиентов пришелся только на 2019-2020 год. Наибольший показатель пришелся на Ноябрь 2019 года, тогда ушло около 485 клиентов;\n",
    "\n",
    "\n",
    "* Как и следовало ожидать, наиболее популярный тип договора: Ежемесячный договор. Договоры на 1 и 2 года распределились практически одинаково;\n",
    "\n",
    "\n",
    "* Большая часть клиентов рассчитываются безналичным способом;\n",
    "\n",
    "\n",
    "* Наиболее популярный метод платежа: Электронный чек. Остальные методы платежа распределились одинаково."
   ]
  },
  {
   "cell_type": "markdown",
   "metadata": {},
   "source": [
    "<b>Вывод:</b> Пропущенные значения в данных о контрактах находятся только в столбце \"end_date\", они означают, что контракт еще не разорван/не истек срок его действия. В остальных столбцах пропущенных значений не наблюдается. Столбцы переименованы в более удобный вид. Типы данных приведены к необходимым. \n",
    "\n",
    "Средняя ежемесячная плата клиентов: 64.76;\n",
    "\n",
    "Средняя сумма всех выплат клиентов: 2279.73."
   ]
  },
  {
   "cell_type": "markdown",
   "metadata": {},
   "source": [
    "### Анализ персональных данных"
   ]
  },
  {
   "cell_type": "code",
   "execution_count": 13,
   "metadata": {},
   "outputs": [
    {
     "data": {
      "text/html": [
       "<div>\n",
       "<style scoped>\n",
       "    .dataframe tbody tr th:only-of-type {\n",
       "        vertical-align: middle;\n",
       "    }\n",
       "\n",
       "    .dataframe tbody tr th {\n",
       "        vertical-align: top;\n",
       "    }\n",
       "\n",
       "    .dataframe thead th {\n",
       "        text-align: right;\n",
       "    }\n",
       "</style>\n",
       "<table border=\"1\" class=\"dataframe\">\n",
       "  <thead>\n",
       "    <tr style=\"text-align: right;\">\n",
       "      <th></th>\n",
       "      <th>customerID</th>\n",
       "      <th>gender</th>\n",
       "      <th>SeniorCitizen</th>\n",
       "      <th>Partner</th>\n",
       "      <th>Dependents</th>\n",
       "    </tr>\n",
       "  </thead>\n",
       "  <tbody>\n",
       "    <tr>\n",
       "      <td>0</td>\n",
       "      <td>7590-VHVEG</td>\n",
       "      <td>Female</td>\n",
       "      <td>0</td>\n",
       "      <td>Yes</td>\n",
       "      <td>No</td>\n",
       "    </tr>\n",
       "    <tr>\n",
       "      <td>1</td>\n",
       "      <td>5575-GNVDE</td>\n",
       "      <td>Male</td>\n",
       "      <td>0</td>\n",
       "      <td>No</td>\n",
       "      <td>No</td>\n",
       "    </tr>\n",
       "    <tr>\n",
       "      <td>2</td>\n",
       "      <td>3668-QPYBK</td>\n",
       "      <td>Male</td>\n",
       "      <td>0</td>\n",
       "      <td>No</td>\n",
       "      <td>No</td>\n",
       "    </tr>\n",
       "  </tbody>\n",
       "</table>\n",
       "</div>"
      ],
      "text/plain": [
       "   customerID  gender  SeniorCitizen Partner Dependents\n",
       "0  7590-VHVEG  Female              0     Yes         No\n",
       "1  5575-GNVDE    Male              0      No         No\n",
       "2  3668-QPYBK    Male              0      No         No"
      ]
     },
     "execution_count": 13,
     "metadata": {},
     "output_type": "execute_result"
    }
   ],
   "source": [
    "personal.head(3)"
   ]
  },
  {
   "cell_type": "markdown",
   "metadata": {},
   "source": [
    "- ***customerID*** - идентификатор клиента;\n",
    "- ***gender*** - пол клиента;\n",
    "- ***SeniorCitizen*** - 1 - пенсионер / 0 - не пенсионер;\n",
    "- ***Partner*** - вероятно флаг \"супруга\". Yes - есть супруг, No - нет супруга;\n",
    "- ***Dependents*** - флаг \"иждивенцов\", вероятно речь идет о детях. Yes - есть, No - нет.\n",
    "\n",
    "<b>Переименуем столбцы для более удобной работы с ними</b>"
   ]
  },
  {
   "cell_type": "code",
   "execution_count": 14,
   "metadata": {},
   "outputs": [],
   "source": [
    "personal.columns = ['customer_id', 'gender', 'senior_citizen', 'partner', 'dependents']"
   ]
  },
  {
   "cell_type": "code",
   "execution_count": 15,
   "metadata": {},
   "outputs": [
    {
     "name": "stdout",
     "output_type": "stream",
     "text": [
      "<class 'pandas.core.frame.DataFrame'>\n",
      "RangeIndex: 7043 entries, 0 to 7042\n",
      "Data columns (total 5 columns):\n",
      "customer_id       7043 non-null object\n",
      "gender            7043 non-null object\n",
      "senior_citizen    7043 non-null int64\n",
      "partner           7043 non-null object\n",
      "dependents        7043 non-null object\n",
      "dtypes: int64(1), object(4)\n",
      "memory usage: 275.2+ KB\n"
     ]
    }
   ],
   "source": [
    "personal.info()"
   ]
  },
  {
   "cell_type": "markdown",
   "metadata": {},
   "source": [
    "<b>Построим графики, отобрающие данные</b>"
   ]
  },
  {
   "cell_type": "code",
   "execution_count": 16,
   "metadata": {},
   "outputs": [
    {
     "data": {
      "image/png": "[encoded data removed]",
      "text/plain": [
       "<Figure size 864x1296 with 4 Axes>"
      ]
     },
     "metadata": {
      "needs_background": "light"
     },
     "output_type": "display_data"
    }
   ],
   "source": [
    "fig, axs = plt.subplots(4, 1, figsize=(12, 18), constrained_layout=True)\n",
    "\n",
    "axs[0].set_title('Распределение клиентов по полу')\n",
    "axs[0].tick_params(axis='y', labelsize=12)\n",
    "axs[0].tick_params(axis='x', labelsize=12)\n",
    "personal.pivot_table(index='gender', values='customer_id', aggfunc=len).plot(kind='bar', ax=axs[0], color='#06D6A0');\n",
    "axs[0].set_xlabel('Пол', fontsize=12);\n",
    "axs[0].set_ylabel('Количество клиентов', fontsize=12);\n",
    "\n",
    "axs[1].set_title('Распределение клиентов на не пенсионеров/пенсионеров')\n",
    "axs[1].tick_params(axis='y', labelsize=12)\n",
    "axs[1].tick_params(axis='x', labelsize=12)\n",
    "personal.pivot_table(index='senior_citizen', values='customer_id', aggfunc=len).plot(kind='bar', ax=axs[1], color='#06D6A0');\n",
    "axs[1].set_xlabel('Не пенсионер/пенсионер', fontsize=12);\n",
    "axs[1].set_ylabel('Количество клиентов', fontsize=12);\n",
    "\n",
    "axs[2].set_title('Распределение клиентов по наличию супруга')\n",
    "axs[2].tick_params(axis='y', labelsize=12)\n",
    "axs[2].tick_params(axis='x', labelsize=12)\n",
    "personal.pivot_table(index='partner', values='customer_id', aggfunc=len).plot(kind='bar', ax=axs[2], color='#06D6A0');\n",
    "axs[2].set_xlabel('Нет супруга/Есть супруг', fontsize=12);\n",
    "axs[2].set_ylabel('Количество клиентов', fontsize=12);\n",
    "\n",
    "axs[3].set_title('Распределение клиентов по наличию иждивенцев')\n",
    "axs[3].tick_params(axis='y', labelsize=12)\n",
    "axs[3].tick_params(axis='x', labelsize=12)\n",
    "personal.pivot_table(index='dependents', values='customer_id', aggfunc=len).plot(kind='bar', ax=axs[3], color='#06D6A0');\n",
    "axs[3].set_xlabel('Нет иждивенцов/Есть иждивенцы', fontsize=12);\n",
    "axs[3].set_ylabel('Количество клиентов', fontsize=12);"
   ]
  },
  {
   "cell_type": "markdown",
   "metadata": {},
   "source": [
    "Основываясь на графиках, можно сделать следующие выводы:\n",
    "\n",
    "* Среди клиентов примерно одинаковое количество мужчин и женщин;\n",
    "\n",
    "* Большинство клиентов не являются пенсионерами. 1142 из 7043 клиентов являются пенсионерами;\n",
    "\n",
    "* Количество клиентов без супруга немного превышает количество клиентов с супругом;\n",
    "\n",
    "* Большинство клиентов не имеют иждивенцов. Около 2200 клиентов из 7043 имеют иждивценов."
   ]
  },
  {
   "cell_type": "markdown",
   "metadata": {},
   "source": [
    "<b>Вывод:</b> Пропущенных значений в данных не наблюдается. Данные имеют необходимый тип (на данный момент). Среди 7043 клиентов пенсионерами являются 1142 человека. Распределение по полу близится к 50/50."
   ]
  },
  {
   "cell_type": "markdown",
   "metadata": {},
   "source": [
    "### Анализ данных об интернет-услугах"
   ]
  },
  {
   "cell_type": "code",
   "execution_count": 17,
   "metadata": {},
   "outputs": [
    {
     "data": {
      "text/html": [
       "<div>\n",
       "<style scoped>\n",
       "    .dataframe tbody tr th:only-of-type {\n",
       "        vertical-align: middle;\n",
       "    }\n",
       "\n",
       "    .dataframe tbody tr th {\n",
       "        vertical-align: top;\n",
       "    }\n",
       "\n",
       "    .dataframe thead th {\n",
       "        text-align: right;\n",
       "    }\n",
       "</style>\n",
       "<table border=\"1\" class=\"dataframe\">\n",
       "  <thead>\n",
       "    <tr style=\"text-align: right;\">\n",
       "      <th></th>\n",
       "      <th>customerID</th>\n",
       "      <th>InternetService</th>\n",
       "      <th>OnlineSecurity</th>\n",
       "      <th>OnlineBackup</th>\n",
       "      <th>DeviceProtection</th>\n",
       "      <th>TechSupport</th>\n",
       "      <th>StreamingTV</th>\n",
       "      <th>StreamingMovies</th>\n",
       "    </tr>\n",
       "  </thead>\n",
       "  <tbody>\n",
       "    <tr>\n",
       "      <td>0</td>\n",
       "      <td>7590-VHVEG</td>\n",
       "      <td>DSL</td>\n",
       "      <td>No</td>\n",
       "      <td>Yes</td>\n",
       "      <td>No</td>\n",
       "      <td>No</td>\n",
       "      <td>No</td>\n",
       "      <td>No</td>\n",
       "    </tr>\n",
       "    <tr>\n",
       "      <td>1</td>\n",
       "      <td>5575-GNVDE</td>\n",
       "      <td>DSL</td>\n",
       "      <td>Yes</td>\n",
       "      <td>No</td>\n",
       "      <td>Yes</td>\n",
       "      <td>No</td>\n",
       "      <td>No</td>\n",
       "      <td>No</td>\n",
       "    </tr>\n",
       "    <tr>\n",
       "      <td>2</td>\n",
       "      <td>3668-QPYBK</td>\n",
       "      <td>DSL</td>\n",
       "      <td>Yes</td>\n",
       "      <td>Yes</td>\n",
       "      <td>No</td>\n",
       "      <td>No</td>\n",
       "      <td>No</td>\n",
       "      <td>No</td>\n",
       "    </tr>\n",
       "  </tbody>\n",
       "</table>\n",
       "</div>"
      ],
      "text/plain": [
       "   customerID InternetService OnlineSecurity OnlineBackup DeviceProtection  \\\n",
       "0  7590-VHVEG             DSL             No          Yes               No   \n",
       "1  5575-GNVDE             DSL            Yes           No              Yes   \n",
       "2  3668-QPYBK             DSL            Yes          Yes               No   \n",
       "\n",
       "  TechSupport StreamingTV StreamingMovies  \n",
       "0          No          No              No  \n",
       "1          No          No              No  \n",
       "2          No          No              No  "
      ]
     },
     "execution_count": 17,
     "metadata": {},
     "output_type": "execute_result"
    }
   ],
   "source": [
    "internet.head(3)"
   ]
  },
  {
   "cell_type": "markdown",
   "metadata": {},
   "source": [
    "- ***customerID*** - идентификатор клиента;\n",
    "- ***InternetService*** - тип подключения Интернета;\n",
    "- ***OnlineSecurity*** - наличие услуги: Блокировка небезопасных сайтов;\n",
    "- ***OnlineBackup*** - наличие услуги: Облачное храналище для резервного копирования данных;\n",
    "- ***DeviceProtection*** - наличие услуги: Антивирус;\n",
    "- ***TechSupport*** - наличие услуги: Выделенная линия технической поддержки;\n",
    "- ***StreamingTV*** - наличие услуги: Стриминговое телевидение;\n",
    "- ***StreamingMovies*** - наличие услуги: Каталог фильмов.\n",
    "\n",
    "<b>Переименуем столбцы для более удобной работы с ними</b>"
   ]
  },
  {
   "cell_type": "code",
   "execution_count": 18,
   "metadata": {},
   "outputs": [],
   "source": [
    "internet.columns = ['customer_id', 'internet_service', 'online_security', 'online_backup',\n",
    "                   'device_protection', 'tech_support', 'streaming_tv', 'streaming_movies']"
   ]
  },
  {
   "cell_type": "code",
   "execution_count": 19,
   "metadata": {},
   "outputs": [
    {
     "name": "stdout",
     "output_type": "stream",
     "text": [
      "<class 'pandas.core.frame.DataFrame'>\n",
      "RangeIndex: 5517 entries, 0 to 5516\n",
      "Data columns (total 8 columns):\n",
      "customer_id          5517 non-null object\n",
      "internet_service     5517 non-null object\n",
      "online_security      5517 non-null object\n",
      "online_backup        5517 non-null object\n",
      "device_protection    5517 non-null object\n",
      "tech_support         5517 non-null object\n",
      "streaming_tv         5517 non-null object\n",
      "streaming_movies     5517 non-null object\n",
      "dtypes: object(8)\n",
      "memory usage: 344.9+ KB\n"
     ]
    }
   ],
   "source": [
    "internet.info()"
   ]
  },
  {
   "cell_type": "markdown",
   "metadata": {},
   "source": [
    "<b>Построим графики, отображающие наши данные</b>"
   ]
  },
  {
   "cell_type": "code",
   "execution_count": 20,
   "metadata": {},
   "outputs": [
    {
     "data": {
      "image/png": "[encoded data removed]",
      "text/plain": [
       "<Figure size 864x1224 with 6 Axes>"
      ]
     },
     "metadata": {
      "needs_background": "light"
     },
     "output_type": "display_data"
    }
   ],
   "source": [
    "fig, axs = plt.subplots(3, 2, figsize=(12, 17), constrained_layout=True)\n",
    "\n",
    "axs[0][0].set_title('Распределение клиентов по типу услуги \"Интернет\"')\n",
    "axs[0][0].tick_params(axis='y', labelsize=12)\n",
    "internet.pivot_table(index='internet_service', values='customer_id', aggfunc=len).plot(kind='bar', ax=axs[0][0], color='#06D6A0');\n",
    "axs[0][0].set_xlabel('Тип услуги', fontsize=12);\n",
    "axs[0][0].set_ylabel('Количество клиентов', fontsize=12);\n",
    "axs[0][0].tick_params(axis='x', labelsize=12, rotation=55)\n",
    "\n",
    "axs[0][1].set_title('Распределение клиентов по наличию услуги \"Онлайн-безопасность\"')\n",
    "axs[0][1].tick_params(axis='y', labelsize=12)\n",
    "internet.pivot_table(index='online_security', values='customer_id', aggfunc=len).plot(kind='bar', ax=axs[0][1], color='#06D6A0');\n",
    "axs[0][1].set_xlabel('Наличие услуги \"Онлайн-безопасноть\"', fontsize=12);\n",
    "axs[0][1].set_ylabel('Количество клиентов', fontsize=12);\n",
    "axs[0][1].tick_params(axis='x', labelsize=12, rotation=55)\n",
    "\n",
    "axs[1][0].set_title('Распределение клиентов по наличию услуги \"Обл. хранилище\"')\n",
    "axs[1][0].tick_params(axis='y', labelsize=12)\n",
    "internet.pivot_table(index='online_backup', values='customer_id', aggfunc=len).plot(kind='bar', ax=axs[1][0], color='#06D6A0');\n",
    "axs[1][0].set_xlabel('Наличие услуги \"Облачное хранилище\"', fontsize=12);\n",
    "axs[1][0].set_ylabel('Количество клиентов', fontsize=12);\n",
    "axs[1][0].tick_params(axis='x', labelsize=12, rotation=55)\n",
    "\n",
    "axs[1][1].set_title('Распределение клиентов по наличию услуги \"Защита устройства\"')\n",
    "axs[1][1].tick_params(axis='y', labelsize=12)\n",
    "internet.pivot_table(index='device_protection', values='customer_id', aggfunc=len).plot(kind='bar', ax=axs[1][1], color='#06D6A0');\n",
    "axs[1][1].set_xlabel('Наличие услуги \"Защита устройства\"', fontsize=12);\n",
    "axs[1][1].set_ylabel('Количество клиентов', fontsize=12);\n",
    "axs[1][1].tick_params(axis='x', labelsize=12, rotation=55)\n",
    "\n",
    "axs[2][0].set_title('Распределение клиентов по наличию услуги \"Тех. поддержка\"')\n",
    "axs[2][0].tick_params(axis='y', labelsize=12)\n",
    "internet.pivot_table(index='tech_support', values='customer_id', aggfunc=len).plot(kind='bar', ax=axs[2][0], color='#06D6A0');\n",
    "axs[2][0].set_xlabel('Наличие услуги \"Тех. поддержка\"', fontsize=12);\n",
    "axs[2][0].set_ylabel('Количество клиентов', fontsize=12);\n",
    "axs[2][0].tick_params(axis='x', labelsize=12, rotation=55)\n",
    "\n",
    "axs[2][1].set_title('Распределение клиентов по наличию услуги \"Стриминговое ТВ\"')\n",
    "axs[2][1].tick_params(axis='y', labelsize=12)\n",
    "internet.pivot_table(index='streaming_tv', values='customer_id', aggfunc=len).plot(kind='bar', ax=axs[2][1], color='#06D6A0');\n",
    "axs[2][1].set_xlabel('Наличие услуги \"Стриминговое ТВ\"', fontsize=12);\n",
    "axs[2][1].set_ylabel('Количество клиентов', fontsize=12);\n",
    "axs[2][1].tick_params(axis='x', labelsize=12, rotation=55)"
   ]
  },
  {
   "cell_type": "code",
   "execution_count": 21,
   "metadata": {},
   "outputs": [
    {
     "name": "stdout",
     "output_type": "stream",
     "text": [
      "Соотношение клиентов по наличию услуги \"Онлайн-безопаность\": 63.4% - Нет услуги / 36.6% - Есть услуга\n",
      "Соотношение клиентов по наличию услуги \"Облачное хранилище\": 56.0% - Нет услуги / 44.0% - Есть услуга\n",
      "Соотношение клиентов по наличию услуги \"Защита устройства\": 56.1% - Нет услуги / 43.9% - Есть услуга\n",
      "Соотношение клиентов по наличию услуги \"Тех. поддержка\": 63.0% - Нет услуги / 37.0% - Есть услуга\n",
      "Соотношение клиентов по наличию услуги \"Стриминговое ТВ\": 50.9% - Нет услуги / 49.1% - Есть услуга\n",
      "Количество клиентов, которые не пользовались интернет-услугами: 1526\n"
     ]
    }
   ],
   "source": [
    "print('Соотношение клиентов по наличию услуги \"Онлайн-безопаность\": {:.1f}% - Нет услуги / {:.1f}% - Есть услуга'\n",
    "      .format(len(internet[internet['online_security'] == 'No']) / len(internet) * 100,\n",
    "             len(internet[internet['online_security'] == 'Yes']) / len(internet) * 100))\n",
    "\n",
    "print('Соотношение клиентов по наличию услуги \"Облачное хранилище\": {:.1f}% - Нет услуги / {:.1f}% - Есть услуга'\n",
    "      .format(len(internet[internet['online_backup'] == 'No']) / len(internet) * 100,\n",
    "             len(internet[internet['online_backup'] == 'Yes']) / len(internet) * 100))\n",
    "\n",
    "print('Соотношение клиентов по наличию услуги \"Защита устройства\": {:.1f}% - Нет услуги / {:.1f}% - Есть услуга'\n",
    "      .format(len(internet[internet['device_protection'] == 'No']) / len(internet) * 100,\n",
    "             len(internet[internet['device_protection'] == 'Yes']) / len(internet) * 100))\n",
    "\n",
    "print('Соотношение клиентов по наличию услуги \"Тех. поддержка\": {:.1f}% - Нет услуги / {:.1f}% - Есть услуга'\n",
    "      .format(len(internet[internet['tech_support'] == 'No']) / len(internet) * 100,\n",
    "             len(internet[internet['tech_support'] == 'Yes']) / len(internet) * 100))\n",
    "\n",
    "print('Соотношение клиентов по наличию услуги \"Стриминговое ТВ\": {:.1f}% - Нет услуги / {:.1f}% - Есть услуга'\n",
    "      .format(len(internet[internet['streaming_tv'] == 'No']) / len(internet) * 100,\n",
    "             len(internet[internet['streaming_tv'] == 'Yes']) / len(internet) * 100))\n",
    "\n",
    "print('Количество клиентов, которые не пользовались интернет-услугами:', len(contract) - len(internet))"
   ]
  },
  {
   "cell_type": "markdown",
   "metadata": {},
   "source": [
    "Основываясь на графкиках, можно сделать следующие выводы:\n",
    "\n",
    "* Большинство клиентов предполчитают тип подключения интернета \"Fiber optic\", действительно, сейчас это наиболее популярный тип подключения;\n",
    "\n",
    "\n",
    "* Большинство клинетов не подключали себе услугу \"Онлайн-безопасность\" 63.4%/36.6%;\n",
    "\n",
    "\n",
    "* Большинство клиентов не подключали себе услугу \"Облачное хранилище\" 56.0%/44.0%;\n",
    "\n",
    "\n",
    "* Большинство клиентов не подключали себе услугу \"Защита устройства\" 56.1%/43.9%;\n",
    "\n",
    "\n",
    "* Большинство клиентов не подключали себе услугу \"Тех. поддержка\" 63.0%/37.0%;\n",
    "\n",
    "\n",
    "* Примерно половина клиентов подключили себе услугу \"Стриминговое ТВ\" 50.9% / 49.1%;\n",
    "\n",
    "\n",
    "* 1526 клиентов не пользовались интернет-услугами вовсе."
   ]
  },
  {
   "cell_type": "markdown",
   "metadata": {},
   "source": [
    "<b>Вывод:</b> Столбцы переименованы. Пропущенных значений не наблюдается. Все значения являются строковыми.\n",
    "\n",
    "<b>Важно отметить, что в этом датасете присутствуют данные об интернет-услугах только по 5517 клиентам из 7043.</b>"
   ]
  },
  {
   "cell_type": "markdown",
   "metadata": {},
   "source": [
    "### Анализ данных об услугах телефонии"
   ]
  },
  {
   "cell_type": "code",
   "execution_count": 22,
   "metadata": {},
   "outputs": [
    {
     "data": {
      "text/html": [
       "<div>\n",
       "<style scoped>\n",
       "    .dataframe tbody tr th:only-of-type {\n",
       "        vertical-align: middle;\n",
       "    }\n",
       "\n",
       "    .dataframe tbody tr th {\n",
       "        vertical-align: top;\n",
       "    }\n",
       "\n",
       "    .dataframe thead th {\n",
       "        text-align: right;\n",
       "    }\n",
       "</style>\n",
       "<table border=\"1\" class=\"dataframe\">\n",
       "  <thead>\n",
       "    <tr style=\"text-align: right;\">\n",
       "      <th></th>\n",
       "      <th>customerID</th>\n",
       "      <th>MultipleLines</th>\n",
       "    </tr>\n",
       "  </thead>\n",
       "  <tbody>\n",
       "    <tr>\n",
       "      <td>0</td>\n",
       "      <td>5575-GNVDE</td>\n",
       "      <td>No</td>\n",
       "    </tr>\n",
       "    <tr>\n",
       "      <td>1</td>\n",
       "      <td>3668-QPYBK</td>\n",
       "      <td>No</td>\n",
       "    </tr>\n",
       "    <tr>\n",
       "      <td>2</td>\n",
       "      <td>9237-HQITU</td>\n",
       "      <td>No</td>\n",
       "    </tr>\n",
       "  </tbody>\n",
       "</table>\n",
       "</div>"
      ],
      "text/plain": [
       "   customerID MultipleLines\n",
       "0  5575-GNVDE            No\n",
       "1  3668-QPYBK            No\n",
       "2  9237-HQITU            No"
      ]
     },
     "execution_count": 22,
     "metadata": {},
     "output_type": "execute_result"
    }
   ],
   "source": [
    "phone.head(3)"
   ]
  },
  {
   "cell_type": "markdown",
   "metadata": {},
   "source": [
    "- ***customerID*** - идентификатор клиента;\n",
    "- ***MultipleLines*** - подключение телефонного аппарата к одной линии одновременно: No - нет, Yes - Да\n",
    "\n",
    "<b>Переименуем столбцы для более удобной работы</b>"
   ]
  },
  {
   "cell_type": "code",
   "execution_count": 23,
   "metadata": {},
   "outputs": [],
   "source": [
    "phone.columns = ['customer_id', 'multiple_lines']"
   ]
  },
  {
   "cell_type": "code",
   "execution_count": 24,
   "metadata": {},
   "outputs": [
    {
     "name": "stdout",
     "output_type": "stream",
     "text": [
      "<class 'pandas.core.frame.DataFrame'>\n",
      "RangeIndex: 6361 entries, 0 to 6360\n",
      "Data columns (total 2 columns):\n",
      "customer_id       6361 non-null object\n",
      "multiple_lines    6361 non-null object\n",
      "dtypes: object(2)\n",
      "memory usage: 99.5+ KB\n"
     ]
    }
   ],
   "source": [
    "phone.info()"
   ]
  },
  {
   "cell_type": "markdown",
   "metadata": {},
   "source": [
    "Пропущенных данных не наблюдается."
   ]
  },
  {
   "cell_type": "code",
   "execution_count": 25,
   "metadata": {},
   "outputs": [
    {
     "data": {
      "image/png": "[encoded data removed]",
      "text/plain": [
       "<Figure size 864x360 with 1 Axes>"
      ]
     },
     "metadata": {
      "needs_background": "light"
     },
     "output_type": "display_data"
    }
   ],
   "source": [
    "fig, axs = plt.subplots(1, 1, figsize=(12, 5), constrained_layout=True)\n",
    "\n",
    "axs.set_title('Распределение клиентов по наличию услуги \"Одновременное подключение к одной линии\"')\n",
    "axs.tick_params(axis='y', labelsize=12)\n",
    "phone.pivot_table(index='multiple_lines', values='customer_id', aggfunc=len).plot(kind='bar', ax=axs, color='#06D6A0');\n",
    "axs.set_xlabel('Наличие услуги одновременного подключения', fontsize=12);\n",
    "axs.set_ylabel('Количество клиентов', fontsize=12);\n",
    "axs.tick_params(axis='x', labelsize=12, rotation=55)"
   ]
  },
  {
   "cell_type": "code",
   "execution_count": 26,
   "metadata": {},
   "outputs": [
    {
     "name": "stdout",
     "output_type": "stream",
     "text": [
      "Соотношение клиентов с услугой и без: 53.3% - нет услуги / 46.7% - есть услуга\n"
     ]
    }
   ],
   "source": [
    "print('Соотношение клиентов с услугой и без: {:.1f}% - нет услуги / {:.1f}% - есть услуга'.format(len(phone[phone['multiple_lines'] == 'No']) / len(phone) * 100, len(phone[phone['multiple_lines'] == 'Yes']) / len(phone) * 100))"
   ]
  },
  {
   "cell_type": "markdown",
   "metadata": {},
   "source": [
    "<b>Вывод:</b> Пропущенных значений в данном датасете не найдено. Столбцы переименованы. 53% клиентов не оформляли себе услугу одновременного подключения к одной линии.\n",
    "\n",
    "<b>Важно заметить, что в этом датасете присутствует информация только о 6361 клиенте из 7043. Вероятно, те клиенты, о которых нет информации, не пользовались услугами мобильной связи от данного оператора вовсе.</b>"
   ]
  },
  {
   "cell_type": "markdown",
   "metadata": {},
   "source": [
    "## План выполнения задачи"
   ]
  },
  {
   "cell_type": "markdown",
   "metadata": {},
   "source": [
    "1. Провести подробный исследовательский анализ данных. Провести обработку пропущенных значений. Проверить данные на наличие выбросов.\n",
    "\n",
    "\n",
    "2. Разметить данные на \"Клиент ушел\" и \"Клиент не ушел\" путем создания столбца \"client_left\", который присваивал бы класс клиенту. 1 - ушел, 0 - не ушел. Ушедших клиентов буду определять по столбцу \"end_date\", если там стоит какая-либо дата, значит клиент отказался от услуг оператора.\n",
    "\n",
    "\n",
    "3. Проведу изменение типов данных для дальнейшего обучения модели. Категориальные данные приведу в числовой тип методом One-Hot-Encoding.\n",
    "\n",
    "\n",
    "4. Разделю данные на обучающую, валидационную и тестовую выборки. Проведу масштабирование данных.\n",
    "\n",
    "\n",
    "5. Создам модель и обучу ее, буду оценивать ее метрикой \"Accuracy\" и \"ROC-AUC\".\n",
    "\n",
    "\n",
    "6. Затем проведу тщательную настройку гиперпараметров модели с помощью GridSearchCV или RandomizedSearchCV.\n",
    "\n",
    "\n",
    "7. Выполню предсказание модели на тестовых данных и предоставлю результаты."
   ]
  },
  {
   "cell_type": "markdown",
   "metadata": {},
   "source": [
    "Отчёт:\n",
    "\n",
    "* [Отчёт](#Отчёт)"
   ]
  },
  {
   "cell_type": "markdown",
   "metadata": {},
   "source": [
    "## Подготовка данных"
   ]
  },
  {
   "cell_type": "markdown",
   "metadata": {},
   "source": [
    "### Соединение данных"
   ]
  },
  {
   "cell_type": "markdown",
   "metadata": {},
   "source": [
    "Для начала соединим данные в один датасет."
   ]
  },
  {
   "cell_type": "code",
   "execution_count": 27,
   "metadata": {},
   "outputs": [],
   "source": [
    "data = contract.merge(personal)\n",
    "data = data.merge(internet, how='outer')\n",
    "data = data.merge(phone, how='outer')"
   ]
  },
  {
   "cell_type": "markdown",
   "metadata": {},
   "source": [
    "### Добавление новых признаков"
   ]
  },
  {
   "cell_type": "markdown",
   "metadata": {},
   "source": [
    "Затем проставим признак \"клиент ушел\" в столбце \"client_left\"."
   ]
  },
  {
   "cell_type": "code",
   "execution_count": 28,
   "metadata": {},
   "outputs": [],
   "source": [
    "def client_left(dt):\n",
    "    if pd.isna(dt):\n",
    "        return 0\n",
    "    else:\n",
    "        return 1\n",
    "    \n",
    "data['client_left'] = data['end_date'].apply(client_left)"
   ]
  },
  {
   "cell_type": "markdown",
   "metadata": {
    "collapsed": true
   },
   "source": [
    "Добавим новый признак под названием \"life_cycle\", то есть цикл жизни клиента. Будем считать его вычитая из \"end_date\" значение \"begin_date\". Если значение \"end_date\" пустое, тогда заполним его 01.02.2020 г., так как данные актуализированы на эту дату."
   ]
  },
  {
   "cell_type": "code",
   "execution_count": 29,
   "metadata": {},
   "outputs": [],
   "source": [
    "data['lifetime'] = (data['end_date'].fillna(pd.to_datetime('2020-02-01')) - data['begin_date']).dt.days"
   ]
  },
  {
   "cell_type": "code",
   "execution_count": 30,
   "metadata": {},
   "outputs": [
    {
     "data": {
      "text/html": [
       "<div>\n",
       "<style scoped>\n",
       "    .dataframe tbody tr th:only-of-type {\n",
       "        vertical-align: middle;\n",
       "    }\n",
       "\n",
       "    .dataframe tbody tr th {\n",
       "        vertical-align: top;\n",
       "    }\n",
       "\n",
       "    .dataframe thead th {\n",
       "        text-align: right;\n",
       "    }\n",
       "</style>\n",
       "<table border=\"1\" class=\"dataframe\">\n",
       "  <thead>\n",
       "    <tr style=\"text-align: right;\">\n",
       "      <th></th>\n",
       "      <th>customer_id</th>\n",
       "      <th>begin_date</th>\n",
       "      <th>end_date</th>\n",
       "      <th>type</th>\n",
       "      <th>paperless_billing</th>\n",
       "      <th>payment_method</th>\n",
       "      <th>monthly_charges</th>\n",
       "      <th>total_charges</th>\n",
       "      <th>gender</th>\n",
       "      <th>senior_citizen</th>\n",
       "      <th>...</th>\n",
       "      <th>internet_service</th>\n",
       "      <th>online_security</th>\n",
       "      <th>online_backup</th>\n",
       "      <th>device_protection</th>\n",
       "      <th>tech_support</th>\n",
       "      <th>streaming_tv</th>\n",
       "      <th>streaming_movies</th>\n",
       "      <th>multiple_lines</th>\n",
       "      <th>client_left</th>\n",
       "      <th>lifetime</th>\n",
       "    </tr>\n",
       "  </thead>\n",
       "  <tbody>\n",
       "    <tr>\n",
       "      <td>0</td>\n",
       "      <td>7590-VHVEG</td>\n",
       "      <td>2020-01-01</td>\n",
       "      <td>NaT</td>\n",
       "      <td>Month-to-month</td>\n",
       "      <td>Yes</td>\n",
       "      <td>Electronic check</td>\n",
       "      <td>29.85</td>\n",
       "      <td>29.85</td>\n",
       "      <td>Female</td>\n",
       "      <td>0</td>\n",
       "      <td>...</td>\n",
       "      <td>DSL</td>\n",
       "      <td>No</td>\n",
       "      <td>Yes</td>\n",
       "      <td>No</td>\n",
       "      <td>No</td>\n",
       "      <td>No</td>\n",
       "      <td>No</td>\n",
       "      <td>NaN</td>\n",
       "      <td>0</td>\n",
       "      <td>31</td>\n",
       "    </tr>\n",
       "    <tr>\n",
       "      <td>1</td>\n",
       "      <td>5575-GNVDE</td>\n",
       "      <td>2017-04-01</td>\n",
       "      <td>NaT</td>\n",
       "      <td>One year</td>\n",
       "      <td>No</td>\n",
       "      <td>Mailed check</td>\n",
       "      <td>56.95</td>\n",
       "      <td>1889.50</td>\n",
       "      <td>Male</td>\n",
       "      <td>0</td>\n",
       "      <td>...</td>\n",
       "      <td>DSL</td>\n",
       "      <td>Yes</td>\n",
       "      <td>No</td>\n",
       "      <td>Yes</td>\n",
       "      <td>No</td>\n",
       "      <td>No</td>\n",
       "      <td>No</td>\n",
       "      <td>No</td>\n",
       "      <td>0</td>\n",
       "      <td>1036</td>\n",
       "    </tr>\n",
       "    <tr>\n",
       "      <td>2</td>\n",
       "      <td>3668-QPYBK</td>\n",
       "      <td>2019-10-01</td>\n",
       "      <td>2019-12-01</td>\n",
       "      <td>Month-to-month</td>\n",
       "      <td>Yes</td>\n",
       "      <td>Mailed check</td>\n",
       "      <td>53.85</td>\n",
       "      <td>108.15</td>\n",
       "      <td>Male</td>\n",
       "      <td>0</td>\n",
       "      <td>...</td>\n",
       "      <td>DSL</td>\n",
       "      <td>Yes</td>\n",
       "      <td>Yes</td>\n",
       "      <td>No</td>\n",
       "      <td>No</td>\n",
       "      <td>No</td>\n",
       "      <td>No</td>\n",
       "      <td>No</td>\n",
       "      <td>1</td>\n",
       "      <td>61</td>\n",
       "    </tr>\n",
       "  </tbody>\n",
       "</table>\n",
       "<p>3 rows × 22 columns</p>\n",
       "</div>"
      ],
      "text/plain": [
       "  customer_id begin_date   end_date            type paperless_billing  \\\n",
       "0  7590-VHVEG 2020-01-01        NaT  Month-to-month               Yes   \n",
       "1  5575-GNVDE 2017-04-01        NaT        One year                No   \n",
       "2  3668-QPYBK 2019-10-01 2019-12-01  Month-to-month               Yes   \n",
       "\n",
       "     payment_method  monthly_charges  total_charges  gender  senior_citizen  \\\n",
       "0  Electronic check            29.85          29.85  Female               0   \n",
       "1      Mailed check            56.95        1889.50    Male               0   \n",
       "2      Mailed check            53.85         108.15    Male               0   \n",
       "\n",
       "   ... internet_service online_security online_backup device_protection  \\\n",
       "0  ...              DSL              No           Yes                No   \n",
       "1  ...              DSL             Yes            No               Yes   \n",
       "2  ...              DSL             Yes           Yes                No   \n",
       "\n",
       "  tech_support streaming_tv streaming_movies multiple_lines client_left  \\\n",
       "0           No           No               No            NaN           0   \n",
       "1           No           No               No             No           0   \n",
       "2           No           No               No             No           1   \n",
       "\n",
       "  lifetime  \n",
       "0       31  \n",
       "1     1036  \n",
       "2       61  \n",
       "\n",
       "[3 rows x 22 columns]"
      ]
     },
     "execution_count": 30,
     "metadata": {},
     "output_type": "execute_result"
    }
   ],
   "source": [
    "data.head(3)"
   ]
  },
  {
   "cell_type": "markdown",
   "metadata": {},
   "source": [
    "Затем начала уберем из данных столбцы \"end_date\", \"begin_date\" и \"customer_id\""
   ]
  },
  {
   "cell_type": "code",
   "execution_count": 31,
   "metadata": {},
   "outputs": [],
   "source": [
    "data_all = data.drop(['begin_date', 'end_date', 'customer_id'], axis=1)"
   ]
  },
  {
   "cell_type": "code",
   "execution_count": 32,
   "metadata": {},
   "outputs": [
    {
     "data": {
      "text/html": [
       "<div>\n",
       "<style scoped>\n",
       "    .dataframe tbody tr th:only-of-type {\n",
       "        vertical-align: middle;\n",
       "    }\n",
       "\n",
       "    .dataframe tbody tr th {\n",
       "        vertical-align: top;\n",
       "    }\n",
       "\n",
       "    .dataframe thead th {\n",
       "        text-align: right;\n",
       "    }\n",
       "</style>\n",
       "<table border=\"1\" class=\"dataframe\">\n",
       "  <thead>\n",
       "    <tr style=\"text-align: right;\">\n",
       "      <th></th>\n",
       "      <th>type</th>\n",
       "      <th>paperless_billing</th>\n",
       "      <th>payment_method</th>\n",
       "      <th>monthly_charges</th>\n",
       "      <th>total_charges</th>\n",
       "      <th>gender</th>\n",
       "      <th>senior_citizen</th>\n",
       "      <th>partner</th>\n",
       "      <th>dependents</th>\n",
       "      <th>internet_service</th>\n",
       "      <th>online_security</th>\n",
       "      <th>online_backup</th>\n",
       "      <th>device_protection</th>\n",
       "      <th>tech_support</th>\n",
       "      <th>streaming_tv</th>\n",
       "      <th>streaming_movies</th>\n",
       "      <th>multiple_lines</th>\n",
       "      <th>client_left</th>\n",
       "      <th>lifetime</th>\n",
       "    </tr>\n",
       "  </thead>\n",
       "  <tbody>\n",
       "    <tr>\n",
       "      <td>0</td>\n",
       "      <td>Month-to-month</td>\n",
       "      <td>Yes</td>\n",
       "      <td>Electronic check</td>\n",
       "      <td>29.85</td>\n",
       "      <td>29.85</td>\n",
       "      <td>Female</td>\n",
       "      <td>0</td>\n",
       "      <td>Yes</td>\n",
       "      <td>No</td>\n",
       "      <td>DSL</td>\n",
       "      <td>No</td>\n",
       "      <td>Yes</td>\n",
       "      <td>No</td>\n",
       "      <td>No</td>\n",
       "      <td>No</td>\n",
       "      <td>No</td>\n",
       "      <td>NaN</td>\n",
       "      <td>0</td>\n",
       "      <td>31</td>\n",
       "    </tr>\n",
       "    <tr>\n",
       "      <td>1</td>\n",
       "      <td>One year</td>\n",
       "      <td>No</td>\n",
       "      <td>Mailed check</td>\n",
       "      <td>56.95</td>\n",
       "      <td>1889.50</td>\n",
       "      <td>Male</td>\n",
       "      <td>0</td>\n",
       "      <td>No</td>\n",
       "      <td>No</td>\n",
       "      <td>DSL</td>\n",
       "      <td>Yes</td>\n",
       "      <td>No</td>\n",
       "      <td>Yes</td>\n",
       "      <td>No</td>\n",
       "      <td>No</td>\n",
       "      <td>No</td>\n",
       "      <td>No</td>\n",
       "      <td>0</td>\n",
       "      <td>1036</td>\n",
       "    </tr>\n",
       "    <tr>\n",
       "      <td>2</td>\n",
       "      <td>Month-to-month</td>\n",
       "      <td>Yes</td>\n",
       "      <td>Mailed check</td>\n",
       "      <td>53.85</td>\n",
       "      <td>108.15</td>\n",
       "      <td>Male</td>\n",
       "      <td>0</td>\n",
       "      <td>No</td>\n",
       "      <td>No</td>\n",
       "      <td>DSL</td>\n",
       "      <td>Yes</td>\n",
       "      <td>Yes</td>\n",
       "      <td>No</td>\n",
       "      <td>No</td>\n",
       "      <td>No</td>\n",
       "      <td>No</td>\n",
       "      <td>No</td>\n",
       "      <td>1</td>\n",
       "      <td>61</td>\n",
       "    </tr>\n",
       "  </tbody>\n",
       "</table>\n",
       "</div>"
      ],
      "text/plain": [
       "             type paperless_billing    payment_method  monthly_charges  \\\n",
       "0  Month-to-month               Yes  Electronic check            29.85   \n",
       "1        One year                No      Mailed check            56.95   \n",
       "2  Month-to-month               Yes      Mailed check            53.85   \n",
       "\n",
       "   total_charges  gender  senior_citizen partner dependents internet_service  \\\n",
       "0          29.85  Female               0     Yes         No              DSL   \n",
       "1        1889.50    Male               0      No         No              DSL   \n",
       "2         108.15    Male               0      No         No              DSL   \n",
       "\n",
       "  online_security online_backup device_protection tech_support streaming_tv  \\\n",
       "0              No           Yes                No           No           No   \n",
       "1             Yes            No               Yes           No           No   \n",
       "2             Yes           Yes                No           No           No   \n",
       "\n",
       "  streaming_movies multiple_lines  client_left  lifetime  \n",
       "0               No            NaN            0        31  \n",
       "1               No             No            0      1036  \n",
       "2               No             No            1        61  "
      ]
     },
     "execution_count": 32,
     "metadata": {},
     "output_type": "execute_result"
    }
   ],
   "source": [
    "data_all.head(3)"
   ]
  },
  {
   "cell_type": "code",
   "execution_count": 33,
   "metadata": {},
   "outputs": [
    {
     "data": {
      "text/plain": [
       "(7043, 19)"
      ]
     },
     "execution_count": 33,
     "metadata": {},
     "output_type": "execute_result"
    }
   ],
   "source": [
    "data_all.shape"
   ]
  },
  {
   "cell_type": "markdown",
   "metadata": {},
   "source": [
    "### Обработка категориальных признаков"
   ]
  },
  {
   "cell_type": "markdown",
   "metadata": {},
   "source": [
    "Обработка категориальных признаков будет происходить по методу One-Hot-Encoding."
   ]
  },
  {
   "cell_type": "code",
   "execution_count": 34,
   "metadata": {},
   "outputs": [],
   "source": [
    "data_ohe = pd.get_dummies(data_all, drop_first=True)#, dummy_na=True)"
   ]
  },
  {
   "cell_type": "code",
   "execution_count": 35,
   "metadata": {
    "scrolled": true
   },
   "outputs": [
    {
     "data": {
      "text/plain": [
       "monthly_charges                           float64\n",
       "total_charges                             float64\n",
       "senior_citizen                              int64\n",
       "client_left                                 int64\n",
       "lifetime                                    int64\n",
       "type_One year                               uint8\n",
       "type_Two year                               uint8\n",
       "paperless_billing_Yes                       uint8\n",
       "payment_method_Credit card (automatic)      uint8\n",
       "payment_method_Electronic check             uint8\n",
       "payment_method_Mailed check                 uint8\n",
       "gender_Male                                 uint8\n",
       "partner_Yes                                 uint8\n",
       "dependents_Yes                              uint8\n",
       "internet_service_Fiber optic                uint8\n",
       "online_security_Yes                         uint8\n",
       "online_backup_Yes                           uint8\n",
       "device_protection_Yes                       uint8\n",
       "tech_support_Yes                            uint8\n",
       "streaming_tv_Yes                            uint8\n",
       "streaming_movies_Yes                        uint8\n",
       "multiple_lines_Yes                          uint8\n",
       "dtype: object"
      ]
     },
     "execution_count": 35,
     "metadata": {},
     "output_type": "execute_result"
    }
   ],
   "source": [
    "data_ohe.dtypes"
   ]
  },
  {
   "cell_type": "markdown",
   "metadata": {
    "collapsed": true
   },
   "source": [
    "Все данные приведены к числовому типу."
   ]
  },
  {
   "cell_type": "code",
   "execution_count": 36,
   "metadata": {},
   "outputs": [
    {
     "data": {
      "text/plain": [
       "(7043, 22)"
      ]
     },
     "execution_count": 36,
     "metadata": {},
     "output_type": "execute_result"
    }
   ],
   "source": [
    "data_ohe.shape"
   ]
  },
  {
   "cell_type": "code",
   "execution_count": 37,
   "metadata": {},
   "outputs": [
    {
     "data": {
      "text/html": [
       "<div>\n",
       "<style scoped>\n",
       "    .dataframe tbody tr th:only-of-type {\n",
       "        vertical-align: middle;\n",
       "    }\n",
       "\n",
       "    .dataframe tbody tr th {\n",
       "        vertical-align: top;\n",
       "    }\n",
       "\n",
       "    .dataframe thead th {\n",
       "        text-align: right;\n",
       "    }\n",
       "</style>\n",
       "<table border=\"1\" class=\"dataframe\">\n",
       "  <thead>\n",
       "    <tr style=\"text-align: right;\">\n",
       "      <th></th>\n",
       "      <th>monthly_charges</th>\n",
       "      <th>total_charges</th>\n",
       "      <th>senior_citizen</th>\n",
       "      <th>client_left</th>\n",
       "      <th>lifetime</th>\n",
       "      <th>type_One year</th>\n",
       "      <th>type_Two year</th>\n",
       "      <th>paperless_billing_Yes</th>\n",
       "      <th>payment_method_Credit card (automatic)</th>\n",
       "      <th>payment_method_Electronic check</th>\n",
       "      <th>...</th>\n",
       "      <th>partner_Yes</th>\n",
       "      <th>dependents_Yes</th>\n",
       "      <th>internet_service_Fiber optic</th>\n",
       "      <th>online_security_Yes</th>\n",
       "      <th>online_backup_Yes</th>\n",
       "      <th>device_protection_Yes</th>\n",
       "      <th>tech_support_Yes</th>\n",
       "      <th>streaming_tv_Yes</th>\n",
       "      <th>streaming_movies_Yes</th>\n",
       "      <th>multiple_lines_Yes</th>\n",
       "    </tr>\n",
       "  </thead>\n",
       "  <tbody>\n",
       "    <tr>\n",
       "      <td>0</td>\n",
       "      <td>29.85</td>\n",
       "      <td>29.85</td>\n",
       "      <td>0</td>\n",
       "      <td>0</td>\n",
       "      <td>31</td>\n",
       "      <td>0</td>\n",
       "      <td>0</td>\n",
       "      <td>1</td>\n",
       "      <td>0</td>\n",
       "      <td>1</td>\n",
       "      <td>...</td>\n",
       "      <td>1</td>\n",
       "      <td>0</td>\n",
       "      <td>0</td>\n",
       "      <td>0</td>\n",
       "      <td>1</td>\n",
       "      <td>0</td>\n",
       "      <td>0</td>\n",
       "      <td>0</td>\n",
       "      <td>0</td>\n",
       "      <td>0</td>\n",
       "    </tr>\n",
       "    <tr>\n",
       "      <td>1</td>\n",
       "      <td>56.95</td>\n",
       "      <td>1889.50</td>\n",
       "      <td>0</td>\n",
       "      <td>0</td>\n",
       "      <td>1036</td>\n",
       "      <td>1</td>\n",
       "      <td>0</td>\n",
       "      <td>0</td>\n",
       "      <td>0</td>\n",
       "      <td>0</td>\n",
       "      <td>...</td>\n",
       "      <td>0</td>\n",
       "      <td>0</td>\n",
       "      <td>0</td>\n",
       "      <td>1</td>\n",
       "      <td>0</td>\n",
       "      <td>1</td>\n",
       "      <td>0</td>\n",
       "      <td>0</td>\n",
       "      <td>0</td>\n",
       "      <td>0</td>\n",
       "    </tr>\n",
       "    <tr>\n",
       "      <td>2</td>\n",
       "      <td>53.85</td>\n",
       "      <td>108.15</td>\n",
       "      <td>0</td>\n",
       "      <td>1</td>\n",
       "      <td>61</td>\n",
       "      <td>0</td>\n",
       "      <td>0</td>\n",
       "      <td>1</td>\n",
       "      <td>0</td>\n",
       "      <td>0</td>\n",
       "      <td>...</td>\n",
       "      <td>0</td>\n",
       "      <td>0</td>\n",
       "      <td>0</td>\n",
       "      <td>1</td>\n",
       "      <td>1</td>\n",
       "      <td>0</td>\n",
       "      <td>0</td>\n",
       "      <td>0</td>\n",
       "      <td>0</td>\n",
       "      <td>0</td>\n",
       "    </tr>\n",
       "    <tr>\n",
       "      <td>3</td>\n",
       "      <td>42.30</td>\n",
       "      <td>1840.75</td>\n",
       "      <td>0</td>\n",
       "      <td>0</td>\n",
       "      <td>1371</td>\n",
       "      <td>1</td>\n",
       "      <td>0</td>\n",
       "      <td>0</td>\n",
       "      <td>0</td>\n",
       "      <td>0</td>\n",
       "      <td>...</td>\n",
       "      <td>0</td>\n",
       "      <td>0</td>\n",
       "      <td>0</td>\n",
       "      <td>1</td>\n",
       "      <td>0</td>\n",
       "      <td>1</td>\n",
       "      <td>1</td>\n",
       "      <td>0</td>\n",
       "      <td>0</td>\n",
       "      <td>0</td>\n",
       "    </tr>\n",
       "  </tbody>\n",
       "</table>\n",
       "<p>4 rows × 22 columns</p>\n",
       "</div>"
      ],
      "text/plain": [
       "   monthly_charges  total_charges  senior_citizen  client_left  lifetime  \\\n",
       "0            29.85          29.85               0            0        31   \n",
       "1            56.95        1889.50               0            0      1036   \n",
       "2            53.85         108.15               0            1        61   \n",
       "3            42.30        1840.75               0            0      1371   \n",
       "\n",
       "   type_One year  type_Two year  paperless_billing_Yes  \\\n",
       "0              0              0                      1   \n",
       "1              1              0                      0   \n",
       "2              0              0                      1   \n",
       "3              1              0                      0   \n",
       "\n",
       "   payment_method_Credit card (automatic)  payment_method_Electronic check  \\\n",
       "0                                       0                                1   \n",
       "1                                       0                                0   \n",
       "2                                       0                                0   \n",
       "3                                       0                                0   \n",
       "\n",
       "   ...  partner_Yes  dependents_Yes  internet_service_Fiber optic  \\\n",
       "0  ...            1               0                             0   \n",
       "1  ...            0               0                             0   \n",
       "2  ...            0               0                             0   \n",
       "3  ...            0               0                             0   \n",
       "\n",
       "   online_security_Yes  online_backup_Yes  device_protection_Yes  \\\n",
       "0                    0                  1                      0   \n",
       "1                    1                  0                      1   \n",
       "2                    1                  1                      0   \n",
       "3                    1                  0                      1   \n",
       "\n",
       "   tech_support_Yes  streaming_tv_Yes  streaming_movies_Yes  \\\n",
       "0                 0                 0                     0   \n",
       "1                 0                 0                     0   \n",
       "2                 0                 0                     0   \n",
       "3                 1                 0                     0   \n",
       "\n",
       "   multiple_lines_Yes  \n",
       "0                   0  \n",
       "1                   0  \n",
       "2                   0  \n",
       "3                   0  \n",
       "\n",
       "[4 rows x 22 columns]"
      ]
     },
     "execution_count": 37,
     "metadata": {},
     "output_type": "execute_result"
    }
   ],
   "source": [
    "data_ohe.head(4)"
   ]
  },
  {
   "cell_type": "markdown",
   "metadata": {},
   "source": [
    "Рассмотрим корреляцию признаков и определим наиболее эффективные признаки. Составим таблицу корреляции для нашего датасета, приведем все значения к положительным, отсортируем по убыванию и выберем самые коррелирующие признаки."
   ]
  },
  {
   "cell_type": "code",
   "execution_count": 38,
   "metadata": {
    "scrolled": true
   },
   "outputs": [
    {
     "data": {
      "text/plain": [
       "client_left        1.000000\n",
       "lifetime           0.352673\n",
       "total_charges      0.198324\n",
       "monthly_charges    0.193356\n",
       "Name: client_left, dtype: float64"
      ]
     },
     "execution_count": 38,
     "metadata": {},
     "output_type": "execute_result"
    }
   ],
   "source": [
    "abs(data_ohe[['monthly_charges', 'total_charges', 'lifetime', 'client_left']].corr()['client_left']).sort_values(ascending=False)"
   ]
  },
  {
   "cell_type": "markdown",
   "metadata": {},
   "source": [
    "Итак, мы можем наблюдать, что новый фактор, который мы создали, коррелируют с целевым признаком."
   ]
  },
  {
   "cell_type": "code",
   "execution_count": 39,
   "metadata": {},
   "outputs": [],
   "source": [
    "features_ = ['monthly_charges', 'total_charges', 'senior_citizen',\n",
    "       'lifetime', 'type_One year', 'type_Two year', 'paperless_billing_Yes',\n",
    "       'payment_method_Credit card (automatic)',\n",
    "       'payment_method_Electronic check', 'payment_method_Mailed check',\n",
    "       'gender_Male', 'partner_Yes', 'dependents_Yes',\n",
    "       'internet_service_Fiber optic', 'online_security_Yes',\n",
    "       'online_backup_Yes', 'device_protection_Yes', 'tech_support_Yes',\n",
    "       'streaming_tv_Yes', 'streaming_movies_Yes', 'multiple_lines_Yes']\n",
    "\n",
    "quant_features = ['monthly_charges', 'total_charges', 'lifetime']"
   ]
  },
  {
   "cell_type": "markdown",
   "metadata": {},
   "source": [
    "### Разделение датасетов и масштабирование"
   ]
  },
  {
   "cell_type": "code",
   "execution_count": 40,
   "metadata": {},
   "outputs": [],
   "source": [
    "#features = data_ohe.drop('client_left', axis=1)\n",
    "features = data_ohe[features_]\n",
    "target = data_ohe['client_left']\n",
    "\n",
    "features_train, features_valid, target_train, target_valid = train_test_split(features, target, train_size=0.6, random_state=12345, stratify=target)\n",
    "\n",
    "features_valid, features_test, target_valid, target_test = train_test_split(features_valid, target_valid, test_size=0.5, random_state=12345, stratify=target_valid)\n",
    "\n",
    "my_scaler = StandardScaler()\n",
    "features_train[quant_features] = my_scaler.fit_transform(features_train[quant_features])\n",
    "features_valid[quant_features] = my_scaler.transform(features_valid[quant_features])\n",
    "features_test[quant_features] = my_scaler.transform(features_test[quant_features])\n",
    "\n",
    "features_train = pd.DataFrame(features_train, columns=features.columns)\n",
    "features_valid = pd.DataFrame(features_valid, columns=features.columns)\n",
    "features_test = pd.DataFrame(features_test, columns=features.columns)\n",
    "\n",
    "\n",
    "#gbm0 = GradientBoostingClassifier(random_state=10)\n",
    "#modelfit(gbm0, features_train, target_train)"
   ]
  },
  {
   "cell_type": "code",
   "execution_count": 41,
   "metadata": {},
   "outputs": [
    {
     "data": {
      "text/html": [
       "<div>\n",
       "<style scoped>\n",
       "    .dataframe tbody tr th:only-of-type {\n",
       "        vertical-align: middle;\n",
       "    }\n",
       "\n",
       "    .dataframe tbody tr th {\n",
       "        vertical-align: top;\n",
       "    }\n",
       "\n",
       "    .dataframe thead th {\n",
       "        text-align: right;\n",
       "    }\n",
       "</style>\n",
       "<table border=\"1\" class=\"dataframe\">\n",
       "  <thead>\n",
       "    <tr style=\"text-align: right;\">\n",
       "      <th></th>\n",
       "      <th>monthly_charges</th>\n",
       "      <th>total_charges</th>\n",
       "      <th>senior_citizen</th>\n",
       "      <th>lifetime</th>\n",
       "      <th>type_One year</th>\n",
       "      <th>type_Two year</th>\n",
       "      <th>paperless_billing_Yes</th>\n",
       "      <th>payment_method_Credit card (automatic)</th>\n",
       "      <th>payment_method_Electronic check</th>\n",
       "      <th>payment_method_Mailed check</th>\n",
       "      <th>...</th>\n",
       "      <th>partner_Yes</th>\n",
       "      <th>dependents_Yes</th>\n",
       "      <th>internet_service_Fiber optic</th>\n",
       "      <th>online_security_Yes</th>\n",
       "      <th>online_backup_Yes</th>\n",
       "      <th>device_protection_Yes</th>\n",
       "      <th>tech_support_Yes</th>\n",
       "      <th>streaming_tv_Yes</th>\n",
       "      <th>streaming_movies_Yes</th>\n",
       "      <th>multiple_lines_Yes</th>\n",
       "    </tr>\n",
       "  </thead>\n",
       "  <tbody>\n",
       "    <tr>\n",
       "      <td>6295</td>\n",
       "      <td>-1.483755</td>\n",
       "      <td>-0.570832</td>\n",
       "      <td>0</td>\n",
       "      <td>0.611804</td>\n",
       "      <td>0</td>\n",
       "      <td>1</td>\n",
       "      <td>0</td>\n",
       "      <td>0</td>\n",
       "      <td>0</td>\n",
       "      <td>0</td>\n",
       "      <td>...</td>\n",
       "      <td>1</td>\n",
       "      <td>1</td>\n",
       "      <td>0</td>\n",
       "      <td>0</td>\n",
       "      <td>0</td>\n",
       "      <td>0</td>\n",
       "      <td>0</td>\n",
       "      <td>0</td>\n",
       "      <td>0</td>\n",
       "      <td>0</td>\n",
       "    </tr>\n",
       "    <tr>\n",
       "      <td>6630</td>\n",
       "      <td>0.458464</td>\n",
       "      <td>-0.486927</td>\n",
       "      <td>1</td>\n",
       "      <td>-0.683333</td>\n",
       "      <td>0</td>\n",
       "      <td>0</td>\n",
       "      <td>1</td>\n",
       "      <td>0</td>\n",
       "      <td>1</td>\n",
       "      <td>0</td>\n",
       "      <td>...</td>\n",
       "      <td>0</td>\n",
       "      <td>0</td>\n",
       "      <td>1</td>\n",
       "      <td>0</td>\n",
       "      <td>0</td>\n",
       "      <td>0</td>\n",
       "      <td>0</td>\n",
       "      <td>0</td>\n",
       "      <td>1</td>\n",
       "      <td>0</td>\n",
       "    </tr>\n",
       "    <tr>\n",
       "      <td>888</td>\n",
       "      <td>0.871454</td>\n",
       "      <td>0.404530</td>\n",
       "      <td>0</td>\n",
       "      <td>0.165894</td>\n",
       "      <td>1</td>\n",
       "      <td>0</td>\n",
       "      <td>0</td>\n",
       "      <td>1</td>\n",
       "      <td>0</td>\n",
       "      <td>0</td>\n",
       "      <td>...</td>\n",
       "      <td>1</td>\n",
       "      <td>1</td>\n",
       "      <td>1</td>\n",
       "      <td>0</td>\n",
       "      <td>0</td>\n",
       "      <td>0</td>\n",
       "      <td>0</td>\n",
       "      <td>1</td>\n",
       "      <td>1</td>\n",
       "      <td>0</td>\n",
       "    </tr>\n",
       "  </tbody>\n",
       "</table>\n",
       "<p>3 rows × 21 columns</p>\n",
       "</div>"
      ],
      "text/plain": [
       "      monthly_charges  total_charges  senior_citizen  lifetime  type_One year  \\\n",
       "6295        -1.483755      -0.570832               0  0.611804              0   \n",
       "6630         0.458464      -0.486927               1 -0.683333              0   \n",
       "888          0.871454       0.404530               0  0.165894              1   \n",
       "\n",
       "      type_Two year  paperless_billing_Yes  \\\n",
       "6295              1                      0   \n",
       "6630              0                      1   \n",
       "888               0                      0   \n",
       "\n",
       "      payment_method_Credit card (automatic)  payment_method_Electronic check  \\\n",
       "6295                                       0                                0   \n",
       "6630                                       0                                1   \n",
       "888                                        1                                0   \n",
       "\n",
       "      payment_method_Mailed check  ...  partner_Yes  dependents_Yes  \\\n",
       "6295                            0  ...            1               1   \n",
       "6630                            0  ...            0               0   \n",
       "888                             0  ...            1               1   \n",
       "\n",
       "      internet_service_Fiber optic  online_security_Yes  online_backup_Yes  \\\n",
       "6295                             0                    0                  0   \n",
       "6630                             1                    0                  0   \n",
       "888                              1                    0                  0   \n",
       "\n",
       "      device_protection_Yes  tech_support_Yes  streaming_tv_Yes  \\\n",
       "6295                      0                 0                 0   \n",
       "6630                      0                 0                 0   \n",
       "888                       0                 0                 1   \n",
       "\n",
       "      streaming_movies_Yes  multiple_lines_Yes  \n",
       "6295                     0                   0  \n",
       "6630                     1                   0  \n",
       "888                      1                   0  \n",
       "\n",
       "[3 rows x 21 columns]"
      ]
     },
     "execution_count": 41,
     "metadata": {},
     "output_type": "execute_result"
    }
   ],
   "source": [
    "features_train.head(3)"
   ]
  },
  {
   "cell_type": "code",
   "execution_count": 42,
   "metadata": {},
   "outputs": [
    {
     "data": {
      "text/html": [
       "<div>\n",
       "<style scoped>\n",
       "    .dataframe tbody tr th:only-of-type {\n",
       "        vertical-align: middle;\n",
       "    }\n",
       "\n",
       "    .dataframe tbody tr th {\n",
       "        vertical-align: top;\n",
       "    }\n",
       "\n",
       "    .dataframe thead th {\n",
       "        text-align: right;\n",
       "    }\n",
       "</style>\n",
       "<table border=\"1\" class=\"dataframe\">\n",
       "  <thead>\n",
       "    <tr style=\"text-align: right;\">\n",
       "      <th></th>\n",
       "      <th>monthly_charges</th>\n",
       "      <th>total_charges</th>\n",
       "      <th>senior_citizen</th>\n",
       "      <th>lifetime</th>\n",
       "      <th>type_One year</th>\n",
       "      <th>type_Two year</th>\n",
       "      <th>paperless_billing_Yes</th>\n",
       "      <th>payment_method_Credit card (automatic)</th>\n",
       "      <th>payment_method_Electronic check</th>\n",
       "      <th>payment_method_Mailed check</th>\n",
       "      <th>...</th>\n",
       "      <th>partner_Yes</th>\n",
       "      <th>dependents_Yes</th>\n",
       "      <th>internet_service_Fiber optic</th>\n",
       "      <th>online_security_Yes</th>\n",
       "      <th>online_backup_Yes</th>\n",
       "      <th>device_protection_Yes</th>\n",
       "      <th>tech_support_Yes</th>\n",
       "      <th>streaming_tv_Yes</th>\n",
       "      <th>streaming_movies_Yes</th>\n",
       "      <th>multiple_lines_Yes</th>\n",
       "    </tr>\n",
       "  </thead>\n",
       "  <tbody>\n",
       "    <tr>\n",
       "      <td>5007</td>\n",
       "      <td>-1.470486</td>\n",
       "      <td>-0.784218</td>\n",
       "      <td>0</td>\n",
       "      <td>-0.319949</td>\n",
       "      <td>0</td>\n",
       "      <td>0</td>\n",
       "      <td>0</td>\n",
       "      <td>0</td>\n",
       "      <td>0</td>\n",
       "      <td>1</td>\n",
       "      <td>...</td>\n",
       "      <td>0</td>\n",
       "      <td>0</td>\n",
       "      <td>0</td>\n",
       "      <td>0</td>\n",
       "      <td>0</td>\n",
       "      <td>0</td>\n",
       "      <td>0</td>\n",
       "      <td>0</td>\n",
       "      <td>0</td>\n",
       "      <td>0</td>\n",
       "    </tr>\n",
       "    <tr>\n",
       "      <td>2576</td>\n",
       "      <td>1.437036</td>\n",
       "      <td>1.585151</td>\n",
       "      <td>0</td>\n",
       "      <td>0.815459</td>\n",
       "      <td>0</td>\n",
       "      <td>0</td>\n",
       "      <td>1</td>\n",
       "      <td>0</td>\n",
       "      <td>0</td>\n",
       "      <td>0</td>\n",
       "      <td>...</td>\n",
       "      <td>1</td>\n",
       "      <td>1</td>\n",
       "      <td>1</td>\n",
       "      <td>0</td>\n",
       "      <td>1</td>\n",
       "      <td>1</td>\n",
       "      <td>1</td>\n",
       "      <td>1</td>\n",
       "      <td>1</td>\n",
       "      <td>0</td>\n",
       "    </tr>\n",
       "    <tr>\n",
       "      <td>409</td>\n",
       "      <td>-1.503658</td>\n",
       "      <td>-1.013485</td>\n",
       "      <td>0</td>\n",
       "      <td>-1.292965</td>\n",
       "      <td>0</td>\n",
       "      <td>0</td>\n",
       "      <td>1</td>\n",
       "      <td>0</td>\n",
       "      <td>0</td>\n",
       "      <td>1</td>\n",
       "      <td>...</td>\n",
       "      <td>0</td>\n",
       "      <td>0</td>\n",
       "      <td>0</td>\n",
       "      <td>0</td>\n",
       "      <td>0</td>\n",
       "      <td>0</td>\n",
       "      <td>0</td>\n",
       "      <td>0</td>\n",
       "      <td>0</td>\n",
       "      <td>0</td>\n",
       "    </tr>\n",
       "  </tbody>\n",
       "</table>\n",
       "<p>3 rows × 21 columns</p>\n",
       "</div>"
      ],
      "text/plain": [
       "      monthly_charges  total_charges  senior_citizen  lifetime  type_One year  \\\n",
       "5007        -1.470486      -0.784218               0 -0.319949              0   \n",
       "2576         1.437036       1.585151               0  0.815459              0   \n",
       "409         -1.503658      -1.013485               0 -1.292965              0   \n",
       "\n",
       "      type_Two year  paperless_billing_Yes  \\\n",
       "5007              0                      0   \n",
       "2576              0                      1   \n",
       "409               0                      1   \n",
       "\n",
       "      payment_method_Credit card (automatic)  payment_method_Electronic check  \\\n",
       "5007                                       0                                0   \n",
       "2576                                       0                                0   \n",
       "409                                        0                                0   \n",
       "\n",
       "      payment_method_Mailed check  ...  partner_Yes  dependents_Yes  \\\n",
       "5007                            1  ...            0               0   \n",
       "2576                            0  ...            1               1   \n",
       "409                             1  ...            0               0   \n",
       "\n",
       "      internet_service_Fiber optic  online_security_Yes  online_backup_Yes  \\\n",
       "5007                             0                    0                  0   \n",
       "2576                             1                    0                  1   \n",
       "409                              0                    0                  0   \n",
       "\n",
       "      device_protection_Yes  tech_support_Yes  streaming_tv_Yes  \\\n",
       "5007                      0                 0                 0   \n",
       "2576                      1                 1                 1   \n",
       "409                       0                 0                 0   \n",
       "\n",
       "      streaming_movies_Yes  multiple_lines_Yes  \n",
       "5007                     0                   0  \n",
       "2576                     1                   0  \n",
       "409                      0                   0  \n",
       "\n",
       "[3 rows x 21 columns]"
      ]
     },
     "execution_count": 42,
     "metadata": {},
     "output_type": "execute_result"
    }
   ],
   "source": [
    "features_test.head(3)"
   ]
  },
  {
   "cell_type": "markdown",
   "metadata": {},
   "source": [
    "Данные разделены, теперь перейдём к созданию и обучению модели."
   ]
  },
  {
   "cell_type": "markdown",
   "metadata": {},
   "source": [
    "## Построение и обучение модели"
   ]
  },
  {
   "cell_type": "markdown",
   "metadata": {},
   "source": [
    "Для начала разработаю функцию, которая будет принимать в качестве аругментов: модель, обучающую выборку, целевой признак обучающей выборки.\n",
    "\n",
    "Переданная в качестве аргумента модель будет обучаться на обучающей выборке. Затем совершать предсказание для этой же обучающей выборки. Затем модель будет проходить кросс-валидацию с параметром cv=5 (данный параметр можно изменить, передав соответствующий аргумент в функцию). По итогу всех операций с моделью будет выведены следующие значения:\n",
    "\n",
    "* Значение метрики Accuracy на обучающей выборке;\n",
    "\n",
    "* Значение метрики ROC-AUC на обучающей выборке;\n",
    "\n",
    "* Значения метрики ROC-AUC после кросс-валидации на обучающей выборке;\n",
    "\n",
    "* Значения метрики Accuracy после кросс-валидации на обучающей выборке;\n",
    "\n",
    "* Feature Importances в виде графика типа bar."
   ]
  },
  {
   "cell_type": "code",
   "execution_count": 43,
   "metadata": {},
   "outputs": [],
   "source": [
    "def modelfit(alg, features_train, target_train, performCV=True, printFeatureImportance=True, cv_folds=5):\n",
    "    # Обучение модели\n",
    "    alg.fit(features_train, target_train)\n",
    "        \n",
    "    # Предсказание модели на обучающей выборке:\n",
    "    train_predictions = alg.predict(features_train)\n",
    "    train_predprob = alg.predict_proba(features_train)[:,1]\n",
    "    #valid_predictions = alg.predict(features_valid)\n",
    "    #valid_predprob = alg.predict_proba(features_valid)[:,1]\n",
    "    \n",
    "    # Кросс-валидация:\n",
    "    if performCV:\n",
    "        cv_score = cross_val_score(alg, features_train, target_train, cv=cv_folds, scoring='roc_auc')\n",
    "        cv_score_acc = cross_val_score(alg, features_train, target_train, cv=cv_folds, scoring='accuracy')\n",
    "    \n",
    "    print (\"\\nModel Report\")\n",
    "    print (\"Accuracy (train) : %.4g\" % metrics.accuracy_score(target_train.values, train_predictions))\n",
    "    #print (\"Accuracy (valid) : %.4g\" % metrics.accuracy_score(target_valid.values, valid_predictions))\n",
    "    print (\"ROC-AUC Score (Train): %f\" % metrics.roc_auc_score(target_train, train_predprob))\n",
    "    #print (\"AUC Score (Valid): %f\" % metrics.roc_auc_score(target_valid, valid_predprob))\n",
    "           \n",
    "    if performCV:\n",
    "        print (\"CV Score ROC-AUC: Mean - %.7g | Std - %.7g | Min - %.7g | Max - %.7g\" % (np.mean(cv_score),np.std(cv_score),np.min(cv_score),np.max(cv_score)))\n",
    "        print (\"CV Score Accuracy: Mean - %.7g | Std - %.7g | Min - %.7g | Max - %.7g\" % (np.mean(cv_score_acc),np.std(cv_score_acc),np.min(cv_score_acc),np.max(cv_score_acc)))\n",
    "        \n",
    "    # Feature Importances:\n",
    "    if printFeatureImportance:\n",
    "        feat_imp = pd.Series(alg.feature_importances_, features_train.columns).sort_values(ascending=False)\n",
    "        feat_imp.plot(kind='bar', title='Feature Importances')\n",
    "        plt.ylabel('Feature Importance Score')"
   ]
  },
  {
   "cell_type": "markdown",
   "metadata": {},
   "source": [
    "Опробуем несколько моделей:\n",
    "\n",
    "* Random Forest Classifier;\n",
    "\n",
    "* Gradient Boosting Classifier;\n",
    "\n",
    "* XGBoost Classifier."
   ]
  },
  {
   "cell_type": "markdown",
   "metadata": {},
   "source": [
    "### Модель Random Forest Classifier"
   ]
  },
  {
   "cell_type": "markdown",
   "metadata": {},
   "source": [
    "Начнем с модели Random Forest Classifier. Feature Importances пока выводить не будем."
   ]
  },
  {
   "cell_type": "code",
   "execution_count": 44,
   "metadata": {},
   "outputs": [
    {
     "name": "stdout",
     "output_type": "stream",
     "text": [
      "\n",
      "Model Report\n",
      "Accuracy (train) : 0.9851\n",
      "ROC-AUC Score (Train): 0.999140\n",
      "CV Score ROC-AUC: Mean - 0.8171543 | Std - 0.01799442 | Min - 0.7872336 | Max - 0.8387969\n",
      "CV Score Accuracy: Mean - 0.7957328 | Std - 0.01345104 | Min - 0.7725118 | Max - 0.8130178\n"
     ]
    }
   ],
   "source": [
    "model = RandomForestClassifier(random_state=10)\n",
    "modelfit(model, features_train, target_train, printFeatureImportance=False)"
   ]
  },
  {
   "cell_type": "markdown",
   "metadata": {},
   "source": [
    "Проверим самую простую модель на валидационной выборке."
   ]
  },
  {
   "cell_type": "code",
   "execution_count": 45,
   "metadata": {},
   "outputs": [
    {
     "name": "stdout",
     "output_type": "stream",
     "text": [
      "Метрика ROC-AUC на валидационной выборке: 0.8027616316618875\n"
     ]
    }
   ],
   "source": [
    "model.fit(features_train, target_train)\n",
    "preds_proba = model.predict_proba(features_valid)[:,1]\n",
    "print('Метрика ROC-AUC на валидационной выборке:', metrics.roc_auc_score(target_valid, preds_proba))"
   ]
  },
  {
   "cell_type": "markdown",
   "metadata": {},
   "source": [
    "Мы видим, что метрика ROC-AUC на валидационной выборке невелика. Попробуем настроить гиперпараметры с помощью GridSearchCV."
   ]
  },
  {
   "cell_type": "markdown",
   "metadata": {},
   "source": [
    "Разработаем функцию, которая будет подбирать гиперпараметры к нашей модели с помощью GridSearchCV."
   ]
  },
  {
   "cell_type": "code",
   "execution_count": 46,
   "metadata": {},
   "outputs": [],
   "source": [
    "def tuning(model, params_list, features_train, target_train):\n",
    "    for params_dict in params_list:\n",
    "        print('Производится настройка параметра: {}'.format(list(params_dict.keys())[0]))\n",
    "        gsearch = GridSearchCV(estimator = model,\n",
    "                        param_grid = params_dict, scoring='roc_auc', n_jobs=4, cv=5, verbose=10)\n",
    "        gsearch.fit(features_train, target_train)\n",
    "        print('Оптимальное значение параметра \"{}\" равно {}'.format(list(params_dict.keys())[0], gsearch.best_params_))\n",
    "        model = gsearch.best_estimator_\n",
    "    return model"
   ]
  },
  {
   "cell_type": "code",
   "execution_count": 47,
   "metadata": {
    "scrolled": true
   },
   "outputs": [
    {
     "name": "stdout",
     "output_type": "stream",
     "text": [
      "Производится настройка параметра: n_estimators\n",
      "Fitting 5 folds for each of 15 candidates, totalling 75 fits\n"
     ]
    },
    {
     "name": "stderr",
     "output_type": "stream",
     "text": [
      "[Parallel(n_jobs=4)]: Using backend LokyBackend with 4 concurrent workers.\n",
      "[Parallel(n_jobs=4)]: Done   5 tasks      | elapsed:    7.9s\n",
      "[Parallel(n_jobs=4)]: Done  10 tasks      | elapsed:   13.0s\n",
      "[Parallel(n_jobs=4)]: Done  17 tasks      | elapsed:   19.0s\n",
      "[Parallel(n_jobs=4)]: Done  24 tasks      | elapsed:   25.7s\n",
      "[Parallel(n_jobs=4)]: Done  33 tasks      | elapsed:   35.7s\n",
      "[Parallel(n_jobs=4)]: Done  42 tasks      | elapsed:   45.4s\n",
      "[Parallel(n_jobs=4)]: Done  53 tasks      | elapsed:   56.8s\n",
      "[Parallel(n_jobs=4)]: Done  64 tasks      | elapsed:  1.2min\n",
      "[Parallel(n_jobs=4)]: Done  75 out of  75 | elapsed:  1.4min finished\n"
     ]
    },
    {
     "name": "stdout",
     "output_type": "stream",
     "text": [
      "Оптимальное значение параметра \"n_estimators\" равно {'n_estimators': 290}\n",
      "Производится настройка параметра: max_depth\n",
      "Fitting 5 folds for each of 10 candidates, totalling 50 fits\n"
     ]
    },
    {
     "name": "stderr",
     "output_type": "stream",
     "text": [
      "[Parallel(n_jobs=4)]: Using backend LokyBackend with 4 concurrent workers.\n",
      "[Parallel(n_jobs=4)]: Done   5 tasks      | elapsed:    4.5s\n",
      "[Parallel(n_jobs=4)]: Done  10 tasks      | elapsed:    9.5s\n",
      "[Parallel(n_jobs=4)]: Done  17 tasks      | elapsed:   19.7s\n",
      "[Parallel(n_jobs=4)]: Done  24 tasks      | elapsed:   30.8s\n",
      "[Parallel(n_jobs=4)]: Done  33 tasks      | elapsed:   43.4s\n",
      "[Parallel(n_jobs=4)]: Done  42 tasks      | elapsed:   57.7s\n",
      "[Parallel(n_jobs=4)]: Done  50 out of  50 | elapsed:  1.1min finished\n"
     ]
    },
    {
     "name": "stdout",
     "output_type": "stream",
     "text": [
      "Оптимальное значение параметра \"max_depth\" равно {'max_depth': 6}\n",
      "Производится настройка параметра: min_samples_split\n",
      "Fitting 5 folds for each of 18 candidates, totalling 90 fits\n"
     ]
    },
    {
     "name": "stderr",
     "output_type": "stream",
     "text": [
      "[Parallel(n_jobs=4)]: Using backend LokyBackend with 4 concurrent workers.\n",
      "[Parallel(n_jobs=4)]: Done   5 tasks      | elapsed:    6.2s\n",
      "[Parallel(n_jobs=4)]: Done  10 tasks      | elapsed:   11.5s\n",
      "[Parallel(n_jobs=4)]: Done  17 tasks      | elapsed:   17.9s\n",
      "[Parallel(n_jobs=4)]: Done  24 tasks      | elapsed:   24.7s\n",
      "[Parallel(n_jobs=4)]: Done  33 tasks      | elapsed:   33.4s\n",
      "[Parallel(n_jobs=4)]: Done  42 tasks      | elapsed:   42.4s\n",
      "[Parallel(n_jobs=4)]: Done  53 tasks      | elapsed:   53.1s\n",
      "[Parallel(n_jobs=4)]: Done  64 tasks      | elapsed:  1.1min\n",
      "[Parallel(n_jobs=4)]: Done  77 tasks      | elapsed:  1.3min\n",
      "[Parallel(n_jobs=4)]: Done  90 out of  90 | elapsed:  1.5min finished\n"
     ]
    },
    {
     "name": "stdout",
     "output_type": "stream",
     "text": [
      "Оптимальное значение параметра \"min_samples_split\" равно {'min_samples_split': 12}\n",
      "Производится настройка параметра: min_samples_leaf\n",
      "Fitting 5 folds for each of 13 candidates, totalling 65 fits\n"
     ]
    },
    {
     "name": "stderr",
     "output_type": "stream",
     "text": [
      "[Parallel(n_jobs=4)]: Using backend LokyBackend with 4 concurrent workers.\n",
      "[Parallel(n_jobs=4)]: Done   5 tasks      | elapsed:    6.7s\n",
      "[Parallel(n_jobs=4)]: Done  10 tasks      | elapsed:   10.1s\n",
      "[Parallel(n_jobs=4)]: Done  17 tasks      | elapsed:   17.3s\n",
      "[Parallel(n_jobs=4)]: Done  24 tasks      | elapsed:   24.1s\n",
      "[Parallel(n_jobs=4)]: Done  33 tasks      | elapsed:   32.2s\n",
      "[Parallel(n_jobs=4)]: Done  42 tasks      | elapsed:   41.1s\n",
      "[Parallel(n_jobs=4)]: Done  53 tasks      | elapsed:   51.8s\n",
      "[Parallel(n_jobs=4)]: Done  65 out of  65 | elapsed:  1.0min remaining:    0.0s\n",
      "[Parallel(n_jobs=4)]: Done  65 out of  65 | elapsed:  1.0min finished\n"
     ]
    },
    {
     "name": "stdout",
     "output_type": "stream",
     "text": [
      "Оптимальное значение параметра \"min_samples_leaf\" равно {'min_samples_leaf': 3}\n",
      "Производится настройка параметра: max_leaf_nodes\n",
      "Fitting 5 folds for each of 8 candidates, totalling 40 fits\n"
     ]
    },
    {
     "name": "stderr",
     "output_type": "stream",
     "text": [
      "[Parallel(n_jobs=4)]: Using backend LokyBackend with 4 concurrent workers.\n",
      "[Parallel(n_jobs=4)]: Done   5 tasks      | elapsed:    5.3s\n",
      "[Parallel(n_jobs=4)]: Done  10 tasks      | elapsed:    8.5s\n",
      "[Parallel(n_jobs=4)]: Done  17 tasks      | elapsed:   13.7s\n",
      "[Parallel(n_jobs=4)]: Done  24 tasks      | elapsed:   18.4s\n",
      "[Parallel(n_jobs=4)]: Done  33 tasks      | elapsed:   25.8s\n",
      "[Parallel(n_jobs=4)]: Done  38 out of  40 | elapsed:   30.6s remaining:    1.6s\n",
      "[Parallel(n_jobs=4)]: Done  40 out of  40 | elapsed:   31.0s finished\n"
     ]
    },
    {
     "name": "stdout",
     "output_type": "stream",
     "text": [
      "Оптимальное значение параметра \"max_leaf_nodes\" равно {'max_leaf_nodes': 9}\n",
      "Производится настройка параметра: min_weight_fraction_leaf\n",
      "Fitting 5 folds for each of 6 candidates, totalling 30 fits\n"
     ]
    },
    {
     "name": "stderr",
     "output_type": "stream",
     "text": [
      "[Parallel(n_jobs=4)]: Using backend LokyBackend with 4 concurrent workers.\n",
      "[Parallel(n_jobs=4)]: Done   5 tasks      | elapsed:    4.6s\n",
      "[Parallel(n_jobs=4)]: Done  10 tasks      | elapsed:    7.5s\n",
      "[Parallel(n_jobs=4)]: Done  17 tasks      | elapsed:   12.6s\n",
      "[Parallel(n_jobs=4)]: Done  27 out of  30 | elapsed:   17.7s remaining:    2.0s\n",
      "[Parallel(n_jobs=4)]: Done  30 out of  30 | elapsed:   18.8s finished\n"
     ]
    },
    {
     "name": "stdout",
     "output_type": "stream",
     "text": [
      "Оптимальное значение параметра \"min_weight_fraction_leaf\" равно {'min_weight_fraction_leaf': 0.0}\n",
      "Производится настройка параметра: min_impurity_decrease\n",
      "Fitting 5 folds for each of 6 candidates, totalling 30 fits\n"
     ]
    },
    {
     "name": "stderr",
     "output_type": "stream",
     "text": [
      "[Parallel(n_jobs=4)]: Using backend LokyBackend with 4 concurrent workers.\n",
      "[Parallel(n_jobs=4)]: Done   5 tasks      | elapsed:    6.0s\n",
      "[Parallel(n_jobs=4)]: Done  10 tasks      | elapsed:    9.7s\n",
      "[Parallel(n_jobs=4)]: Done  17 tasks      | elapsed:   15.2s\n",
      "[Parallel(n_jobs=4)]: Done  27 out of  30 | elapsed:   21.6s remaining:    2.4s\n",
      "[Parallel(n_jobs=4)]: Done  30 out of  30 | elapsed:   22.6s finished\n"
     ]
    },
    {
     "name": "stdout",
     "output_type": "stream",
     "text": [
      "Оптимальное значение параметра \"min_impurity_decrease\" равно {'min_impurity_decrease': 0.0}\n"
     ]
    }
   ],
   "source": [
    "params_list = [\n",
    "    {'n_estimators': [i for i in range(150, 300, 10)]},\n",
    "    {'max_depth': [i for i in range(1, 50, 5)]},\n",
    "    {'min_samples_split': [i for i in range(2, 20, 1)]},\n",
    "    {'min_samples_leaf': [i for i in range(2, 15, 1)]},\n",
    "    {'max_leaf_nodes': [i for i in range(2, 10, 1)]},\n",
    "    {'min_weight_fraction_leaf': np.arange(0, 0.6, 0.1)},\n",
    "    {'min_impurity_decrease': np.arange(0, 0.6, 0.1)}\n",
    "]\n",
    "\n",
    "model = RandomForestClassifier(random_state=10)\n",
    "\n",
    "model = tuning(model, params_list, features_train, target_train)"
   ]
  },
  {
   "cell_type": "markdown",
   "metadata": {},
   "source": [
    "Проверим настроенную модель."
   ]
  },
  {
   "cell_type": "code",
   "execution_count": 48,
   "metadata": {},
   "outputs": [
    {
     "name": "stdout",
     "output_type": "stream",
     "text": [
      "\n",
      "Model Report\n",
      "Accuracy (train) : 0.8059\n",
      "ROC-AUC Score (Train): 0.862396\n",
      "CV Score ROC-AUC: Mean - 0.8511068 | Std - 0.01272383 | Min - 0.8363767 | Max - 0.8717578\n",
      "CV Score Accuracy: Mean - 0.7983467 | Std - 0.009811431 | Min - 0.7836879 | Max - 0.8094675\n"
     ]
    },
    {
     "data": {
      "image/png": "[encoded data removed]",
      "text/plain": [
       "<Figure size 432x288 with 1 Axes>"
      ]
     },
     "metadata": {
      "needs_background": "light"
     },
     "output_type": "display_data"
    }
   ],
   "source": [
    "modelfit(model, features_train, target_train)"
   ]
  },
  {
   "cell_type": "markdown",
   "metadata": {},
   "source": [
    "Мы можем увидеть, что значение метрики ROC-AUC выросло.\n",
    "\n",
    "Также проверим модель на валидационной выборке."
   ]
  },
  {
   "cell_type": "code",
   "execution_count": 49,
   "metadata": {},
   "outputs": [
    {
     "name": "stdout",
     "output_type": "stream",
     "text": [
      "ROC-AUC score (test):  0.838709344080188\n"
     ]
    }
   ],
   "source": [
    "rfc_model = model\n",
    "\n",
    "model.fit(features_train, target_train)\n",
    "\n",
    "preds_proba = model.predict_proba(features_valid)[:,1]\n",
    "print('ROC-AUC score (test): ', metrics.roc_auc_score(target_valid, preds_proba))"
   ]
  },
  {
   "cell_type": "markdown",
   "metadata": {},
   "source": [
    "<b>Вывод:</b> Значение метрики ROC-AUC модели Random Forest Classifier с настроенными параметрами 0.838, это не впечатляющий результат. Перейдём к следующей модели."
   ]
  },
  {
   "cell_type": "markdown",
   "metadata": {},
   "source": [
    "### Модель Gradient Boosting Classifier"
   ]
  },
  {
   "cell_type": "code",
   "execution_count": 50,
   "metadata": {},
   "outputs": [
    {
     "name": "stdout",
     "output_type": "stream",
     "text": [
      "\n",
      "Model Report\n",
      "Accuracy (train) : 0.8528\n",
      "ROC-AUC Score (Train): 0.911109\n",
      "CV Score ROC-AUC: Mean - 0.8813984 | Std - 0.0124346 | Min - 0.8676087 | Max - 0.9015521\n",
      "CV Score Accuracy: Mean - 0.8314803 | Std - 0.01236401 | Min - 0.8191489 | Max - 0.8544379\n"
     ]
    }
   ],
   "source": [
    "gbm0 = GradientBoostingClassifier(random_state=10)\n",
    "modelfit(gbm0, features_train, target_train, printFeatureImportance=False)"
   ]
  },
  {
   "cell_type": "code",
   "execution_count": 51,
   "metadata": {},
   "outputs": [
    {
     "name": "stdout",
     "output_type": "stream",
     "text": [
      "ROC-AUC score (valid):  0.870257562840683\n"
     ]
    }
   ],
   "source": [
    "gbm0.fit(features_train, target_train)\n",
    "\n",
    "preds_proba = gbm0.predict_proba(features_valid)[:,1]\n",
    "print('ROC-AUC score (valid): ', metrics.roc_auc_score(target_valid, preds_proba))"
   ]
  },
  {
   "cell_type": "markdown",
   "metadata": {},
   "source": [
    "Значение метрики ROC-AUC на валидационной выборке 0.87, это уже больше, чем у Random Forest. Приступим к настройке параметров."
   ]
  },
  {
   "cell_type": "code",
   "execution_count": 52,
   "metadata": {
    "scrolled": true
   },
   "outputs": [
    {
     "name": "stdout",
     "output_type": "stream",
     "text": [
      "Производится настройка параметра: n_estimators\n",
      "Fitting 5 folds for each of 10 candidates, totalling 50 fits\n"
     ]
    },
    {
     "name": "stderr",
     "output_type": "stream",
     "text": [
      "[Parallel(n_jobs=4)]: Using backend LokyBackend with 4 concurrent workers.\n",
      "[Parallel(n_jobs=4)]: Done   5 tasks      | elapsed:    6.0s\n",
      "[Parallel(n_jobs=4)]: Done  10 tasks      | elapsed:   11.1s\n",
      "[Parallel(n_jobs=4)]: Done  17 tasks      | elapsed:   18.2s\n",
      "[Parallel(n_jobs=4)]: Done  24 tasks      | elapsed:   25.3s\n",
      "[Parallel(n_jobs=4)]: Done  33 tasks      | elapsed:   35.9s\n",
      "[Parallel(n_jobs=4)]: Done  42 tasks      | elapsed:   49.1s\n",
      "[Parallel(n_jobs=4)]: Done  50 out of  50 | elapsed:   57.7s finished\n"
     ]
    },
    {
     "name": "stdout",
     "output_type": "stream",
     "text": [
      "Оптимальное значение параметра \"n_estimators\" равно {'n_estimators': 340}\n",
      "Производится настройка параметра: max_depth\n",
      "Fitting 5 folds for each of 7 candidates, totalling 35 fits\n"
     ]
    },
    {
     "name": "stderr",
     "output_type": "stream",
     "text": [
      "[Parallel(n_jobs=4)]: Using backend LokyBackend with 4 concurrent workers.\n",
      "[Parallel(n_jobs=4)]: Done   5 tasks      | elapsed:    2.9s\n",
      "[Parallel(n_jobs=4)]: Done  10 tasks      | elapsed:    6.7s\n",
      "[Parallel(n_jobs=4)]: Done  17 tasks      | elapsed:   18.9s\n",
      "[Parallel(n_jobs=4)]: Done  24 tasks      | elapsed:   35.8s\n",
      "[Parallel(n_jobs=4)]: Done  32 out of  35 | elapsed:  1.2min remaining:    6.5s\n",
      "[Parallel(n_jobs=4)]: Done  35 out of  35 | elapsed:  1.3min finished\n"
     ]
    },
    {
     "name": "stdout",
     "output_type": "stream",
     "text": [
      "Оптимальное значение параметра \"max_depth\" равно {'max_depth': 6}\n",
      "Производится настройка параметра: min_samples_split\n",
      "Fitting 5 folds for each of 6 candidates, totalling 30 fits\n"
     ]
    },
    {
     "name": "stderr",
     "output_type": "stream",
     "text": [
      "[Parallel(n_jobs=4)]: Using backend LokyBackend with 4 concurrent workers.\n",
      "[Parallel(n_jobs=4)]: Done   5 tasks      | elapsed:   20.0s\n",
      "[Parallel(n_jobs=4)]: Done  10 tasks      | elapsed:   37.9s\n",
      "[Parallel(n_jobs=4)]: Done  17 tasks      | elapsed:   54.9s\n",
      "[Parallel(n_jobs=4)]: Done  27 out of  30 | elapsed:  1.5min remaining:    9.8s\n",
      "[Parallel(n_jobs=4)]: Done  30 out of  30 | elapsed:  1.5min finished\n"
     ]
    },
    {
     "name": "stdout",
     "output_type": "stream",
     "text": [
      "Оптимальное значение параметра \"min_samples_split\" равно {'min_samples_split': 12}\n",
      "Производится настройка параметра: min_samples_leaf\n",
      "Fitting 5 folds for each of 4 candidates, totalling 20 fits\n"
     ]
    },
    {
     "name": "stderr",
     "output_type": "stream",
     "text": [
      "[Parallel(n_jobs=4)]: Using backend LokyBackend with 4 concurrent workers.\n",
      "[Parallel(n_jobs=4)]: Done   5 tasks      | elapsed:   19.5s\n",
      "[Parallel(n_jobs=4)]: Done  10 tasks      | elapsed:   32.4s\n",
      "[Parallel(n_jobs=4)]: Done  16 out of  20 | elapsed:   54.3s remaining:   13.6s\n",
      "[Parallel(n_jobs=4)]: Done  20 out of  20 | elapsed:  1.0min finished\n"
     ]
    },
    {
     "name": "stdout",
     "output_type": "stream",
     "text": [
      "Оптимальное значение параметра \"min_samples_leaf\" равно {'min_samples_leaf': 2}\n",
      "Производится настройка параметра: max_leaf_nodes\n",
      "Fitting 5 folds for each of 10 candidates, totalling 50 fits\n"
     ]
    },
    {
     "name": "stderr",
     "output_type": "stream",
     "text": [
      "[Parallel(n_jobs=4)]: Using backend LokyBackend with 4 concurrent workers.\n",
      "[Parallel(n_jobs=4)]: Done   5 tasks      | elapsed:    5.4s\n",
      "[Parallel(n_jobs=4)]: Done  10 tasks      | elapsed:   10.6s\n",
      "[Parallel(n_jobs=4)]: Done  17 tasks      | elapsed:   22.2s\n",
      "[Parallel(n_jobs=4)]: Done  24 tasks      | elapsed:   33.4s\n",
      "[Parallel(n_jobs=4)]: Done  33 tasks      | elapsed:   47.3s\n",
      "[Parallel(n_jobs=4)]: Done  42 tasks      | elapsed:  1.1min\n",
      "[Parallel(n_jobs=4)]: Done  50 out of  50 | elapsed:  1.3min finished\n"
     ]
    },
    {
     "name": "stdout",
     "output_type": "stream",
     "text": [
      "Оптимальное значение параметра \"max_leaf_nodes\" равно {'max_leaf_nodes': 9}\n",
      "Производится настройка параметра: min_weight_fraction_leaf\n",
      "Fitting 5 folds for each of 6 candidates, totalling 30 fits\n"
     ]
    },
    {
     "name": "stderr",
     "output_type": "stream",
     "text": [
      "[Parallel(n_jobs=4)]: Using backend LokyBackend with 4 concurrent workers.\n",
      "[Parallel(n_jobs=4)]: Done   5 tasks      | elapsed:   12.9s\n",
      "[Parallel(n_jobs=4)]: Done  10 tasks      | elapsed:   21.0s\n",
      "[Parallel(n_jobs=4)]: Done  17 tasks      | elapsed:   26.1s\n",
      "[Parallel(n_jobs=4)]: Done  27 out of  30 | elapsed:   31.3s remaining:    3.5s\n",
      "[Parallel(n_jobs=4)]: Done  30 out of  30 | elapsed:   31.7s finished\n"
     ]
    },
    {
     "name": "stdout",
     "output_type": "stream",
     "text": [
      "Оптимальное значение параметра \"min_weight_fraction_leaf\" равно {'min_weight_fraction_leaf': 0.0}\n",
      "Производится настройка параметра: subsample\n",
      "Fitting 5 folds for each of 5 candidates, totalling 25 fits\n"
     ]
    },
    {
     "name": "stderr",
     "output_type": "stream",
     "text": [
      "[Parallel(n_jobs=4)]: Using backend LokyBackend with 4 concurrent workers.\n",
      "[Parallel(n_jobs=4)]: Done   5 tasks      | elapsed:   13.8s\n",
      "[Parallel(n_jobs=4)]: Done  10 tasks      | elapsed:   22.9s\n",
      "[Parallel(n_jobs=4)]: Done  17 tasks      | elapsed:   35.6s\n",
      "[Parallel(n_jobs=4)]: Done  21 out of  25 | elapsed:   42.0s remaining:    8.0s\n",
      "[Parallel(n_jobs=4)]: Done  25 out of  25 | elapsed:   46.5s finished\n"
     ]
    },
    {
     "name": "stdout",
     "output_type": "stream",
     "text": [
      "Оптимальное значение параметра \"subsample\" равно {'subsample': 1}\n"
     ]
    }
   ],
   "source": [
    "params_list = [\n",
    "    {'n_estimators': [i for i in range(250, 350, 10)]},\n",
    "    {'max_depth': [i for i in range(1, 8, 1)]},\n",
    "    {'min_samples_split': [i for i in range(8, 14, 1)]},\n",
    "    {'min_samples_leaf': [i for i in range(2, 6, 1)]},\n",
    "    {'max_leaf_nodes': [i for i in range(2, 12, 1)]},\n",
    "    {'min_weight_fraction_leaf': np.arange(0, 0.6, 0.1)},\n",
    "    #{'min_impurity_decrease': np.arange(0, 0.6, 0.1)},\n",
    "    #{'max_features': [i for i in range(2, 21, 2)]},\n",
    "    {'subsample': [0.8, 0.85, 0.9, 0.95, 1]}\n",
    "]\n",
    "\n",
    "model = GradientBoostingClassifier(random_state=10)\n",
    "\n",
    "model = tuning(model, params_list, features_train, target_train)"
   ]
  },
  {
   "cell_type": "markdown",
   "metadata": {},
   "source": [
    "Настройка гиперпараметров завершена. Проверим модель на обучающей и на валидационной выборке."
   ]
  },
  {
   "cell_type": "code",
   "execution_count": 53,
   "metadata": {},
   "outputs": [
    {
     "name": "stdout",
     "output_type": "stream",
     "text": [
      "\n",
      "Model Report\n",
      "Accuracy (train) : 0.9394\n",
      "ROC-AUC Score (Train): 0.980241\n",
      "CV Score ROC-AUC: Mean - 0.9024382 | Std - 0.008928632 | Min - 0.8905314 | Max - 0.9178205\n",
      "CV Score Accuracy: Mean - 0.8532535 | Std - 0.00731392 | Min - 0.8471564 | Max - 0.8674556\n"
     ]
    },
    {
     "data": {
      "image/png": "[encoded data removed]",
      "text/plain": [
       "<Figure size 432x288 with 1 Axes>"
      ]
     },
     "metadata": {
      "needs_background": "light"
     },
     "output_type": "display_data"
    }
   ],
   "source": [
    "modelfit(model, features_train, target_train)"
   ]
  },
  {
   "cell_type": "markdown",
   "metadata": {},
   "source": [
    "<div style=\"background: #cceeaa; padding: 5px; border: 1px solid green; border-radius: 5px;\">\n",
    "    <font color='green'> <b><u>КОММЕНТАРИЙ РЕВЬЮЕРА</u></b>\n",
    "</font>\n",
    "<font color='green'><br>хорошо, что используешь этот инструмент. На начальном этапе мы можем нагенерить множество разных фич, в том чтисле и лишних. И вот этот инструмент, вкупе с анализом мультиколлинеарности позволяет избавляться от \"балласта\")"
   ]
  },
  {
   "cell_type": "code",
   "execution_count": 54,
   "metadata": {},
   "outputs": [
    {
     "name": "stdout",
     "output_type": "stream",
     "text": [
      "ROC-AUC score (valid):  0.8931424216590457\n"
     ]
    }
   ],
   "source": [
    "gbc_model = model\n",
    "\n",
    "model.fit(features_train, target_train)\n",
    "\n",
    "preds_proba = model.predict_proba(features_valid)[:,1]\n",
    "print('ROC-AUC score (valid): ', metrics.roc_auc_score(target_valid, preds_proba))"
   ]
  },
  {
   "cell_type": "markdown",
   "metadata": {},
   "source": [
    "<b>Вывод:</b> Значение метрики ROC-AUC на валидационной выборке составляет 0.893. Этот результат уже лучше, чем у Random Forest Classifier. Передём к следующей модели."
   ]
  },
  {
   "cell_type": "markdown",
   "metadata": {},
   "source": [
    "### Модель XGBoostClassifier"
   ]
  },
  {
   "cell_type": "code",
   "execution_count": 55,
   "metadata": {
    "scrolled": true
   },
   "outputs": [
    {
     "name": "stdout",
     "output_type": "stream",
     "text": [
      "\n",
      "Model Report\n",
      "Accuracy (train) : 0.8412\n",
      "ROC-AUC Score (Train): 0.901493\n",
      "CV Score ROC-AUC: Mean - 0.8704273 | Std - 0.01211695 | Min - 0.8581106 | Max - 0.8916314\n",
      "CV Score Accuracy: Mean - 0.8253262 | Std - 0.01140173 | Min - 0.8144208 | Max - 0.8461538\n"
     ]
    }
   ],
   "source": [
    "xgb0 = xgb.XGBClassifier(random_state=10, objective='binary:logistic')\n",
    "modelfit(xgb0, features_train, target_train, printFeatureImportance=False)"
   ]
  },
  {
   "cell_type": "code",
   "execution_count": 56,
   "metadata": {},
   "outputs": [
    {
     "name": "stdout",
     "output_type": "stream",
     "text": [
      "ROC-AUC score (valid):  0.8606254359451291\n"
     ]
    }
   ],
   "source": [
    "xgb0.fit(features_train, target_train)\n",
    "\n",
    "preds_proba = xgb0.predict_proba(features_valid)[:,1]\n",
    "print('ROC-AUC score (valid): ', metrics.roc_auc_score(target_valid, preds_proba))"
   ]
  },
  {
   "cell_type": "markdown",
   "metadata": {},
   "source": [
    "Метрика ROC-AUC на валидационной выборке уже достаточно хорошая, но все равно приступим к настройке гиперпараметров модели."
   ]
  },
  {
   "cell_type": "code",
   "execution_count": 57,
   "metadata": {
    "scrolled": true
   },
   "outputs": [
    {
     "name": "stdout",
     "output_type": "stream",
     "text": [
      "Производится настройка параметра: n_estimators\n",
      "Fitting 5 folds for each of 6 candidates, totalling 30 fits\n"
     ]
    },
    {
     "name": "stderr",
     "output_type": "stream",
     "text": [
      "[Parallel(n_jobs=4)]: Using backend LokyBackend with 4 concurrent workers.\n",
      "[Parallel(n_jobs=4)]: Done   5 tasks      | elapsed:    4.8s\n",
      "[Parallel(n_jobs=4)]: Done  10 tasks      | elapsed:   10.0s\n",
      "[Parallel(n_jobs=4)]: Done  17 tasks      | elapsed:   16.1s\n",
      "[Parallel(n_jobs=4)]: Done  27 out of  30 | elapsed:   25.8s remaining:    2.9s\n",
      "[Parallel(n_jobs=4)]: Done  30 out of  30 | elapsed:   27.8s finished\n"
     ]
    },
    {
     "name": "stdout",
     "output_type": "stream",
     "text": [
      "Оптимальное значение параметра \"n_estimators\" равно {'n_estimators': 340}\n",
      "Производится настройка параметра: max_depth\n",
      "Fitting 5 folds for each of 10 candidates, totalling 50 fits\n"
     ]
    },
    {
     "name": "stderr",
     "output_type": "stream",
     "text": [
      "[Parallel(n_jobs=4)]: Using backend LokyBackend with 4 concurrent workers.\n",
      "[Parallel(n_jobs=4)]: Done   5 tasks      | elapsed:    4.1s\n",
      "[Parallel(n_jobs=4)]: Done  10 tasks      | elapsed:    8.3s\n",
      "[Parallel(n_jobs=4)]: Done  17 tasks      | elapsed:   18.2s\n",
      "[Parallel(n_jobs=4)]: Done  24 tasks      | elapsed:   26.2s\n",
      "[Parallel(n_jobs=4)]: Done  33 tasks      | elapsed:   47.5s\n",
      "[Parallel(n_jobs=4)]: Done  42 tasks      | elapsed:  1.2min\n",
      "[Parallel(n_jobs=4)]: Done  50 out of  50 | elapsed:  1.6min finished\n"
     ]
    },
    {
     "name": "stdout",
     "output_type": "stream",
     "text": [
      "Оптимальное значение параметра \"max_depth\" равно {'max_depth': 4}\n",
      "Производится настройка параметра: learning_rate\n",
      "Fitting 5 folds for each of 4 candidates, totalling 20 fits\n"
     ]
    },
    {
     "name": "stderr",
     "output_type": "stream",
     "text": [
      "[Parallel(n_jobs=4)]: Using backend LokyBackend with 4 concurrent workers.\n",
      "[Parallel(n_jobs=4)]: Done   5 tasks      | elapsed:    7.4s\n",
      "[Parallel(n_jobs=4)]: Done  10 tasks      | elapsed:   15.8s\n",
      "[Parallel(n_jobs=4)]: Done  16 out of  20 | elapsed:   22.1s remaining:    5.5s\n",
      "[Parallel(n_jobs=4)]: Done  20 out of  20 | elapsed:   25.1s finished\n"
     ]
    },
    {
     "name": "stdout",
     "output_type": "stream",
     "text": [
      "Оптимальное значение параметра \"learning_rate\" равно {'learning_rate': 0.1}\n",
      "Производится настройка параметра: subsample\n",
      "Fitting 5 folds for each of 5 candidates, totalling 25 fits\n"
     ]
    },
    {
     "name": "stderr",
     "output_type": "stream",
     "text": [
      "[Parallel(n_jobs=4)]: Using backend LokyBackend with 4 concurrent workers.\n",
      "[Parallel(n_jobs=4)]: Done   5 tasks      | elapsed:   11.3s\n",
      "[Parallel(n_jobs=4)]: Done  10 tasks      | elapsed:   17.6s\n",
      "[Parallel(n_jobs=4)]: Done  17 tasks      | elapsed:   26.5s\n",
      "[Parallel(n_jobs=4)]: Done  21 out of  25 | elapsed:   31.2s remaining:    5.9s\n",
      "[Parallel(n_jobs=4)]: Done  25 out of  25 | elapsed:   35.1s finished\n"
     ]
    },
    {
     "name": "stdout",
     "output_type": "stream",
     "text": [
      "Оптимальное значение параметра \"subsample\" равно {'subsample': 1}\n",
      "Производится настройка параметра: min_child_weight\n",
      "Fitting 5 folds for each of 7 candidates, totalling 35 fits\n"
     ]
    },
    {
     "name": "stderr",
     "output_type": "stream",
     "text": [
      "[Parallel(n_jobs=4)]: Using backend LokyBackend with 4 concurrent workers.\n",
      "[Parallel(n_jobs=4)]: Done   5 tasks      | elapsed:    8.1s\n",
      "[Parallel(n_jobs=4)]: Done  10 tasks      | elapsed:   15.3s\n",
      "[Parallel(n_jobs=4)]: Done  17 tasks      | elapsed:   23.9s\n",
      "[Parallel(n_jobs=4)]: Done  24 tasks      | elapsed:   30.4s\n",
      "[Parallel(n_jobs=4)]: Done  32 out of  35 | elapsed:   40.3s remaining:    3.8s\n",
      "[Parallel(n_jobs=4)]: Done  35 out of  35 | elapsed:   42.1s finished\n"
     ]
    },
    {
     "name": "stdout",
     "output_type": "stream",
     "text": [
      "Оптимальное значение параметра \"min_child_weight\" равно {'min_child_weight': 0}\n",
      "Производится настройка параметра: eta\n",
      "Fitting 5 folds for each of 9 candidates, totalling 45 fits\n"
     ]
    },
    {
     "name": "stderr",
     "output_type": "stream",
     "text": [
      "[Parallel(n_jobs=4)]: Using backend LokyBackend with 4 concurrent workers.\n",
      "[Parallel(n_jobs=4)]: Done   5 tasks      | elapsed:    9.3s\n",
      "[Parallel(n_jobs=4)]: Done  10 tasks      | elapsed:   16.1s\n",
      "[Parallel(n_jobs=4)]: Done  17 tasks      | elapsed:   24.4s\n",
      "[Parallel(n_jobs=4)]: Done  24 tasks      | elapsed:   34.0s\n",
      "[Parallel(n_jobs=4)]: Done  33 tasks      | elapsed:   45.2s\n",
      "[Parallel(n_jobs=4)]: Done  43 out of  45 | elapsed:   58.7s remaining:    2.7s\n",
      "[Parallel(n_jobs=4)]: Done  45 out of  45 | elapsed:   59.1s finished\n"
     ]
    },
    {
     "name": "stdout",
     "output_type": "stream",
     "text": [
      "Оптимальное значение параметра \"eta\" равно {'eta': 0.1}\n",
      "Производится настройка параметра: colsample_bytree\n",
      "Fitting 5 folds for each of 5 candidates, totalling 25 fits\n"
     ]
    },
    {
     "name": "stderr",
     "output_type": "stream",
     "text": [
      "[Parallel(n_jobs=4)]: Using backend LokyBackend with 4 concurrent workers.\n",
      "[Parallel(n_jobs=4)]: Done   5 tasks      | elapsed:    6.4s\n",
      "[Parallel(n_jobs=4)]: Done  10 tasks      | elapsed:   11.3s\n",
      "[Parallel(n_jobs=4)]: Done  17 tasks      | elapsed:   19.5s\n",
      "[Parallel(n_jobs=4)]: Done  21 out of  25 | elapsed:   25.0s remaining:    4.8s\n",
      "[Parallel(n_jobs=4)]: Done  25 out of  25 | elapsed:   28.2s finished\n"
     ]
    },
    {
     "name": "stdout",
     "output_type": "stream",
     "text": [
      "Оптимальное значение параметра \"colsample_bytree\" равно {'colsample_bytree': 0.5}\n",
      "Производится настройка параметра: colsample_bylevel\n",
      "Fitting 5 folds for each of 5 candidates, totalling 25 fits\n"
     ]
    },
    {
     "name": "stderr",
     "output_type": "stream",
     "text": [
      "[Parallel(n_jobs=4)]: Using backend LokyBackend with 4 concurrent workers.\n",
      "[Parallel(n_jobs=4)]: Done   5 tasks      | elapsed:    5.9s\n",
      "[Parallel(n_jobs=4)]: Done  10 tasks      | elapsed:    9.9s\n",
      "[Parallel(n_jobs=4)]: Done  17 tasks      | elapsed:   15.6s\n",
      "[Parallel(n_jobs=4)]: Done  21 out of  25 | elapsed:   20.0s remaining:    3.8s\n",
      "[Parallel(n_jobs=4)]: Done  25 out of  25 | elapsed:   21.9s finished\n"
     ]
    },
    {
     "name": "stdout",
     "output_type": "stream",
     "text": [
      "Оптимальное значение параметра \"colsample_bylevel\" равно {'colsample_bylevel': 0.8999999999999999}\n",
      "Производится настройка параметра: colsample_bynode\n",
      "Fitting 5 folds for each of 5 candidates, totalling 25 fits\n"
     ]
    },
    {
     "name": "stderr",
     "output_type": "stream",
     "text": [
      "[Parallel(n_jobs=4)]: Using backend LokyBackend with 4 concurrent workers.\n",
      "[Parallel(n_jobs=4)]: Done   5 tasks      | elapsed:    5.1s\n",
      "[Parallel(n_jobs=4)]: Done  10 tasks      | elapsed:    8.9s\n",
      "[Parallel(n_jobs=4)]: Done  17 tasks      | elapsed:   15.3s\n",
      "[Parallel(n_jobs=4)]: Done  21 out of  25 | elapsed:   18.2s remaining:    3.5s\n",
      "[Parallel(n_jobs=4)]: Done  25 out of  25 | elapsed:   20.4s finished\n"
     ]
    },
    {
     "name": "stdout",
     "output_type": "stream",
     "text": [
      "Оптимальное значение параметра \"colsample_bynode\" равно {'colsample_bynode': 0.8999999999999999}\n"
     ]
    }
   ],
   "source": [
    "params_list = [\n",
    "    {'n_estimators': [i for i in range(290, 350, 10)]},\n",
    "    {'max_depth': [i for i in range(1, 11, 1)]},\n",
    "    {'learning_rate': [0.1, 0.01, 0.05, 0.3]},\n",
    "    {'subsample': [0.8, 0.85, 0.9, 0.95, 1]},\n",
    "    {'min_child_weight': [i for i in range(0, 7, 1)]},\n",
    "    {'eta': np.arange(0.1, 1, 0.1)},\n",
    "    {'colsample_bytree': np.arange(0.5, 1.0, 0.1)},\n",
    "    {'colsample_bylevel': np.arange(0.5, 1.0, 0.1)},\n",
    "    {'colsample_bynode': np.arange(0.5, 1.0, 0.1)}\n",
    "    #{'objective': ['binary:logistic']}\n",
    "]\n",
    "\n",
    "model = xgb.XGBClassifier(random_state=10, objective='binary:logistic')\n",
    "\n",
    "model = tuning(model, params_list, features_train, target_train)"
   ]
  },
  {
   "cell_type": "markdown",
   "metadata": {},
   "source": [
    "Настройка гиперпараметров завершена. Проверим модель на обучающей и валидационной выборке."
   ]
  },
  {
   "cell_type": "code",
   "execution_count": 58,
   "metadata": {},
   "outputs": [
    {
     "name": "stdout",
     "output_type": "stream",
     "text": [
      "\n",
      "Model Report\n",
      "Accuracy (train) : 0.916\n",
      "ROC-AUC Score (Train): 0.970211\n",
      "CV Score ROC-AUC: Mean - 0.886737 | Std - 0.01481804 | Min - 0.8714898 | Max - 0.9118178\n",
      "CV Score Accuracy: Mean - 0.8376291 | Std - 0.01183267 | Min - 0.82109 | Max - 0.8556213\n"
     ]
    },
    {
     "data": {
      "image/png": "[encoded data removed]",
      "text/plain": [
       "<Figure size 432x288 with 1 Axes>"
      ]
     },
     "metadata": {
      "needs_background": "light"
     },
     "output_type": "display_data"
    }
   ],
   "source": [
    "modelfit(model, features_train, target_train)"
   ]
  },
  {
   "cell_type": "code",
   "execution_count": 59,
   "metadata": {
    "scrolled": true
   },
   "outputs": [
    {
     "name": "stdout",
     "output_type": "stream",
     "text": [
      "[0]\tvalidation_0-auc:0.760885\n",
      "[1]\tvalidation_0-auc:0.821504\n",
      "[2]\tvalidation_0-auc:0.822997\n",
      "[3]\tvalidation_0-auc:0.822284\n",
      "[4]\tvalidation_0-auc:0.823723\n",
      "[5]\tvalidation_0-auc:0.826455\n",
      "[6]\tvalidation_0-auc:0.834209\n",
      "[7]\tvalidation_0-auc:0.834772\n",
      "[8]\tvalidation_0-auc:0.837901\n",
      "[9]\tvalidation_0-auc:0.835183\n",
      "[10]\tvalidation_0-auc:0.842234\n",
      "[11]\tvalidation_0-auc:0.843629\n",
      "[12]\tvalidation_0-auc:0.844155\n",
      "[13]\tvalidation_0-auc:0.844145\n",
      "[14]\tvalidation_0-auc:0.844025\n",
      "[15]\tvalidation_0-auc:0.844381\n",
      "[16]\tvalidation_0-auc:0.848418\n",
      "[17]\tvalidation_0-auc:0.848392\n",
      "[18]\tvalidation_0-auc:0.849569\n",
      "[19]\tvalidation_0-auc:0.84933\n",
      "[20]\tvalidation_0-auc:0.848667\n",
      "[21]\tvalidation_0-auc:0.850722\n",
      "[22]\tvalidation_0-auc:0.850263\n",
      "[23]\tvalidation_0-auc:0.84993\n",
      "[24]\tvalidation_0-auc:0.849792\n",
      "[25]\tvalidation_0-auc:0.849823\n",
      "[26]\tvalidation_0-auc:0.849959\n",
      "[27]\tvalidation_0-auc:0.849265\n",
      "[28]\tvalidation_0-auc:0.849709\n",
      "[29]\tvalidation_0-auc:0.850355\n",
      "[30]\tvalidation_0-auc:0.850177\n",
      "[31]\tvalidation_0-auc:0.84977\n",
      "[32]\tvalidation_0-auc:0.85177\n",
      "[33]\tvalidation_0-auc:0.851604\n",
      "[34]\tvalidation_0-auc:0.851757\n",
      "[35]\tvalidation_0-auc:0.851806\n",
      "[36]\tvalidation_0-auc:0.851582\n",
      "[37]\tvalidation_0-auc:0.851972\n",
      "[38]\tvalidation_0-auc:0.851975\n",
      "[39]\tvalidation_0-auc:0.853724\n",
      "[40]\tvalidation_0-auc:0.853804\n",
      "[41]\tvalidation_0-auc:0.853588\n",
      "[42]\tvalidation_0-auc:0.853212\n",
      "[43]\tvalidation_0-auc:0.854269\n",
      "[44]\tvalidation_0-auc:0.854822\n",
      "[45]\tvalidation_0-auc:0.854914\n",
      "[46]\tvalidation_0-auc:0.854911\n",
      "[47]\tvalidation_0-auc:0.855094\n",
      "[48]\tvalidation_0-auc:0.855229\n",
      "[49]\tvalidation_0-auc:0.855407\n",
      "[50]\tvalidation_0-auc:0.855505\n",
      "[51]\tvalidation_0-auc:0.856797\n",
      "[52]\tvalidation_0-auc:0.856489\n",
      "[53]\tvalidation_0-auc:0.856448\n",
      "[54]\tvalidation_0-auc:0.856125\n",
      "[55]\tvalidation_0-auc:0.856198\n",
      "[56]\tvalidation_0-auc:0.856024\n",
      "[57]\tvalidation_0-auc:0.855641\n",
      "[58]\tvalidation_0-auc:0.856821\n",
      "[59]\tvalidation_0-auc:0.856814\n",
      "[60]\tvalidation_0-auc:0.856793\n",
      "[61]\tvalidation_0-auc:0.857196\n",
      "[62]\tvalidation_0-auc:0.857036\n",
      "[63]\tvalidation_0-auc:0.857188\n",
      "[64]\tvalidation_0-auc:0.856974\n",
      "[65]\tvalidation_0-auc:0.856979\n",
      "[66]\tvalidation_0-auc:0.856943\n",
      "[67]\tvalidation_0-auc:0.857824\n",
      "[68]\tvalidation_0-auc:0.85785\n",
      "[69]\tvalidation_0-auc:0.858173\n",
      "[70]\tvalidation_0-auc:0.858123\n",
      "[71]\tvalidation_0-auc:0.858033\n",
      "[72]\tvalidation_0-auc:0.858789\n",
      "[73]\tvalidation_0-auc:0.858698\n",
      "[74]\tvalidation_0-auc:0.858696\n",
      "[75]\tvalidation_0-auc:0.858763\n",
      "[76]\tvalidation_0-auc:0.858812\n",
      "[77]\tvalidation_0-auc:0.859342\n",
      "[78]\tvalidation_0-auc:0.859345\n",
      "[79]\tvalidation_0-auc:0.859531\n",
      "[80]\tvalidation_0-auc:0.859537\n",
      "[81]\tvalidation_0-auc:0.859322\n",
      "[82]\tvalidation_0-auc:0.859227\n",
      "[83]\tvalidation_0-auc:0.859273\n",
      "[84]\tvalidation_0-auc:0.85927\n",
      "[85]\tvalidation_0-auc:0.859268\n",
      "[86]\tvalidation_0-auc:0.859374\n",
      "[87]\tvalidation_0-auc:0.85973\n",
      "[88]\tvalidation_0-auc:0.859627\n",
      "[89]\tvalidation_0-auc:0.85964\n",
      "[90]\tvalidation_0-auc:0.859735\n",
      "[91]\tvalidation_0-auc:0.860516\n",
      "[92]\tvalidation_0-auc:0.860593\n",
      "[93]\tvalidation_0-auc:0.860317\n",
      "[94]\tvalidation_0-auc:0.86149\n",
      "[95]\tvalidation_0-auc:0.862076\n",
      "[96]\tvalidation_0-auc:0.862011\n",
      "[97]\tvalidation_0-auc:0.861913\n",
      "[98]\tvalidation_0-auc:0.861849\n",
      "[99]\tvalidation_0-auc:0.861851\n",
      "[100]\tvalidation_0-auc:0.862156\n",
      "[101]\tvalidation_0-auc:0.862089\n",
      "[102]\tvalidation_0-auc:0.86211\n",
      "[103]\tvalidation_0-auc:0.863623\n",
      "[104]\tvalidation_0-auc:0.863461\n",
      "[105]\tvalidation_0-auc:0.864166\n",
      "[106]\tvalidation_0-auc:0.864634\n",
      "[107]\tvalidation_0-auc:0.864667\n",
      "[108]\tvalidation_0-auc:0.864769\n",
      "[109]\tvalidation_0-auc:0.864875\n",
      "[110]\tvalidation_0-auc:0.864891\n",
      "[111]\tvalidation_0-auc:0.86487\n",
      "[112]\tvalidation_0-auc:0.864749\n",
      "[113]\tvalidation_0-auc:0.864743\n",
      "[114]\tvalidation_0-auc:0.866053\n",
      "[115]\tvalidation_0-auc:0.865947\n",
      "[116]\tvalidation_0-auc:0.866004\n",
      "[117]\tvalidation_0-auc:0.865679\n",
      "[118]\tvalidation_0-auc:0.865443\n",
      "[119]\tvalidation_0-auc:0.865131\n",
      "[120]\tvalidation_0-auc:0.865185\n",
      "[121]\tvalidation_0-auc:0.865252\n",
      "[122]\tvalidation_0-auc:0.865126\n",
      "[123]\tvalidation_0-auc:0.865527\n",
      "[124]\tvalidation_0-auc:0.865401\n",
      "[125]\tvalidation_0-auc:0.865442\n",
      "[126]\tvalidation_0-auc:0.865553\n",
      "[127]\tvalidation_0-auc:0.865483\n",
      "[128]\tvalidation_0-auc:0.865471\n",
      "[129]\tvalidation_0-auc:0.86552\n",
      "[130]\tvalidation_0-auc:0.865545\n",
      "[131]\tvalidation_0-auc:0.865274\n",
      "[132]\tvalidation_0-auc:0.865481\n",
      "[133]\tvalidation_0-auc:0.865657\n",
      "[134]\tvalidation_0-auc:0.865638\n",
      "[135]\tvalidation_0-auc:0.865644\n",
      "[136]\tvalidation_0-auc:0.866178\n",
      "[137]\tvalidation_0-auc:0.866289\n",
      "[138]\tvalidation_0-auc:0.866326\n",
      "[139]\tvalidation_0-auc:0.866739\n",
      "[140]\tvalidation_0-auc:0.866558\n",
      "[141]\tvalidation_0-auc:0.866535\n",
      "[142]\tvalidation_0-auc:0.866876\n",
      "[143]\tvalidation_0-auc:0.866863\n",
      "[144]\tvalidation_0-auc:0.867124\n",
      "[145]\tvalidation_0-auc:0.867103\n",
      "[146]\tvalidation_0-auc:0.867138\n",
      "[147]\tvalidation_0-auc:0.86744\n",
      "[148]\tvalidation_0-auc:0.867337\n",
      "[149]\tvalidation_0-auc:0.867409\n",
      "[150]\tvalidation_0-auc:0.867446\n",
      "[151]\tvalidation_0-auc:0.867402\n",
      "[152]\tvalidation_0-auc:0.867544\n",
      "[153]\tvalidation_0-auc:0.867582\n",
      "[154]\tvalidation_0-auc:0.867625\n",
      "[155]\tvalidation_0-auc:0.867656\n",
      "[156]\tvalidation_0-auc:0.867666\n",
      "[157]\tvalidation_0-auc:0.867648\n",
      "[158]\tvalidation_0-auc:0.867739\n",
      "[159]\tvalidation_0-auc:0.868124\n",
      "[160]\tvalidation_0-auc:0.86808\n",
      "[161]\tvalidation_0-auc:0.8687\n",
      "[162]\tvalidation_0-auc:0.869144\n",
      "[163]\tvalidation_0-auc:0.869178\n",
      "[164]\tvalidation_0-auc:0.869307\n",
      "[165]\tvalidation_0-auc:0.869565\n",
      "[166]\tvalidation_0-auc:0.869565\n",
      "[167]\tvalidation_0-auc:0.869467\n",
      "[168]\tvalidation_0-auc:0.869514\n",
      "[169]\tvalidation_0-auc:0.869855\n",
      "[170]\tvalidation_0-auc:0.869984\n",
      "[171]\tvalidation_0-auc:0.870227\n",
      "[172]\tvalidation_0-auc:0.870201\n",
      "[173]\tvalidation_0-auc:0.87011\n",
      "[174]\tvalidation_0-auc:0.870128\n",
      "[175]\tvalidation_0-auc:0.870113\n",
      "[176]\tvalidation_0-auc:0.870206\n",
      "[177]\tvalidation_0-auc:0.870237\n",
      "[178]\tvalidation_0-auc:0.870469\n",
      "[179]\tvalidation_0-auc:0.870467\n",
      "[180]\tvalidation_0-auc:0.870927\n",
      "[181]\tvalidation_0-auc:0.871095\n",
      "[182]\tvalidation_0-auc:0.87104\n",
      "[183]\tvalidation_0-auc:0.870919\n",
      "[184]\tvalidation_0-auc:0.87094\n",
      "[185]\tvalidation_0-auc:0.871167\n",
      "[186]\tvalidation_0-auc:0.871405\n",
      "[187]\tvalidation_0-auc:0.871554\n",
      "[188]\tvalidation_0-auc:0.871792\n",
      "[189]\tvalidation_0-auc:0.87165\n",
      "[190]\tvalidation_0-auc:0.87187\n",
      "[191]\tvalidation_0-auc:0.872402\n",
      "[192]\tvalidation_0-auc:0.872229\n",
      "[193]\tvalidation_0-auc:0.872301\n",
      "[194]\tvalidation_0-auc:0.872391\n",
      "[195]\tvalidation_0-auc:0.872562\n",
      "[196]\tvalidation_0-auc:0.872647\n",
      "[197]\tvalidation_0-auc:0.872908\n",
      "[198]\tvalidation_0-auc:0.872869\n",
      "[199]\tvalidation_0-auc:0.872748\n",
      "[200]\tvalidation_0-auc:0.872735\n",
      "[201]\tvalidation_0-auc:0.872655\n",
      "[202]\tvalidation_0-auc:0.872508\n",
      "[203]\tvalidation_0-auc:0.872252\n",
      "[204]\tvalidation_0-auc:0.872195\n",
      "[205]\tvalidation_0-auc:0.872211\n",
      "[206]\tvalidation_0-auc:0.872154\n",
      "[207]\tvalidation_0-auc:0.872435\n",
      "[208]\tvalidation_0-auc:0.872575\n",
      "[209]\tvalidation_0-auc:0.872818\n",
      "[210]\tvalidation_0-auc:0.873559\n",
      "[211]\tvalidation_0-auc:0.873975\n",
      "[212]\tvalidation_0-auc:0.873877\n",
      "[213]\tvalidation_0-auc:0.874295\n",
      "[214]\tvalidation_0-auc:0.874319\n",
      "[215]\tvalidation_0-auc:0.87429\n",
      "[216]\tvalidation_0-auc:0.874525\n",
      "[217]\tvalidation_0-auc:0.874928\n",
      "[218]\tvalidation_0-auc:0.87491\n",
      "[219]\tvalidation_0-auc:0.87475\n",
      "[220]\tvalidation_0-auc:0.874523\n",
      "[221]\tvalidation_0-auc:0.874443\n",
      "[222]\tvalidation_0-auc:0.874417\n",
      "[223]\tvalidation_0-auc:0.874277\n",
      "[224]\tvalidation_0-auc:0.874218\n",
      "[225]\tvalidation_0-auc:0.874133\n",
      "[226]\tvalidation_0-auc:0.87414\n",
      "[227]\tvalidation_0-auc:0.875076\n",
      "[228]\tvalidation_0-auc:0.875745\n",
      "[229]\tvalidation_0-auc:0.875665\n",
      "[230]\tvalidation_0-auc:0.87576\n",
      "[231]\tvalidation_0-auc:0.875675\n",
      "[232]\tvalidation_0-auc:0.87551\n",
      "[233]\tvalidation_0-auc:0.875641\n",
      "[234]\tvalidation_0-auc:0.875577\n",
      "[235]\tvalidation_0-auc:0.875311\n",
      "[236]\tvalidation_0-auc:0.875243\n",
      "[237]\tvalidation_0-auc:0.875176\n",
      "[238]\tvalidation_0-auc:0.8749\n",
      "[239]\tvalidation_0-auc:0.874895\n",
      "[240]\tvalidation_0-auc:0.874706\n",
      "[241]\tvalidation_0-auc:0.874603\n",
      "[242]\tvalidation_0-auc:0.874647\n",
      "[243]\tvalidation_0-auc:0.874794\n",
      "[244]\tvalidation_0-auc:0.874714\n",
      "[245]\tvalidation_0-auc:0.875174\n",
      "[246]\tvalidation_0-auc:0.875107\n",
      "[247]\tvalidation_0-auc:0.875163\n",
      "[248]\tvalidation_0-auc:0.875138\n",
      "[249]\tvalidation_0-auc:0.875091\n",
      "[250]\tvalidation_0-auc:0.875065\n",
      "[251]\tvalidation_0-auc:0.875073\n",
      "[252]\tvalidation_0-auc:0.874884\n",
      "[253]\tvalidation_0-auc:0.875158\n",
      "[254]\tvalidation_0-auc:0.875019\n",
      "[255]\tvalidation_0-auc:0.874913\n",
      "[256]\tvalidation_0-auc:0.875187\n",
      "[257]\tvalidation_0-auc:0.875032\n",
      "[258]\tvalidation_0-auc:0.87598\n",
      "[259]\tvalidation_0-auc:0.876664\n",
      "[260]\tvalidation_0-auc:0.876987\n",
      "[261]\tvalidation_0-auc:0.877085\n",
      "[262]\tvalidation_0-auc:0.877163\n",
      "[263]\tvalidation_0-auc:0.876845\n",
      "[264]\tvalidation_0-auc:0.87692\n",
      "[265]\tvalidation_0-auc:0.876972\n",
      "[266]\tvalidation_0-auc:0.876791\n",
      "[267]\tvalidation_0-auc:0.877488\n",
      "[268]\tvalidation_0-auc:0.877442\n",
      "[269]\tvalidation_0-auc:0.877165\n",
      "[270]\tvalidation_0-auc:0.877251\n",
      "[271]\tvalidation_0-auc:0.877119\n",
      "[272]\tvalidation_0-auc:0.877023\n",
      "[273]\tvalidation_0-auc:0.877809\n",
      "[274]\tvalidation_0-auc:0.877693\n",
      "[275]\tvalidation_0-auc:0.877912\n",
      "[276]\tvalidation_0-auc:0.878196\n",
      "[277]\tvalidation_0-auc:0.878096\n",
      "[278]\tvalidation_0-auc:0.878183\n",
      "[279]\tvalidation_0-auc:0.878553\n",
      "[280]\tvalidation_0-auc:0.878517\n",
      "[281]\tvalidation_0-auc:0.878382\n",
      "[282]\tvalidation_0-auc:0.878411\n",
      "[283]\tvalidation_0-auc:0.878354\n",
      "[284]\tvalidation_0-auc:0.878356\n",
      "[285]\tvalidation_0-auc:0.878266\n",
      "[286]\tvalidation_0-auc:0.878865\n",
      "[287]\tvalidation_0-auc:0.878878\n",
      "[288]\tvalidation_0-auc:0.878938\n",
      "[289]\tvalidation_0-auc:0.878617\n",
      "[290]\tvalidation_0-auc:0.878723\n",
      "[291]\tvalidation_0-auc:0.878625\n",
      "[292]\tvalidation_0-auc:0.878837\n",
      "[293]\tvalidation_0-auc:0.878914\n",
      "[294]\tvalidation_0-auc:0.87901\n",
      "[295]\tvalidation_0-auc:0.878847\n",
      "[296]\tvalidation_0-auc:0.879286\n",
      "[297]\tvalidation_0-auc:0.879286\n",
      "[298]\tvalidation_0-auc:0.879261\n",
      "[299]\tvalidation_0-auc:0.879356\n",
      "[300]\tvalidation_0-auc:0.879532\n",
      "[301]\tvalidation_0-auc:0.879682\n",
      "[302]\tvalidation_0-auc:0.879581\n",
      "[303]\tvalidation_0-auc:0.879679\n",
      "[304]\tvalidation_0-auc:0.879444\n",
      "[305]\tvalidation_0-auc:0.879338\n",
      "[306]\tvalidation_0-auc:0.879348\n",
      "[307]\tvalidation_0-auc:0.879369\n",
      "[308]\tvalidation_0-auc:0.879431\n",
      "[309]\tvalidation_0-auc:0.879312\n",
      "[310]\tvalidation_0-auc:0.879312\n",
      "[311]\tvalidation_0-auc:0.879336\n",
      "[312]\tvalidation_0-auc:0.879343\n",
      "[313]\tvalidation_0-auc:0.879294\n",
      "[314]\tvalidation_0-auc:0.879271\n",
      "[315]\tvalidation_0-auc:0.879255\n",
      "[316]\tvalidation_0-auc:0.879333\n",
      "[317]\tvalidation_0-auc:0.879142\n",
      "[318]\tvalidation_0-auc:0.879201\n",
      "[319]\tvalidation_0-auc:0.87924\n",
      "[320]\tvalidation_0-auc:0.879206\n",
      "[321]\tvalidation_0-auc:0.878992\n",
      "[322]\tvalidation_0-auc:0.879286\n",
      "[323]\tvalidation_0-auc:0.879186\n",
      "[324]\tvalidation_0-auc:0.879237\n",
      "[325]\tvalidation_0-auc:0.87931\n",
      "[326]\tvalidation_0-auc:0.879452\n",
      "[327]\tvalidation_0-auc:0.879413\n",
      "[328]\tvalidation_0-auc:0.879364\n",
      "[329]\tvalidation_0-auc:0.879276\n",
      "[330]\tvalidation_0-auc:0.879258\n",
      "[331]\tvalidation_0-auc:0.87916\n",
      "[332]\tvalidation_0-auc:0.879302\n",
      "[333]\tvalidation_0-auc:0.879266\n",
      "[334]\tvalidation_0-auc:0.879289\n",
      "[335]\tvalidation_0-auc:0.879152\n",
      "[336]\tvalidation_0-auc:0.879103\n",
      "[337]\tvalidation_0-auc:0.878966\n",
      "[338]\tvalidation_0-auc:0.878989\n",
      "[339]\tvalidation_0-auc:0.878948\n",
      "ROC-AUC score (valid):  0.8789480482575113\n"
     ]
    }
   ],
   "source": [
    "xgbc_model = model\n",
    "\n",
    "model.fit(features_train, target_train, eval_metric='auc', eval_set=[(features_valid, target_valid)])\n",
    "\n",
    "preds_proba = model.predict_proba(features_valid)[:,1]\n",
    "print('ROC-AUC score (valid): ', metrics.roc_auc_score(target_valid, preds_proba))"
   ]
  },
  {
   "cell_type": "markdown",
   "metadata": {},
   "source": [
    "<b>Вывод:</b> Значение метрики ROC-AUC на валидационной выборке равно 0.878. Это хороший результат. В данной модели все признаки обладают определенной важностью, в отличии от предыдущих моделей. Перейдём к сравнению моделей."
   ]
  },
  {
   "cell_type": "markdown",
   "metadata": {},
   "source": [
    "## Выбор модели"
   ]
  },
  {
   "cell_type": "code",
   "execution_count": 60,
   "metadata": {},
   "outputs": [
    {
     "name": "stdout",
     "output_type": "stream",
     "text": [
      "Метрика ROC-AUC на валидационной выборке (Random Forest): 0.839\n",
      "Метрика ROC-AUC на валидационной выборке (Gradient Boosting): 0.893\n",
      "Метрика ROC-AUC на валидационной выборке (XGBoost): 0.879\n"
     ]
    }
   ],
   "source": [
    "rfc_model.fit(features_train, target_train)\n",
    "preds_proba = rfc_model.predict_proba(features_valid)[:,1]\n",
    "print('Метрика ROC-AUC на валидационной выборке (Random Forest): {:.3f}'.format(metrics.roc_auc_score(target_valid, preds_proba)))\n",
    "\n",
    "gbc_model.fit(features_train, target_train)\n",
    "preds_proba = gbc_model.predict_proba(features_valid)[:,1]\n",
    "print('Метрика ROC-AUC на валидационной выборке (Gradient Boosting): {:.3f}'.format(metrics.roc_auc_score(target_valid, preds_proba)))\n",
    "\n",
    "xgbc_model.fit(features_train, target_train)\n",
    "preds_proba = xgbc_model.predict_proba(features_valid)[:,1]\n",
    "print('Метрика ROC-AUC на валидационной выборке (XGBoost): {:.3f}'.format(metrics.roc_auc_score(target_valid, preds_proba)))"
   ]
  },
  {
   "cell_type": "markdown",
   "metadata": {},
   "source": [
    "<b>Вывод:</b> Наиболее точная в предсказаниях модель - Gradient Boosting Classifier. Теперь обучим ее на обучающей + валидационной выборке и проверим на тестовой выборке."
   ]
  },
  {
   "cell_type": "code",
   "execution_count": 61,
   "metadata": {},
   "outputs": [
    {
     "name": "stdout",
     "output_type": "stream",
     "text": [
      "Метрика ROC-AUC на тестовой выборке (Gradient Boosting): 0.908\n"
     ]
    }
   ],
   "source": [
    "gbc_model.fit(features_train.append(features_valid), target_train.append(target_valid))\n",
    "preds_proba = gbc_model.predict_proba(features_test)[:,1]\n",
    "print('Метрика ROC-AUC на тестовой выборке (Gradient Boosting): {:.3f}'.format(metrics.roc_auc_score(target_test, preds_proba)))"
   ]
  },
  {
   "cell_type": "markdown",
   "metadata": {},
   "source": [
    "<b>Вывод:</b> Метрика ROC-AUC на тестовой выборке равна 0.908."
   ]
  },
  {
   "cell_type": "markdown",
   "metadata": {},
   "source": [
    "## Отчёт"
   ]
  },
  {
   "cell_type": "markdown",
   "metadata": {},
   "source": [
    "Вернуться к \"Содержанию\":\n",
    "\n",
    "* [Содержание](#Содержание:)\n",
    "\n",
    "План выполнения задачи:\n",
    "\n",
    "* [План выполнения задачи](#План-выполнения-задачи)"
   ]
  },
  {
   "cell_type": "markdown",
   "metadata": {},
   "source": [
    "***1. Какие пункты плана были выполнены, а какие — нет (поясните почему)?***\n",
    "\n",
    "- Все пункты плана были выполнены, кроме обработки выбросов, так как во время исследовательского анализа данных не было найдено выбросов.\n",
    "\n",
    "***2. Какие трудности возникли и как вы их преодолели?***\n",
    "\n",
    "- Первая трудность возникла на этапе обработки категориальных признаков, изначально некорректно использовал обработку методом OHE. Затем, благодаря совету код-ревьюера, исправил данную недоработку;\n",
    "\n",
    "\n",
    "- Затем возникла трудность с переобучением моделей, исправил это с помощью подбора гиперпараметров методов GridSearchCV.\n",
    "\n",
    "***3. Какие ключевые шаги в решении задачи выделили?***\n",
    "\n",
    "- Первый ключевой шаг - объединение данных;\n",
    "\n",
    "\n",
    "- Затем последовала корректная обработка категориальных значений, что помогло использовать множество признаков для предсказания модели;\n",
    "\n",
    "\n",
    "- Ключевым шагом, который помог повысить точность модели, было создание дополнительного признака \"lifetime\", который указывал на продолжительность контракта;\n",
    "\n",
    "\n",
    "- Следующий ключевой шаг заключался в разработке функции, которая поэтапно подбирала оптимальные гиперпараметры для каждой модели с помощью GridSearchCV.\n",
    "\n",
    "***4. Какая ваша итоговая модель и какое у неё качество?***\n",
    "\n",
    "- Итоговая модель - Gradient Boosting Classifier, ее гиперпараметры приведены ниже;\n",
    "\n",
    "\n",
    "- Качество модели на тестовой выборке составило (метрика ROC-AUC): 0.908"
   ]
  },
  {
   "cell_type": "code",
   "execution_count": 62,
   "metadata": {},
   "outputs": [
    {
     "data": {
      "text/plain": [
       "GradientBoostingClassifier(criterion='friedman_mse', init=None,\n",
       "                           learning_rate=0.1, loss='deviance', max_depth=6,\n",
       "                           max_features=None, max_leaf_nodes=9,\n",
       "                           min_impurity_decrease=0.0, min_impurity_split=None,\n",
       "                           min_samples_leaf=2, min_samples_split=12,\n",
       "                           min_weight_fraction_leaf=0.0, n_estimators=340,\n",
       "                           n_iter_no_change=None, presort='auto',\n",
       "                           random_state=10, subsample=1, tol=0.0001,\n",
       "                           validation_fraction=0.1, verbose=0,\n",
       "                           warm_start=False)"
      ]
     },
     "execution_count": 62,
     "metadata": {},
     "output_type": "execute_result"
    }
   ],
   "source": [
    "gbc_model"
   ]
  }
 ],
 "metadata": {
  "ExecuteTimeLog": [
   {
    "duration": 246,
    "start_time": "2022-01-31T10:27:28.335Z"
   },
   {
    "duration": 1228,
    "start_time": "2022-01-31T10:27:36.316Z"
   },
   {
    "duration": 14,
    "start_time": "2022-01-31T10:27:40.685Z"
   },
   {
    "duration": 4,
    "start_time": "2022-01-31T10:27:42.797Z"
   },
   {
    "duration": 10,
    "start_time": "2022-01-31T10:27:45.079Z"
   },
   {
    "duration": 46,
    "start_time": "2022-01-31T10:27:46.215Z"
   },
   {
    "duration": 13,
    "start_time": "2022-01-31T10:27:58.958Z"
   },
   {
    "duration": 4,
    "start_time": "2022-01-31T10:28:20.084Z"
   },
   {
    "duration": 5,
    "start_time": "2022-01-31T10:28:21.518Z"
   },
   {
    "duration": 18,
    "start_time": "2022-01-31T10:28:23.269Z"
   },
   {
    "duration": 11,
    "start_time": "2022-01-31T10:28:43.183Z"
   },
   {
    "duration": 9,
    "start_time": "2022-01-31T10:28:44.068Z"
   },
   {
    "duration": 2342,
    "start_time": "2022-01-31T10:28:49.973Z"
   },
   {
    "duration": 8,
    "start_time": "2022-01-31T10:30:11.011Z"
   },
   {
    "duration": 3,
    "start_time": "2022-01-31T10:30:13.247Z"
   },
   {
    "duration": 7,
    "start_time": "2022-01-31T10:30:13.724Z"
   },
   {
    "duration": 1309,
    "start_time": "2022-01-31T10:30:15.250Z"
   },
   {
    "duration": 11,
    "start_time": "2022-01-31T10:30:38.722Z"
   },
   {
    "duration": 3,
    "start_time": "2022-01-31T10:30:44.024Z"
   },
   {
    "duration": 11,
    "start_time": "2022-01-31T10:30:44.509Z"
   },
   {
    "duration": 1678,
    "start_time": "2022-01-31T10:30:46.040Z"
   },
   {
    "duration": 20,
    "start_time": "2022-01-31T10:30:47.720Z"
   },
   {
    "duration": 6,
    "start_time": "2022-01-31T10:31:59.948Z"
   },
   {
    "duration": 4,
    "start_time": "2022-01-31T10:32:01.332Z"
   },
   {
    "duration": 7,
    "start_time": "2022-01-31T10:32:01.799Z"
   },
   {
    "duration": 561,
    "start_time": "2022-01-31T10:32:03.241Z"
   },
   {
    "duration": 7,
    "start_time": "2022-01-31T10:32:05.628Z"
   },
   {
    "duration": 29,
    "start_time": "2022-01-31T10:32:45.241Z"
   },
   {
    "duration": 28,
    "start_time": "2022-01-31T10:32:46.572Z"
   },
   {
    "duration": 7,
    "start_time": "2022-01-31T10:32:48.055Z"
   },
   {
    "duration": 23,
    "start_time": "2022-01-31T10:32:48.986Z"
   },
   {
    "duration": 7,
    "start_time": "2022-01-31T10:33:19.437Z"
   },
   {
    "duration": 15,
    "start_time": "2022-01-31T10:33:20.068Z"
   },
   {
    "duration": 4,
    "start_time": "2022-01-31T10:33:20.474Z"
   },
   {
    "duration": 27,
    "start_time": "2022-01-31T10:34:59.817Z"
   },
   {
    "duration": 6,
    "start_time": "2022-01-31T10:35:01.727Z"
   },
   {
    "duration": 4,
    "start_time": "2022-01-31T10:35:26.076Z"
   },
   {
    "duration": 19,
    "start_time": "2022-01-31T10:35:34.320Z"
   },
   {
    "duration": 41,
    "start_time": "2022-01-31T10:46:06.549Z"
   },
   {
    "duration": 1114,
    "start_time": "2022-01-31T10:48:07.335Z"
   },
   {
    "duration": 4,
    "start_time": "2022-01-31T10:48:39.635Z"
   },
   {
    "duration": 24,
    "start_time": "2022-01-31T10:48:44.905Z"
   },
   {
    "duration": 21,
    "start_time": "2022-01-31T10:48:54.774Z"
   },
   {
    "duration": 20,
    "start_time": "2022-01-31T10:48:58.210Z"
   },
   {
    "duration": 7,
    "start_time": "2022-01-31T10:50:15.300Z"
   },
   {
    "duration": 477,
    "start_time": "2022-01-31T10:57:26.914Z"
   },
   {
    "duration": 50,
    "start_time": "2022-01-31T10:57:29.699Z"
   },
   {
    "duration": 4,
    "start_time": "2022-01-31T10:57:30.311Z"
   },
   {
    "duration": 316438,
    "start_time": "2022-01-31T10:57:30.457Z"
   },
   {
    "duration": 6709,
    "start_time": "2022-01-31T11:02:46.897Z"
   },
   {
    "duration": 694,
    "start_time": "2022-01-31T11:02:53.608Z"
   },
   {
    "duration": 4315,
    "start_time": "2022-01-31T11:02:54.304Z"
   },
   {
    "duration": 443,
    "start_time": "2022-01-31T11:02:58.621Z"
   },
   {
    "duration": 1169251,
    "start_time": "2022-01-31T11:02:59.066Z"
   },
   {
    "duration": 573,
    "start_time": "2022-01-31T11:22:27.747Z"
   },
   {
    "duration": 566,
    "start_time": "2022-01-31T11:22:27.755Z"
   },
   {
    "duration": 560,
    "start_time": "2022-01-31T11:22:27.761Z"
   },
   {
    "duration": 553,
    "start_time": "2022-01-31T11:22:27.769Z"
   },
   {
    "duration": 548,
    "start_time": "2022-01-31T11:22:27.776Z"
   },
   {
    "duration": 542,
    "start_time": "2022-01-31T11:22:27.783Z"
   },
   {
    "duration": 537,
    "start_time": "2022-01-31T11:22:27.789Z"
   },
   {
    "duration": 531,
    "start_time": "2022-01-31T11:22:27.796Z"
   },
   {
    "duration": 525,
    "start_time": "2022-01-31T11:22:27.802Z"
   },
   {
    "duration": 4718,
    "start_time": "2022-01-31T11:29:01.569Z"
   },
   {
    "duration": 465,
    "start_time": "2022-01-31T11:29:06.289Z"
   },
   {
    "duration": 3041,
    "start_time": "2022-01-31T11:29:16.638Z"
   },
   {
    "duration": 337,
    "start_time": "2022-01-31T11:29:19.681Z"
   },
   {
    "duration": 462971,
    "start_time": "2022-01-31T11:29:33.957Z"
   },
   {
    "duration": 595,
    "start_time": "2022-01-31T11:37:16.335Z"
   },
   {
    "duration": 589,
    "start_time": "2022-01-31T11:37:16.342Z"
   },
   {
    "duration": 577,
    "start_time": "2022-01-31T11:37:16.354Z"
   },
   {
    "duration": 570,
    "start_time": "2022-01-31T11:37:16.362Z"
   },
   {
    "duration": 3312,
    "start_time": "2022-01-31T11:41:45.435Z"
   },
   {
    "duration": 657,
    "start_time": "2022-01-31T11:41:53.024Z"
   },
   {
    "duration": 1448,
    "start_time": "2022-01-31T11:42:01.206Z"
   },
   {
    "duration": 608,
    "start_time": "2022-01-31T11:42:02.659Z"
   },
   {
    "duration": 1858,
    "start_time": "2022-01-31T13:06:12.828Z"
   },
   {
    "duration": 14,
    "start_time": "2022-01-31T13:06:16.328Z"
   },
   {
    "duration": 3,
    "start_time": "2022-01-31T13:06:16.751Z"
   },
   {
    "duration": 9,
    "start_time": "2022-01-31T13:06:16.889Z"
   },
   {
    "duration": 54,
    "start_time": "2022-01-31T13:06:17.262Z"
   },
   {
    "duration": 14,
    "start_time": "2022-01-31T13:06:17.625Z"
   },
   {
    "duration": 4,
    "start_time": "2022-01-31T13:06:18.175Z"
   },
   {
    "duration": 5,
    "start_time": "2022-01-31T13:06:18.350Z"
   },
   {
    "duration": 17,
    "start_time": "2022-01-31T13:06:18.533Z"
   },
   {
    "duration": 9,
    "start_time": "2022-01-31T13:06:18.913Z"
   },
   {
    "duration": 9,
    "start_time": "2022-01-31T13:06:19.095Z"
   },
   {
    "duration": 2852,
    "start_time": "2022-01-31T13:06:19.526Z"
   },
   {
    "duration": 19,
    "start_time": "2022-01-31T13:06:22.380Z"
   },
   {
    "duration": 3,
    "start_time": "2022-01-31T13:06:22.402Z"
   },
   {
    "duration": 12,
    "start_time": "2022-01-31T13:06:22.407Z"
   },
   {
    "duration": 1418,
    "start_time": "2022-01-31T13:06:22.422Z"
   },
   {
    "duration": 10,
    "start_time": "2022-01-31T13:06:23.842Z"
   },
   {
    "duration": 7,
    "start_time": "2022-01-31T13:06:23.855Z"
   },
   {
    "duration": 15,
    "start_time": "2022-01-31T13:06:23.864Z"
   },
   {
    "duration": 1811,
    "start_time": "2022-01-31T13:06:23.881Z"
   },
   {
    "duration": 22,
    "start_time": "2022-01-31T13:06:25.698Z"
   },
   {
    "duration": 7,
    "start_time": "2022-01-31T13:06:29.130Z"
   },
   {
    "duration": 3,
    "start_time": "2022-01-31T13:06:29.951Z"
   },
   {
    "duration": 8,
    "start_time": "2022-01-31T13:06:30.168Z"
   },
   {
    "duration": 543,
    "start_time": "2022-01-31T13:06:30.936Z"
   },
   {
    "duration": 8,
    "start_time": "2022-01-31T13:06:32.456Z"
   },
   {
    "duration": 28,
    "start_time": "2022-01-31T13:06:40.908Z"
   },
   {
    "duration": 27,
    "start_time": "2022-01-31T13:06:41.978Z"
   },
   {
    "duration": 7,
    "start_time": "2022-01-31T13:06:42.603Z"
   },
   {
    "duration": 22,
    "start_time": "2022-01-31T13:06:42.977Z"
   },
   {
    "duration": 7,
    "start_time": "2022-01-31T13:06:46.296Z"
   },
   {
    "duration": 17,
    "start_time": "2022-01-31T13:06:46.659Z"
   },
   {
    "duration": 4,
    "start_time": "2022-01-31T13:06:49.200Z"
   },
   {
    "duration": 30,
    "start_time": "2022-01-31T13:07:42.901Z"
   },
   {
    "duration": 6,
    "start_time": "2022-01-31T13:07:43.653Z"
   },
   {
    "duration": 30,
    "start_time": "2022-01-31T13:08:07.210Z"
   },
   {
    "duration": 6,
    "start_time": "2022-01-31T13:08:07.629Z"
   },
   {
    "duration": 30,
    "start_time": "2022-01-31T13:12:11.793Z"
   },
   {
    "duration": 7,
    "start_time": "2022-01-31T13:12:19.365Z"
   },
   {
    "duration": 6,
    "start_time": "2022-01-31T13:12:43.229Z"
   },
   {
    "duration": 6,
    "start_time": "2022-01-31T13:12:48.390Z"
   },
   {
    "duration": 7,
    "start_time": "2022-01-31T13:12:59.848Z"
   },
   {
    "duration": 4,
    "start_time": "2022-01-31T13:13:03.360Z"
   },
   {
    "duration": 30,
    "start_time": "2022-01-31T13:13:38.236Z"
   },
   {
    "duration": 5,
    "start_time": "2022-01-31T13:13:38.379Z"
   },
   {
    "duration": 5,
    "start_time": "2022-01-31T13:13:41.447Z"
   },
   {
    "duration": 23,
    "start_time": "2022-01-31T13:13:41.592Z"
   },
   {
    "duration": 18,
    "start_time": "2022-01-31T13:13:46.857Z"
   },
   {
    "duration": 6651,
    "start_time": "2022-01-31T13:15:21.046Z"
   },
   {
    "duration": 7395,
    "start_time": "2022-01-31T13:15:32.938Z"
   },
   {
    "duration": 9,
    "start_time": "2022-01-31T13:15:49.274Z"
   },
   {
    "duration": 798,
    "start_time": "2022-01-31T13:18:07.313Z"
   },
   {
    "duration": 827,
    "start_time": "2022-01-31T13:27:01.922Z"
   },
   {
    "duration": 3485,
    "start_time": "2022-01-31T13:27:42.619Z"
   },
   {
    "duration": 525,
    "start_time": "2022-01-31T13:29:11.878Z"
   },
   {
    "duration": 68347,
    "start_time": "2022-01-31T13:29:47.059Z"
   },
   {
    "duration": 62429,
    "start_time": "2022-01-31T13:31:51.477Z"
   },
   {
    "duration": 3,
    "start_time": "2022-01-31T13:34:35.552Z"
   },
   {
    "duration": 5,
    "start_time": "2022-01-31T13:34:39.042Z"
   },
   {
    "duration": 3,
    "start_time": "2022-01-31T13:34:59.888Z"
   },
   {
    "duration": 5,
    "start_time": "2022-01-31T13:35:10.536Z"
   },
   {
    "duration": 271,
    "start_time": "2022-01-31T13:37:16.314Z"
   },
   {
    "duration": 4,
    "start_time": "2022-01-31T13:37:23.207Z"
   },
   {
    "duration": 3,
    "start_time": "2022-01-31T13:37:23.643Z"
   },
   {
    "duration": 329,
    "start_time": "2022-01-31T13:37:24.933Z"
   },
   {
    "duration": 4,
    "start_time": "2022-01-31T13:37:33.079Z"
   },
   {
    "duration": 27,
    "start_time": "2022-01-31T13:37:33.700Z"
   },
   {
    "duration": 18,
    "start_time": "2022-01-31T13:37:36.759Z"
   },
   {
    "duration": 18,
    "start_time": "2022-01-31T13:37:53.393Z"
   },
   {
    "duration": 6,
    "start_time": "2022-01-31T13:39:36.127Z"
   },
   {
    "duration": 487,
    "start_time": "2022-01-31T13:39:39.376Z"
   },
   {
    "duration": 55,
    "start_time": "2022-01-31T13:39:42.854Z"
   },
   {
    "duration": 4,
    "start_time": "2022-01-31T13:40:26.353Z"
   },
   {
    "duration": 349019,
    "start_time": "2022-01-31T13:40:27.464Z"
   },
   {
    "duration": 7827,
    "start_time": "2022-01-31T13:47:32.549Z"
   },
   {
    "duration": 771,
    "start_time": "2022-01-31T13:47:45.002Z"
   },
   {
    "duration": 3735,
    "start_time": "2022-01-31T13:48:04.976Z"
   },
   {
    "duration": 406,
    "start_time": "2022-01-31T13:48:13.679Z"
   },
   {
    "duration": 896629,
    "start_time": "2022-01-31T13:48:25.115Z"
   },
   {
    "duration": 470,
    "start_time": "2022-01-31T14:06:11.583Z"
   },
   {
    "duration": 826058,
    "start_time": "2022-01-31T14:06:27.357Z"
   },
   {
    "duration": 4,
    "start_time": "2022-01-31T14:22:30.855Z"
   },
   {
    "duration": 894372,
    "start_time": "2022-01-31T14:22:41.015Z"
   },
   {
    "duration": 15284,
    "start_time": "2022-01-31T14:57:37.535Z"
   },
   {
    "duration": 1596,
    "start_time": "2022-01-31T14:58:07.788Z"
   },
   {
    "duration": 2777,
    "start_time": "2022-01-31T14:58:26.333Z"
   },
   {
    "duration": 297,
    "start_time": "2022-01-31T14:58:31.527Z"
   },
   {
    "duration": 335931,
    "start_time": "2022-01-31T14:58:36.188Z"
   },
   {
    "duration": 3211,
    "start_time": "2022-01-31T15:04:58.048Z"
   },
   {
    "duration": 646,
    "start_time": "2022-01-31T15:05:05.379Z"
   },
   {
    "duration": 577768,
    "start_time": "2022-01-31T15:06:28.003Z"
   },
   {
    "duration": 12203,
    "start_time": "2022-01-31T15:19:27.367Z"
   },
   {
    "duration": 2327,
    "start_time": "2022-01-31T15:19:43.133Z"
   },
   {
    "duration": 482638,
    "start_time": "2022-01-31T15:21:13.155Z"
   },
   {
    "duration": 14414,
    "start_time": "2022-01-31T15:29:23.351Z"
   },
   {
    "duration": 1495,
    "start_time": "2022-01-31T15:29:43.685Z"
   },
   {
    "duration": 329401,
    "start_time": "2022-01-31T15:31:45.514Z"
   },
   {
    "duration": 1131,
    "start_time": "2022-01-31T15:40:18.674Z"
   },
   {
    "duration": 10788,
    "start_time": "2022-01-31T15:40:44.754Z"
   },
   {
    "duration": 582332,
    "start_time": "2022-01-31T15:41:05.618Z"
   },
   {
    "duration": 16402,
    "start_time": "2022-01-31T15:51:01.323Z"
   },
   {
    "duration": 1737,
    "start_time": "2022-01-31T15:51:30.853Z"
   },
   {
    "duration": 2725,
    "start_time": "2022-01-31T15:51:58.319Z"
   },
   {
    "duration": 297,
    "start_time": "2022-01-31T15:52:03.754Z"
   },
   {
    "duration": 18019,
    "start_time": "2022-01-31T15:52:48.638Z"
   },
   {
    "duration": 375368,
    "start_time": "2022-01-31T15:53:09.553Z"
   },
   {
    "duration": 8627,
    "start_time": "2022-01-31T15:59:32.480Z"
   },
   {
    "duration": 2052,
    "start_time": "2022-01-31T15:59:47.286Z"
   },
   {
    "duration": 326,
    "start_time": "2022-01-31T20:32:50.490Z"
   },
   {
    "duration": 255,
    "start_time": "2022-01-31T20:32:56.271Z"
   },
   {
    "duration": 288,
    "start_time": "2022-01-31T20:33:01.024Z"
   },
   {
    "duration": 1763,
    "start_time": "2022-01-31T20:33:07.248Z"
   },
   {
    "duration": 23,
    "start_time": "2022-01-31T20:33:09.015Z"
   },
   {
    "duration": 6,
    "start_time": "2022-01-31T20:33:09.041Z"
   },
   {
    "duration": 21,
    "start_time": "2022-01-31T20:33:09.050Z"
   },
   {
    "duration": 146,
    "start_time": "2022-01-31T20:33:09.343Z"
   },
   {
    "duration": 20,
    "start_time": "2022-01-31T20:33:09.799Z"
   },
   {
    "duration": 5,
    "start_time": "2022-01-31T20:33:10.462Z"
   },
   {
    "duration": 6,
    "start_time": "2022-01-31T20:33:10.678Z"
   },
   {
    "duration": 24,
    "start_time": "2022-01-31T20:33:10.887Z"
   },
   {
    "duration": 16,
    "start_time": "2022-01-31T20:33:11.326Z"
   },
   {
    "duration": 13,
    "start_time": "2022-01-31T20:33:11.558Z"
   },
   {
    "duration": 3789,
    "start_time": "2022-01-31T20:33:12.047Z"
   },
   {
    "duration": 14,
    "start_time": "2022-01-31T20:33:15.839Z"
   },
   {
    "duration": 4,
    "start_time": "2022-01-31T20:33:15.871Z"
   },
   {
    "duration": 12,
    "start_time": "2022-01-31T20:33:15.877Z"
   },
   {
    "duration": 1998,
    "start_time": "2022-01-31T20:33:15.891Z"
   },
   {
    "duration": 16,
    "start_time": "2022-01-31T20:33:17.892Z"
   },
   {
    "duration": 6,
    "start_time": "2022-01-31T20:33:17.912Z"
   },
   {
    "duration": 14,
    "start_time": "2022-01-31T20:33:17.920Z"
   },
   {
    "duration": 2495,
    "start_time": "2022-01-31T20:33:17.937Z"
   },
   {
    "duration": 48,
    "start_time": "2022-01-31T20:33:20.435Z"
   },
   {
    "duration": 10,
    "start_time": "2022-01-31T20:33:20.488Z"
   },
   {
    "duration": 5,
    "start_time": "2022-01-31T20:33:20.500Z"
   },
   {
    "duration": 12,
    "start_time": "2022-01-31T20:33:20.507Z"
   },
   {
    "duration": 934,
    "start_time": "2022-01-31T20:33:20.521Z"
   },
   {
    "duration": 17,
    "start_time": "2022-01-31T20:33:21.458Z"
   },
   {
    "duration": 42,
    "start_time": "2022-01-31T20:33:23.974Z"
   },
   {
    "duration": 40,
    "start_time": "2022-01-31T20:33:24.679Z"
   },
   {
    "duration": 9,
    "start_time": "2022-01-31T20:33:25.126Z"
   },
   {
    "duration": 31,
    "start_time": "2022-01-31T20:33:25.383Z"
   },
   {
    "duration": 9,
    "start_time": "2022-01-31T20:33:26.118Z"
   },
   {
    "duration": 25,
    "start_time": "2022-01-31T20:33:26.383Z"
   },
   {
    "duration": 5,
    "start_time": "2022-01-31T20:33:26.599Z"
   },
   {
    "duration": 44,
    "start_time": "2022-01-31T20:33:27.934Z"
   },
   {
    "duration": 7,
    "start_time": "2022-01-31T20:33:28.159Z"
   },
   {
    "duration": 6,
    "start_time": "2022-01-31T20:33:28.606Z"
   },
   {
    "duration": 24,
    "start_time": "2022-01-31T20:33:28.831Z"
   },
   {
    "duration": 13,
    "start_time": "2022-01-31T20:33:29.294Z"
   },
   {
    "duration": 5,
    "start_time": "2022-01-31T20:33:30.718Z"
   },
   {
    "duration": 39,
    "start_time": "2022-01-31T20:33:31.263Z"
   },
   {
    "duration": 24,
    "start_time": "2022-01-31T20:33:31.511Z"
   },
   {
    "duration": 26,
    "start_time": "2022-01-31T20:33:31.943Z"
   },
   {
    "duration": 10,
    "start_time": "2022-01-31T20:33:33.495Z"
   },
   {
    "duration": 693,
    "start_time": "2022-01-31T20:33:35.206Z"
   },
   {
    "duration": 75,
    "start_time": "2022-01-31T20:33:36.326Z"
   },
   {
    "duration": 6,
    "start_time": "2022-01-31T20:33:37.214Z"
   },
   {
    "duration": 6,
    "start_time": "2022-01-31T20:33:52.808Z"
   },
   {
    "duration": 101,
    "start_time": "2022-01-31T20:34:31.275Z"
   },
   {
    "duration": 17,
    "start_time": "2022-01-31T20:34:31.908Z"
   },
   {
    "duration": 4,
    "start_time": "2022-01-31T20:34:32.011Z"
   },
   {
    "duration": 11,
    "start_time": "2022-01-31T20:34:32.061Z"
   },
   {
    "duration": 85,
    "start_time": "2022-01-31T20:34:32.168Z"
   },
   {
    "duration": 19,
    "start_time": "2022-01-31T20:34:32.272Z"
   },
   {
    "duration": 5,
    "start_time": "2022-01-31T20:34:32.389Z"
   },
   {
    "duration": 6,
    "start_time": "2022-01-31T20:34:32.436Z"
   },
   {
    "duration": 25,
    "start_time": "2022-01-31T20:34:32.496Z"
   },
   {
    "duration": 13,
    "start_time": "2022-01-31T20:34:32.582Z"
   },
   {
    "duration": 12,
    "start_time": "2022-01-31T20:34:32.626Z"
   },
   {
    "duration": 3760,
    "start_time": "2022-01-31T20:34:32.756Z"
   },
   {
    "duration": 12,
    "start_time": "2022-01-31T20:34:36.519Z"
   },
   {
    "duration": 4,
    "start_time": "2022-01-31T20:34:36.534Z"
   },
   {
    "duration": 35,
    "start_time": "2022-01-31T20:34:36.541Z"
   },
   {
    "duration": 1979,
    "start_time": "2022-01-31T20:34:36.579Z"
   },
   {
    "duration": 20,
    "start_time": "2022-01-31T20:34:38.561Z"
   },
   {
    "duration": 5,
    "start_time": "2022-01-31T20:34:38.584Z"
   },
   {
    "duration": 14,
    "start_time": "2022-01-31T20:34:38.593Z"
   },
   {
    "duration": 2520,
    "start_time": "2022-01-31T20:34:38.610Z"
   },
   {
    "duration": 41,
    "start_time": "2022-01-31T20:34:41.133Z"
   },
   {
    "duration": 9,
    "start_time": "2022-01-31T20:34:41.176Z"
   },
   {
    "duration": 5,
    "start_time": "2022-01-31T20:34:41.187Z"
   },
   {
    "duration": 19,
    "start_time": "2022-01-31T20:34:41.195Z"
   },
   {
    "duration": 674,
    "start_time": "2022-01-31T20:34:41.216Z"
   },
   {
    "duration": 9,
    "start_time": "2022-01-31T20:34:41.893Z"
   },
   {
    "duration": 64,
    "start_time": "2022-01-31T20:34:41.905Z"
   },
   {
    "duration": 42,
    "start_time": "2022-01-31T20:34:41.972Z"
   },
   {
    "duration": 16,
    "start_time": "2022-01-31T20:34:42.017Z"
   },
   {
    "duration": 45,
    "start_time": "2022-01-31T20:34:42.036Z"
   },
   {
    "duration": 9,
    "start_time": "2022-01-31T20:34:42.083Z"
   },
   {
    "duration": 33,
    "start_time": "2022-01-31T20:34:42.095Z"
   },
   {
    "duration": 22,
    "start_time": "2022-01-31T20:34:42.130Z"
   },
   {
    "duration": 67,
    "start_time": "2022-01-31T20:34:42.157Z"
   },
   {
    "duration": 15,
    "start_time": "2022-01-31T20:34:42.226Z"
   },
   {
    "duration": 25,
    "start_time": "2022-01-31T20:34:42.244Z"
   },
   {
    "duration": 56,
    "start_time": "2022-01-31T20:34:42.271Z"
   },
   {
    "duration": 15,
    "start_time": "2022-01-31T20:34:42.329Z"
   },
   {
    "duration": 13,
    "start_time": "2022-01-31T20:34:42.347Z"
   },
   {
    "duration": 74,
    "start_time": "2022-01-31T20:34:42.362Z"
   },
   {
    "duration": 25,
    "start_time": "2022-01-31T20:34:42.439Z"
   },
   {
    "duration": 36,
    "start_time": "2022-01-31T20:34:42.467Z"
   },
   {
    "duration": 9,
    "start_time": "2022-01-31T20:34:42.506Z"
   },
   {
    "duration": 760,
    "start_time": "2022-01-31T20:34:42.517Z"
   },
   {
    "duration": 91,
    "start_time": "2022-01-31T20:34:43.279Z"
   },
   {
    "duration": 6,
    "start_time": "2022-01-31T20:34:44.224Z"
   },
   {
    "duration": 117,
    "start_time": "2022-01-31T20:38:40.814Z"
   },
   {
    "duration": 478,
    "start_time": "2022-01-31T20:38:50.550Z"
   },
   {
    "duration": 91,
    "start_time": "2022-01-31T20:39:21.110Z"
   },
   {
    "duration": 292,
    "start_time": "2022-01-31T20:39:26.582Z"
   },
   {
    "duration": 280,
    "start_time": "2022-01-31T20:39:47.071Z"
   },
   {
    "duration": 36065,
    "start_time": "2022-01-31T20:40:27.359Z"
   },
   {
    "duration": 7,
    "start_time": "2022-01-31T20:41:12.943Z"
   },
   {
    "duration": 6,
    "start_time": "2022-01-31T20:41:36.152Z"
   },
   {
    "duration": 312,
    "start_time": "2022-01-31T20:42:30.705Z"
   },
   {
    "duration": 5,
    "start_time": "2022-01-31T20:42:46.545Z"
   },
   {
    "duration": 5,
    "start_time": "2022-01-31T20:42:55.401Z"
   },
   {
    "duration": 291,
    "start_time": "2022-01-31T20:43:07.345Z"
   },
   {
    "duration": 8,
    "start_time": "2022-01-31T20:43:15.643Z"
   },
   {
    "duration": 5,
    "start_time": "2022-01-31T20:43:20.633Z"
   },
   {
    "duration": 265,
    "start_time": "2022-01-31T20:43:37.210Z"
   },
   {
    "duration": 287,
    "start_time": "2022-01-31T20:44:14.499Z"
   },
   {
    "duration": 7,
    "start_time": "2022-01-31T20:44:30.075Z"
   },
   {
    "duration": 18617,
    "start_time": "2022-01-31T20:44:41.068Z"
   },
   {
    "duration": 308,
    "start_time": "2022-01-31T20:45:18.563Z"
   },
   {
    "duration": 8,
    "start_time": "2022-01-31T20:45:39.387Z"
   },
   {
    "duration": 100,
    "start_time": "2022-01-31T20:45:48.939Z"
   },
   {
    "duration": 83,
    "start_time": "2022-01-31T20:45:51.795Z"
   },
   {
    "duration": 7,
    "start_time": "2022-01-31T20:46:01.764Z"
   },
   {
    "duration": 7,
    "start_time": "2022-01-31T20:46:06.467Z"
   },
   {
    "duration": 298,
    "start_time": "2022-01-31T20:46:11.195Z"
   },
   {
    "duration": 6,
    "start_time": "2022-01-31T20:46:17.764Z"
   },
   {
    "duration": 7,
    "start_time": "2022-01-31T20:46:35.684Z"
   },
   {
    "duration": 3,
    "start_time": "2022-01-31T20:46:42.700Z"
   },
   {
    "duration": 6,
    "start_time": "2022-01-31T20:47:01.150Z"
   },
   {
    "duration": 9,
    "start_time": "2022-01-31T20:47:36.830Z"
   },
   {
    "duration": 350,
    "start_time": "2022-01-31T20:47:41.413Z"
   },
   {
    "duration": 7,
    "start_time": "2022-01-31T20:47:48.925Z"
   },
   {
    "duration": 78121,
    "start_time": "2022-01-31T20:48:00.982Z"
   },
   {
    "duration": 7,
    "start_time": "2022-01-31T20:49:45.920Z"
   },
   {
    "duration": 6,
    "start_time": "2022-01-31T20:49:57.367Z"
   },
   {
    "duration": 5,
    "start_time": "2022-01-31T20:50:22.936Z"
   },
   {
    "duration": 730555,
    "start_time": "2022-01-31T20:52:14.014Z"
   },
   {
    "duration": 30641,
    "start_time": "2022-01-31T21:04:46.749Z"
   },
   {
    "duration": 3058,
    "start_time": "2022-01-31T21:05:55.270Z"
   },
   {
    "duration": 12690,
    "start_time": "2022-01-31T21:06:41.760Z"
   },
   {
    "duration": 488104,
    "start_time": "2022-01-31T21:07:00.326Z"
   },
   {
    "duration": 10923,
    "start_time": "2022-01-31T21:15:08.433Z"
   },
   {
    "duration": 1068,
    "start_time": "2022-01-31T21:15:19.359Z"
   },
   {
    "duration": 4869,
    "start_time": "2022-01-31T21:15:20.430Z"
   },
   {
    "duration": 554,
    "start_time": "2022-01-31T21:15:25.302Z"
   },
   {
    "duration": 7,
    "start_time": "2022-01-31T21:15:47.736Z"
   },
   {
    "duration": 173340,
    "start_time": "2022-01-31T21:17:32.872Z"
   },
   {
    "duration": 577886,
    "start_time": "2022-01-31T21:21:03.556Z"
   },
   {
    "duration": 21528,
    "start_time": "2022-01-31T21:30:41.445Z"
   },
   {
    "duration": 2199,
    "start_time": "2022-01-31T21:31:02.975Z"
   },
   {
    "duration": 3997,
    "start_time": "2022-01-31T21:49:08.861Z"
   },
   {
    "duration": 453,
    "start_time": "2022-01-31T21:49:12.861Z"
   },
   {
    "duration": 462210,
    "start_time": "2022-01-31T21:49:13.318Z"
   },
   {
    "duration": 11576,
    "start_time": "2022-01-31T21:56:55.531Z"
   },
   {
    "duration": 2490,
    "start_time": "2022-01-31T21:57:07.110Z"
   },
   {
    "duration": 4590,
    "start_time": "2022-01-31T21:58:21.628Z"
   },
   {
    "duration": 3103,
    "start_time": "2022-01-31T21:58:38.140Z"
   },
   {
    "duration": 1445,
    "start_time": "2022-02-01T08:26:06.980Z"
   },
   {
    "duration": 15,
    "start_time": "2022-02-01T08:26:08.777Z"
   },
   {
    "duration": 4,
    "start_time": "2022-02-01T08:26:09.217Z"
   },
   {
    "duration": 13,
    "start_time": "2022-02-01T08:26:09.454Z"
   },
   {
    "duration": 55,
    "start_time": "2022-02-01T08:26:09.949Z"
   },
   {
    "duration": 15,
    "start_time": "2022-02-01T08:26:10.471Z"
   },
   {
    "duration": 4,
    "start_time": "2022-02-01T08:26:11.071Z"
   },
   {
    "duration": 5,
    "start_time": "2022-02-01T08:26:11.125Z"
   },
   {
    "duration": 17,
    "start_time": "2022-02-01T08:26:11.181Z"
   },
   {
    "duration": 12,
    "start_time": "2022-02-01T08:26:11.288Z"
   },
   {
    "duration": 10,
    "start_time": "2022-02-01T08:26:11.344Z"
   },
   {
    "duration": 2421,
    "start_time": "2022-02-01T08:26:11.476Z"
   },
   {
    "duration": 13,
    "start_time": "2022-02-01T08:26:13.899Z"
   },
   {
    "duration": 6,
    "start_time": "2022-02-01T08:26:13.914Z"
   },
   {
    "duration": 11,
    "start_time": "2022-02-01T08:26:13.922Z"
   },
   {
    "duration": 1390,
    "start_time": "2022-02-01T08:26:13.935Z"
   },
   {
    "duration": 11,
    "start_time": "2022-02-01T08:26:15.327Z"
   },
   {
    "duration": 6,
    "start_time": "2022-02-01T08:26:15.340Z"
   },
   {
    "duration": 16,
    "start_time": "2022-02-01T08:26:15.348Z"
   },
   {
    "duration": 1799,
    "start_time": "2022-02-01T08:26:15.366Z"
   },
   {
    "duration": 41,
    "start_time": "2022-02-01T08:26:17.168Z"
   },
   {
    "duration": 8,
    "start_time": "2022-02-01T08:26:17.211Z"
   },
   {
    "duration": 7,
    "start_time": "2022-02-01T08:26:17.221Z"
   },
   {
    "duration": 16,
    "start_time": "2022-02-01T08:26:17.230Z"
   },
   {
    "duration": 524,
    "start_time": "2022-02-01T08:26:17.248Z"
   },
   {
    "duration": 8,
    "start_time": "2022-02-01T08:26:17.807Z"
   },
   {
    "duration": 30,
    "start_time": "2022-02-01T08:26:19.067Z"
   },
   {
    "duration": 30,
    "start_time": "2022-02-01T08:26:19.679Z"
   },
   {
    "duration": 6,
    "start_time": "2022-02-01T08:26:20.266Z"
   },
   {
    "duration": 22,
    "start_time": "2022-02-01T08:26:20.510Z"
   },
   {
    "duration": 7,
    "start_time": "2022-02-01T08:26:21.961Z"
   },
   {
    "duration": 17,
    "start_time": "2022-02-01T08:26:22.171Z"
   },
   {
    "duration": 5,
    "start_time": "2022-02-01T08:26:22.396Z"
   },
   {
    "duration": 32,
    "start_time": "2022-02-01T08:26:24.296Z"
   },
   {
    "duration": 6,
    "start_time": "2022-02-01T08:26:24.571Z"
   },
   {
    "duration": 4,
    "start_time": "2022-02-01T08:26:25.067Z"
   },
   {
    "duration": 17,
    "start_time": "2022-02-01T08:26:25.301Z"
   },
   {
    "duration": 10,
    "start_time": "2022-02-01T08:26:25.671Z"
   },
   {
    "duration": 4,
    "start_time": "2022-02-01T08:26:27.093Z"
   },
   {
    "duration": 30,
    "start_time": "2022-02-01T08:26:27.512Z"
   },
   {
    "duration": 18,
    "start_time": "2022-02-01T08:26:27.906Z"
   },
   {
    "duration": 17,
    "start_time": "2022-02-01T08:26:28.150Z"
   },
   {
    "duration": 6,
    "start_time": "2022-02-01T08:26:29.692Z"
   },
   {
    "duration": 519,
    "start_time": "2022-02-01T08:26:31.078Z"
   },
   {
    "duration": 60,
    "start_time": "2022-02-01T08:26:32.187Z"
   },
   {
    "duration": 4,
    "start_time": "2022-02-01T08:26:32.818Z"
   },
   {
    "duration": 381892,
    "start_time": "2022-02-01T08:26:33.006Z"
   },
   {
    "duration": 7866,
    "start_time": "2022-02-01T08:32:54.900Z"
   },
   {
    "duration": 897,
    "start_time": "2022-02-01T08:33:02.770Z"
   },
   {
    "duration": 3723,
    "start_time": "2022-02-01T08:33:03.670Z"
   },
   {
    "duration": 412,
    "start_time": "2022-02-01T08:33:07.395Z"
   },
   {
    "duration": 458998,
    "start_time": "2022-02-01T08:33:07.809Z"
   },
   {
    "duration": 16202,
    "start_time": "2022-02-01T08:40:46.809Z"
   },
   {
    "duration": 1816,
    "start_time": "2022-02-01T08:41:03.014Z"
   },
   {
    "duration": 2747,
    "start_time": "2022-02-01T08:41:04.833Z"
   },
   {
    "duration": 310,
    "start_time": "2022-02-01T08:41:07.582Z"
   },
   {
    "duration": 364641,
    "start_time": "2022-02-01T08:41:07.894Z"
   },
   {
    "duration": 8804,
    "start_time": "2022-02-01T08:47:12.537Z"
   },
   {
    "duration": 2425,
    "start_time": "2022-02-01T08:47:21.343Z"
   },
   {
    "duration": 3516,
    "start_time": "2022-02-01T08:47:23.770Z"
   },
   {
    "duration": 2390,
    "start_time": "2022-02-01T08:47:27.288Z"
   },
   {
    "duration": 6,
    "start_time": "2022-02-01T09:18:05.849Z"
   },
   {
    "duration": 211,
    "start_time": "2022-02-01T21:37:22.573Z"
   }
  ],
  "kernelspec": {
   "display_name": "Python 3",
   "language": "python",
   "name": "python3"
  },
  "language_info": {
   "codemirror_mode": {
    "name": "ipython",
    "version": 3
   },
   "file_extension": ".py",
   "mimetype": "text/x-python",
   "name": "python",
   "nbconvert_exporter": "python",
   "pygments_lexer": "ipython3",
   "version": "3.7.8"
  },
  "toc": {
   "base_numbering": 1,
   "nav_menu": {},
   "number_sections": true,
   "sideBar": true,
   "skip_h1_title": true,
   "title_cell": "Table of Contents",
   "title_sidebar": "Contents",
   "toc_cell": false,
   "toc_position": {},
   "toc_section_display": true,
   "toc_window_display": false
  }
 },
 "nbformat": 4,
 "nbformat_minor": 2
}
